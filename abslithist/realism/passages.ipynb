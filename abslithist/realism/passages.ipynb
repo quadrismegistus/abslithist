{
 "cells": [
  {
   "cell_type": "markdown",
   "metadata": {},
   "source": [
    "# Getting passages"
   ]
  },
  {
   "cell_type": "code",
   "execution_count": 1,
   "metadata": {},
   "outputs": [],
   "source": [
    "import sys; sys.path.append('../..')\n",
    "from abslithist import *\n",
    "from abslithist.words import *\n",
    "pd.options.display.max_rows=20"
   ]
  },
  {
   "cell_type": "code",
   "execution_count": 2,
   "metadata": {},
   "outputs": [],
   "source": [
    "import lltk\n",
    "C=lltk.load('CanonFiction')"
   ]
  },
  {
   "cell_type": "code",
   "execution_count": 12,
   "metadata": {},
   "outputs": [
    {
     "data": {
      "text/html": [
       "<div>\n",
       "<style scoped>\n",
       "    .dataframe tbody tr th:only-of-type {\n",
       "        vertical-align: middle;\n",
       "    }\n",
       "\n",
       "    .dataframe tbody tr th {\n",
       "        vertical-align: top;\n",
       "    }\n",
       "\n",
       "    .dataframe thead th {\n",
       "        text-align: right;\n",
       "    }\n",
       "</style>\n",
       "<table border=\"1\" class=\"dataframe\">\n",
       "  <thead>\n",
       "    <tr style=\"text-align: right;\">\n",
       "      <th></th>\n",
       "      <th>num_words</th>\n",
       "      <th>num_tokens</th>\n",
       "      <th>num_types</th>\n",
       "      <th>contrast</th>\n",
       "      <th>source</th>\n",
       "      <th>period</th>\n",
       "      <th>num_abs</th>\n",
       "      <th>abs</th>\n",
       "      <th>num_conc</th>\n",
       "      <th>conc</th>\n",
       "      <th>num_neither</th>\n",
       "      <th>neither</th>\n",
       "      <th>num_total</th>\n",
       "      <th>passage</th>\n",
       "      <th>slice</th>\n",
       "      <th>tok_i</th>\n",
       "      <th>abs-conc</th>\n",
       "    </tr>\n",
       "  </thead>\n",
       "  <tbody>\n",
       "    <tr>\n",
       "      <th>0</th>\n",
       "      <td>5</td>\n",
       "      <td>1</td>\n",
       "      <td>1</td>\n",
       "      <td>Abs-Conc</td>\n",
       "      <td>Median</td>\n",
       "      <td>median</td>\n",
       "      <td>0</td>\n",
       "      <td></td>\n",
       "      <td>0</td>\n",
       "      <td></td>\n",
       "      <td>1</td>\n",
       "      <td>n't</td>\n",
       "      <td>1</td>\n",
       "      <td>Of course you are &lt;i&gt;n't&lt;/i&gt;!</td>\n",
       "      <td>1</td>\n",
       "      <td>7</td>\n",
       "      <td>0</td>\n",
       "    </tr>\n",
       "  </tbody>\n",
       "</table>\n",
       "</div>"
      ],
      "text/plain": [
       "   num_words  num_tokens  num_types  contrast  source  period  num_abs abs  \\\n",
       "0          5           1          1  Abs-Conc  Median  median        0       \n",
       "\n",
       "   num_conc conc  num_neither neither  num_total  \\\n",
       "0         0                 1     n't          1   \n",
       "\n",
       "                         passage  slice  tok_i  abs-conc  \n",
       "0  Of course you are <i>n't</i>!      1      7         0  "
      ]
     },
     "execution_count": 12,
     "metadata": {},
     "output_type": "execute_result"
    }
   ],
   "source": [
    "df_helen = count_absconc_psg(\"Of course you aren't!\")#\" C.textd['markmark.Erskine.The_Private_Life_of_Helen.1432'].txt)\n",
    "df_helen"
   ]
  },
  {
   "cell_type": "code",
   "execution_count": 4,
   "metadata": {},
   "outputs": [
    {
     "data": {
      "text/html": [
       "<div>\n",
       "<style scoped>\n",
       "    .dataframe tbody tr th:only-of-type {\n",
       "        vertical-align: middle;\n",
       "    }\n",
       "\n",
       "    .dataframe tbody tr th {\n",
       "        vertical-align: top;\n",
       "    }\n",
       "\n",
       "    .dataframe thead th {\n",
       "        text-align: right;\n",
       "    }\n",
       "</style>\n",
       "<table border=\"1\" class=\"dataframe\">\n",
       "  <thead>\n",
       "    <tr style=\"text-align: right;\">\n",
       "      <th></th>\n",
       "      <th>num_words</th>\n",
       "      <th>num_tokens</th>\n",
       "      <th>num_types</th>\n",
       "      <th>contrast</th>\n",
       "      <th>source</th>\n",
       "      <th>period</th>\n",
       "      <th>num_abs</th>\n",
       "      <th>abs</th>\n",
       "      <th>num_conc</th>\n",
       "      <th>conc</th>\n",
       "      <th>num_neither</th>\n",
       "      <th>neither</th>\n",
       "      <th>num_total</th>\n",
       "      <th>passage</th>\n",
       "      <th>slice</th>\n",
       "      <th>tok_i</th>\n",
       "      <th>abs-conc</th>\n",
       "    </tr>\n",
       "  </thead>\n",
       "  <tbody>\n",
       "    <tr>\n",
       "      <th>182</th>\n",
       "      <td>412</td>\n",
       "      <td>100</td>\n",
       "      <td>74</td>\n",
       "      <td>Abs-Conc</td>\n",
       "      <td>Median</td>\n",
       "      <td>median</td>\n",
       "      <td>5</td>\n",
       "      <td>suppose, extraordinary, greatly</td>\n",
       "      <td>62</td>\n",
       "      <td>shoes, pieces, feet, gold, fine</td>\n",
       "      <td>33</td>\n",
       "      <td>held, belonged, small, english, ease</td>\n",
       "      <td>100</td>\n",
       "      <td>, I found several Things of great Use to me: F...</td>\n",
       "      <td>183</td>\n",
       "      <td>87597</td>\n",
       "      <td>-57</td>\n",
       "    </tr>\n",
       "    <tr>\n",
       "      <th>142</th>\n",
       "      <td>381</td>\n",
       "      <td>100</td>\n",
       "      <td>82</td>\n",
       "      <td>Abs-Conc</td>\n",
       "      <td>Median</td>\n",
       "      <td>median</td>\n",
       "      <td>5</td>\n",
       "      <td>mahometan, expect, somethings, suffered, barba...</td>\n",
       "      <td>57</td>\n",
       "      <td>hung, pair, broad, shoulder, gun</td>\n",
       "      <td>38</td>\n",
       "      <td>shape, turks, length, long, sufficient</td>\n",
       "      <td>100</td>\n",
       "      <td>&lt;i&gt;coming&lt;/i&gt; down to about the &lt;i&gt;&lt;u&gt;Middle&lt;/...</td>\n",
       "      <td>143</td>\n",
       "      <td>67804</td>\n",
       "      <td>-52</td>\n",
       "    </tr>\n",
       "    <tr>\n",
       "      <th>47</th>\n",
       "      <td>420</td>\n",
       "      <td>100</td>\n",
       "      <td>83</td>\n",
       "      <td>Abs-Conc</td>\n",
       "      <td>Median</td>\n",
       "      <td>median</td>\n",
       "      <td>2</td>\n",
       "      <td>encouragements, general</td>\n",
       "      <td>51</td>\n",
       "      <td>shore, raft, chest, stowed, ship</td>\n",
       "      <td>47</td>\n",
       "      <td>began, arms, tools, tide, sea</td>\n",
       "      <td>100</td>\n",
       "      <td>of &lt;i&gt;Rack&lt;/i&gt;, these I &lt;i&gt;&lt;u&gt;stowed&lt;/u&gt;&lt;/i&gt; b...</td>\n",
       "      <td>48</td>\n",
       "      <td>22539</td>\n",
       "      <td>-49</td>\n",
       "    </tr>\n",
       "    <tr>\n",
       "      <th>81</th>\n",
       "      <td>363</td>\n",
       "      <td>100</td>\n",
       "      <td>70</td>\n",
       "      <td>Abs-Conc</td>\n",
       "      <td>Median</td>\n",
       "      <td>median</td>\n",
       "      <td>2</td>\n",
       "      <td>resolved, prevented</td>\n",
       "      <td>50</td>\n",
       "      <td>crow, pieces, timber, casks, hatchet</td>\n",
       "      <td>48</td>\n",
       "      <td>wreck, tide, lead, heavy, hard</td>\n",
       "      <td>100</td>\n",
       "      <td>: I left the &lt;i&gt;&lt;u&gt;Iron&lt;/u&gt;&lt;/i&gt; &lt;i&gt;&lt;u&gt;Crow&lt;/u&gt;...</td>\n",
       "      <td>82</td>\n",
       "      <td>38153</td>\n",
       "      <td>-48</td>\n",
       "    </tr>\n",
       "    <tr>\n",
       "      <th>80</th>\n",
       "      <td>359</td>\n",
       "      <td>100</td>\n",
       "      <td>70</td>\n",
       "      <td>Abs-Conc</td>\n",
       "      <td>Median</td>\n",
       "      <td>median</td>\n",
       "      <td>3</td>\n",
       "      <td>resolved, concluding, learned</td>\n",
       "      <td>49</td>\n",
       "      <td>sand, cut, pieces, ship, caught</td>\n",
       "      <td>48</td>\n",
       "      <td>wreck, lay, eat, tide, beam</td>\n",
       "      <td>100</td>\n",
       "      <td>, for that all the &lt;i&gt;&lt;u&gt;Inside&lt;/u&gt;&lt;/i&gt; of the...</td>\n",
       "      <td>81</td>\n",
       "      <td>37721</td>\n",
       "      <td>-46</td>\n",
       "    </tr>\n",
       "    <tr>\n",
       "      <th>...</th>\n",
       "      <td>...</td>\n",
       "      <td>...</td>\n",
       "      <td>...</td>\n",
       "      <td>...</td>\n",
       "      <td>...</td>\n",
       "      <td>...</td>\n",
       "      <td>...</td>\n",
       "      <td>...</td>\n",
       "      <td>...</td>\n",
       "      <td>...</td>\n",
       "      <td>...</td>\n",
       "      <td>...</td>\n",
       "      <td>...</td>\n",
       "      <td>...</td>\n",
       "      <td>...</td>\n",
       "      <td>...</td>\n",
       "      <td>...</td>\n",
       "    </tr>\n",
       "    <tr>\n",
       "      <th>125</th>\n",
       "      <td>460</td>\n",
       "      <td>100</td>\n",
       "      <td>90</td>\n",
       "      <td>Abs-Conc</td>\n",
       "      <td>Median</td>\n",
       "      <td>median</td>\n",
       "      <td>46</td>\n",
       "      <td>aught, enjoyed, sense, mercy, condition</td>\n",
       "      <td>4</td>\n",
       "      <td>ship, mouth, ravens, store</td>\n",
       "      <td>50</td>\n",
       "      <td>daily, long, hardened, cast, series</td>\n",
       "      <td>100</td>\n",
       "      <td>Life, and into &lt;i&gt;Sea-faring&lt;/i&gt; &lt;i&gt;Company&lt;/i...</td>\n",
       "      <td>126</td>\n",
       "      <td>59446</td>\n",
       "      <td>42</td>\n",
       "    </tr>\n",
       "    <tr>\n",
       "      <th>206</th>\n",
       "      <td>355</td>\n",
       "      <td>100</td>\n",
       "      <td>82</td>\n",
       "      <td>Abs-Conc</td>\n",
       "      <td>Median</td>\n",
       "      <td>median</td>\n",
       "      <td>45</td>\n",
       "      <td>knowledge, spirit, revelation, repent, nature</td>\n",
       "      <td>2</td>\n",
       "      <td>stool, foot</td>\n",
       "      <td>53</td>\n",
       "      <td>guide, christ, kill, soul, poor</td>\n",
       "      <td>100</td>\n",
       "      <td>&lt;i&gt;Pit&lt;/i&gt;, to &lt;i&gt;dwell&lt;/i&gt; with &lt;i&gt;everlastin...</td>\n",
       "      <td>207</td>\n",
       "      <td>99910</td>\n",
       "      <td>43</td>\n",
       "    </tr>\n",
       "    <tr>\n",
       "      <th>162</th>\n",
       "      <td>443</td>\n",
       "      <td>100</td>\n",
       "      <td>89</td>\n",
       "      <td>Abs-Conc</td>\n",
       "      <td>Median</td>\n",
       "      <td>median</td>\n",
       "      <td>47</td>\n",
       "      <td>commit, crime, humane, wrong, reproaching</td>\n",
       "      <td>2</td>\n",
       "      <td>mutton, piece</td>\n",
       "      <td>51</td>\n",
       "      <td>spaniards, fall, eat, bloody, kill</td>\n",
       "      <td>100</td>\n",
       "      <td>, whom &lt;i&gt;Heaven&lt;/i&gt; had thought &lt;i&gt;fit&lt;/i&gt; fo...</td>\n",
       "      <td>163</td>\n",
       "      <td>77578</td>\n",
       "      <td>45</td>\n",
       "    </tr>\n",
       "    <tr>\n",
       "      <th>84</th>\n",
       "      <td>415</td>\n",
       "      <td>100</td>\n",
       "      <td>90</td>\n",
       "      <td>Abs-Conc</td>\n",
       "      <td>Median</td>\n",
       "      <td>median</td>\n",
       "      <td>48</td>\n",
       "      <td>wicked, sense, punishment, danger, relating</td>\n",
       "      <td>2</td>\n",
       "      <td>spear, upward</td>\n",
       "      <td>50</td>\n",
       "      <td>dream, soul, common, hand, horrors</td>\n",
       "      <td>100</td>\n",
       "      <td>up the &lt;i&gt;&lt;u&gt;Spear&lt;/u&gt;&lt;/i&gt; that was in his &lt;i&gt;...</td>\n",
       "      <td>85</td>\n",
       "      <td>39473</td>\n",
       "      <td>46</td>\n",
       "    </tr>\n",
       "    <tr>\n",
       "      <th>208</th>\n",
       "      <td>338</td>\n",
       "      <td>100</td>\n",
       "      <td>90</td>\n",
       "      <td>Abs-Conc</td>\n",
       "      <td>Median</td>\n",
       "      <td>median</td>\n",
       "      <td>51</td>\n",
       "      <td>scripture, salvation, knowledge, christian, do...</td>\n",
       "      <td>0</td>\n",
       "      <td></td>\n",
       "      <td>49</td>\n",
       "      <td>reading, perfectly, savage, read, observing</td>\n",
       "      <td>100</td>\n",
       "      <td>which &lt;i&gt;employed&lt;/i&gt; the &lt;i&gt;Hours&lt;/i&gt; between...</td>\n",
       "      <td>209</td>\n",
       "      <td>100750</td>\n",
       "      <td>51</td>\n",
       "    </tr>\n",
       "  </tbody>\n",
       "</table>\n",
       "<p>287 rows × 17 columns</p>\n",
       "</div>"
      ],
      "text/plain": [
       "     num_words  num_tokens  num_types  contrast  source  period  num_abs  \\\n",
       "182        412         100         74  Abs-Conc  Median  median        5   \n",
       "142        381         100         82  Abs-Conc  Median  median        5   \n",
       "47         420         100         83  Abs-Conc  Median  median        2   \n",
       "81         363         100         70  Abs-Conc  Median  median        2   \n",
       "80         359         100         70  Abs-Conc  Median  median        3   \n",
       "..         ...         ...        ...       ...     ...     ...      ...   \n",
       "125        460         100         90  Abs-Conc  Median  median       46   \n",
       "206        355         100         82  Abs-Conc  Median  median       45   \n",
       "162        443         100         89  Abs-Conc  Median  median       47   \n",
       "84         415         100         90  Abs-Conc  Median  median       48   \n",
       "208        338         100         90  Abs-Conc  Median  median       51   \n",
       "\n",
       "                                                   abs  num_conc  \\\n",
       "182                    suppose, extraordinary, greatly        62   \n",
       "142  mahometan, expect, somethings, suffered, barba...        57   \n",
       "47                             encouragements, general        51   \n",
       "81                                 resolved, prevented        50   \n",
       "80                       resolved, concluding, learned        49   \n",
       "..                                                 ...       ...   \n",
       "125            aught, enjoyed, sense, mercy, condition         4   \n",
       "206      knowledge, spirit, revelation, repent, nature         2   \n",
       "162          commit, crime, humane, wrong, reproaching         2   \n",
       "84         wicked, sense, punishment, danger, relating         2   \n",
       "208  scripture, salvation, knowledge, christian, do...         0   \n",
       "\n",
       "                                     conc  num_neither  \\\n",
       "182       shoes, pieces, feet, gold, fine           33   \n",
       "142      hung, pair, broad, shoulder, gun           38   \n",
       "47       shore, raft, chest, stowed, ship           47   \n",
       "81   crow, pieces, timber, casks, hatchet           48   \n",
       "80        sand, cut, pieces, ship, caught           48   \n",
       "..                                    ...          ...   \n",
       "125            ship, mouth, ravens, store           50   \n",
       "206                           stool, foot           53   \n",
       "162                         mutton, piece           51   \n",
       "84                          spear, upward           50   \n",
       "208                                                 49   \n",
       "\n",
       "                                         neither  num_total  \\\n",
       "182         held, belonged, small, english, ease        100   \n",
       "142       shape, turks, length, long, sufficient        100   \n",
       "47                 began, arms, tools, tide, sea        100   \n",
       "81                wreck, tide, lead, heavy, hard        100   \n",
       "80                   wreck, lay, eat, tide, beam        100   \n",
       "..                                           ...        ...   \n",
       "125          daily, long, hardened, cast, series        100   \n",
       "206              guide, christ, kill, soul, poor        100   \n",
       "162           spaniards, fall, eat, bloody, kill        100   \n",
       "84            dream, soul, common, hand, horrors        100   \n",
       "208  reading, perfectly, savage, read, observing        100   \n",
       "\n",
       "                                               passage  slice   tok_i  \\\n",
       "182  , I found several Things of great Use to me: F...    183   87597   \n",
       "142  <i>coming</i> down to about the <i><u>Middle</...    143   67804   \n",
       "47   of <i>Rack</i>, these I <i><u>stowed</u></i> b...     48   22539   \n",
       "81   : I left the <i><u>Iron</u></i> <i><u>Crow</u>...     82   38153   \n",
       "80   , for that all the <i><u>Inside</u></i> of the...     81   37721   \n",
       "..                                                 ...    ...     ...   \n",
       "125  Life, and into <i>Sea-faring</i> <i>Company</i...    126   59446   \n",
       "206  <i>Pit</i>, to <i>dwell</i> with <i>everlastin...    207   99910   \n",
       "162  , whom <i>Heaven</i> had thought <i>fit</i> fo...    163   77578   \n",
       "84   up the <i><u>Spear</u></i> that was in his <i>...     85   39473   \n",
       "208  which <i>employed</i> the <i>Hours</i> between...    209  100750   \n",
       "\n",
       "     abs-conc  \n",
       "182       -57  \n",
       "142       -52  \n",
       "47        -49  \n",
       "81        -48  \n",
       "80        -46  \n",
       "..        ...  \n",
       "125        42  \n",
       "206        43  \n",
       "162        45  \n",
       "84         46  \n",
       "208        51  \n",
       "\n",
       "[287 rows x 17 columns]"
      ]
     },
     "execution_count": 4,
     "metadata": {},
     "output_type": "execute_result"
    }
   ],
   "source": [
    "df_robinson=count_absconc_psg(C.textd['chadwyck.Defoe.Robinson_Crusoe.1022'].txt)\n",
    "# df_robinson=count_absconc_psg(\"He continue'd on his way, arm'd with his swordes\")#C.textd['chadwyck.Defoe.Robinson_Crusoe.1022'].txt)\n",
    "df_robinson"
   ]
  },
  {
   "cell_type": "code",
   "execution_count": 5,
   "metadata": {},
   "outputs": [
    {
     "data": {
      "text/markdown": [
       ", I found several Things of great Use to me: For Example, I found in one a <i><u>fine</u></i> Case of <i><u>Bottles</u></i>, of an <i><b>extraordinary</b></i> <i>Kind</i>, and <i>filled</i> with <i>Cordial</i> <i>Waters</i>, <i><u>fine</u></i>, and very good; the <i><u>Bottles</u></i> <i>held</i> about three <i><u>Pints</u></i> each, and were <i><u>tipped</u></i> with <i><u>Silver</u></i>: I found two <i><u>Pots</u></i> of very good Succades, or <i><u>Sweetmeats</u></i>, so <i><u>fastened</u></i> also on Top, that the <i><u>Salt</u></i> <i><u>Water</u></i> had not <i>hurt</i> them; and two more of the same, which the <i><u>Water</u></i> had <i>spoiled</i>: I found some very good <i><u>Shirts</u></i>, which were very welcome to me, and about a <i><u>Dozen</u></i> and <i><u>half</u></i> of <i><u>Linnen</u></i> <i><u>white</u></i> <i><u>Handkerchiefs</u></i>, and <i><u>coloured</u></i> Neckloths; the former were also very welcome, being <i>exceeding</i> <i>refreshing</i> to <i>wipe</i> my <i>Face</i> in a <i><u>hight</u></i> Day; beside this, when I came to the Till in the <i><u>Chests</u></i>, I found there three great <i><u>Bags</u></i> of <i><u>Pieces</u></i> of Eight, which <i>held</i> out about eleven hundred <i><u>Pieces</u></i> in all; and in one of them, <i><u>wrapped</u></i> up in a <i>Paper</i>, six <i><u>Doubloons</u></i> of <i><u>Gold</u></i>, and some <i>small</i> <i><u>Bars</u></i> or <i><u>Wedges</u></i> of <i><u>Gold</u></i>; I <i><b>suppose</b></i> they might all <i>weigh</i> near a <i><u>Pound</u></i>. The other <i><u>Chest</u></i> I found had some <i><u>Cloaths</u></i> in it, but of little Value; but by the Circumstances it must have <i>belonged</i> to the <i><u>Gunner</u></i>'s <i>Mate</i>, though there was no <i><u>Powder</u></i> in it, but about two <i><u>Pound</u></i> of <i><u>fine</u></i> <i><u>glazed</u></i> <i><u>Powder</u></i>, in three <i>small</i> <i><u>Flasks</u></i>, kept, I <i><b>suppose</b></i>, for <i>charging</i> their <i><u>Fowling</u></i> <i><u>Pieces</u></i> on Occasion: Upon the Whole, I God very little by this <i>Voyage</i>, that was of any Use to me; for as to the <i>Money</i>, I had no Manner of Occasion for it;'it to me as the <i><u>Dirt</u></i> under my <i><u>Feet</u></i>; and I would have given it all for three or four <i><u>Pair</u></i> of <i>English</i> <i><u>Shoes</u></i> and <i><u>Stockings</u></i>, which were Things I <i><b>greatly</b></i> wanted, but had not had on my <i><u>Feet</u></i> now for many Years: I had, indeed, got two <i><u>Pair</u></i> of <i><u>Shoes</u></i> now, which I took off of the <i><u>Feet</u></i> of the two <i>drowned</i> Men, who I saw in the <i>Wreck</i>; and I found two <i><u>Pair</u></i> more in one of the <i><u>Chests</u></i>, which were very welcome to me; but they were not Like our <i>English</i> <i><u>Shoes</u></i>, either for <i>Ease</i> or <i>Service</i>, being rather what we call <i><u>Pumps</u></i> than <i><u>Shoes</u></i>: I found in this <i>Seaman</i>'s <i><u>Chest</u></i> about <i>fifty</i> <i><u>Pieces</u></i> of Eight in <i><u>Royals</u></i>, but no <i><u>Gold</u></i>; I <i><b>suppose</b></i> this <i>belonged</i> to a <i>poorer</i> Man than the other, which seemed to <i>belong</i> to some <i>Officer</i>. Well, however, I <i><u>lug</u></i>"
      ],
      "text/plain": [
       "<IPython.core.display.Markdown object>"
      ]
     },
     "metadata": {},
     "output_type": "display_data"
    }
   ],
   "source": [
    "printm(df_robinson.passage.iloc[0])"
   ]
  },
  {
   "cell_type": "code",
   "execution_count": 6,
   "metadata": {},
   "outputs": [
    {
     "ename": "NameError",
     "evalue": "name 'stop' is not defined",
     "output_type": "error",
     "traceback": [
      "\u001b[0;31m---------------------------------------------------------------------------\u001b[0m",
      "\u001b[0;31mNameError\u001b[0m                                 Traceback (most recent call last)",
      "\u001b[0;32m<ipython-input-6-4f76a9dad686>\u001b[0m in \u001b[0;36m<module>\u001b[0;34m\u001b[0m\n\u001b[0;32m----> 1\u001b[0;31m \u001b[0mstop\u001b[0m\u001b[0;34m\u001b[0m\u001b[0;34m\u001b[0m\u001b[0m\n\u001b[0m",
      "\u001b[0;31mNameError\u001b[0m: name 'stop' is not defined"
     ]
    }
   ],
   "source": [
    "stop"
   ]
  },
  {
   "cell_type": "code",
   "execution_count": null,
   "metadata": {},
   "outputs": [],
   "source": [
    "df_amadis=count_absconc(C.textd['Montalvo.Amadis of Gaul.Book 1'].txt + ' and arm\\'d with feare and swordes')\n",
    "df_amadis"
   ]
  },
  {
   "cell_type": "code",
   "execution_count": null,
   "metadata": {},
   "outputs": [],
   "source": [
    "df_amadis.median()"
   ]
  },
  {
   "cell_type": "code",
   "execution_count": null,
   "metadata": {},
   "outputs": [],
   "source": []
  },
  {
   "cell_type": "code",
   "execution_count": null,
   "metadata": {},
   "outputs": [],
   "source": [
    "printm(df_amadis.sort_values('slice').passage.iloc[-1])"
   ]
  },
  {
   "cell_type": "code",
   "execution_count": null,
   "metadata": {},
   "outputs": [],
   "source": [
    "printm(df_amadis.sort_values('abs-conc').passage.iloc[0])"
   ]
  },
  {
   "cell_type": "code",
   "execution_count": null,
   "metadata": {},
   "outputs": [],
   "source": []
  },
  {
   "cell_type": "code",
   "execution_count": null,
   "metadata": {},
   "outputs": [],
   "source": [
    "df_pamela=count_absconc_psg(C.textd['Richardson.Pamela'].txt)\n",
    "df_pamela"
   ]
  },
  {
   "cell_type": "code",
   "execution_count": null,
   "metadata": {},
   "outputs": [],
   "source": [
    "printm(df_pamela.passage.iloc[0])"
   ]
  },
  {
   "cell_type": "code",
   "execution_count": null,
   "metadata": {},
   "outputs": [],
   "source": [
    "printm(df_pamela.passage.iloc[-1])"
   ]
  },
  {
   "cell_type": "code",
   "execution_count": null,
   "metadata": {},
   "outputs": [],
   "source": [
    "df_bovary=count_absconc_psg(C.textd['Flaubert.Madame Bovary'].txt)\n",
    "df_bovary"
   ]
  },
  {
   "cell_type": "code",
   "execution_count": null,
   "metadata": {},
   "outputs": [],
   "source": [
    "printm(df_bovary.passage.iloc[0])"
   ]
  },
  {
   "cell_type": "code",
   "execution_count": null,
   "metadata": {},
   "outputs": [],
   "source": [
    "# printm(df_bovary.passage.iloc[-1])"
   ]
  },
  {
   "cell_type": "code",
   "execution_count": null,
   "metadata": {},
   "outputs": [],
   "source": [
    "df_amadis.median()"
   ]
  },
  {
   "cell_type": "code",
   "execution_count": null,
   "metadata": {},
   "outputs": [],
   "source": [
    "df_pamela.median()"
   ]
  },
  {
   "cell_type": "code",
   "execution_count": null,
   "metadata": {},
   "outputs": [],
   "source": [
    "df_bovary.median()"
   ]
  },
  {
   "cell_type": "code",
   "execution_count": null,
   "metadata": {},
   "outputs": [],
   "source": []
  },
  {
   "cell_type": "code",
   "execution_count": null,
   "metadata": {},
   "outputs": [],
   "source": [
    "df_helio=count_absconc_psg(C.textd['Heliodorus.Aethopian Story.Underdowne+Wright trans'].txt)\n",
    "df_helio"
   ]
  },
  {
   "cell_type": "code",
   "execution_count": null,
   "metadata": {},
   "outputs": [],
   "source": [
    "df_helio.median()"
   ]
  },
  {
   "cell_type": "code",
   "execution_count": null,
   "metadata": {},
   "outputs": [],
   "source": [
    "printm(df_helio.passage.iloc[0])"
   ]
  },
  {
   "cell_type": "code",
   "execution_count": null,
   "metadata": {},
   "outputs": [],
   "source": [
    "printm(df_helio.passage.iloc[-1])"
   ]
  },
  {
   "cell_type": "code",
   "execution_count": null,
   "metadata": {},
   "outputs": [],
   "source": [
    "df_lsusan = count_absconc_psg(C.textd['chadwyck.Austen.Lady_Susan_in_The_Works_o.1091'].txt)\n",
    "df_lsusan"
   ]
  },
  {
   "cell_type": "code",
   "execution_count": null,
   "metadata": {},
   "outputs": [],
   "source": [
    "printm(df_lsusan.passage.iloc[-1].replace('\\n\\n','\\n'))"
   ]
  },
  {
   "cell_type": "code",
   "execution_count": null,
   "metadata": {},
   "outputs": [],
   "source": [
    "df_lsusan.median()"
   ]
  },
  {
   "cell_type": "code",
   "execution_count": null,
   "metadata": {},
   "outputs": [],
   "source": []
  }
 ],
 "metadata": {
  "kernelspec": {
   "display_name": "Python 3",
   "language": "python",
   "name": "python3"
  },
  "language_info": {
   "codemirror_mode": {
    "name": "ipython",
    "version": 3
   },
   "file_extension": ".py",
   "mimetype": "text/x-python",
   "name": "python",
   "nbconvert_exporter": "python",
   "pygments_lexer": "ipython3",
   "version": "3.7.7"
  },
  "widgets": {
   "application/vnd.jupyter.widget-state+json": {
    "state": {},
    "version_major": 2,
    "version_minor": 0
   }
  }
 },
 "nbformat": 4,
 "nbformat_minor": 4
}
