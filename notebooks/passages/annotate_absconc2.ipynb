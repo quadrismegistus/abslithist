{
 "cells": [
  {
   "cell_type": "markdown",
   "metadata": {},
   "source": [
    "# Annotations"
   ]
  },
  {
   "cell_type": "code",
<<<<<<< HEAD
   "execution_count": 1,
=======
   "execution_count": 17,
>>>>>>> ffd935b4afb7acfab2b22d8a7be044d524564e41
   "metadata": {},
   "outputs": [],
   "source": [
    "fnabs='../../data/psgs/data.psgs.CanonFiction.v5.abs.jsonl'\n",
    "fnconc='../../data/psgs/data.psgs.CanonFiction.v5.conc.jsonl'\n",
    "fnarcadia='../../data/psgs/data.psgs.arcadia.jsonl'"
   ]
  },
  {
   "cell_type": "code",
<<<<<<< HEAD
   "execution_count": 4,
   "metadata": {},
   "outputs": [],
   "source": [
    "# !head $fnconc"
   ]
  },
  {
   "cell_type": "code",
=======
>>>>>>> ffd935b4afb7acfab2b22d8a7be044d524564e41
   "execution_count": 18,
   "metadata": {},
   "outputs": [],
   "source": [
    "labels_abs = [\n",
    "    'CharDesc',\n",
    "    'Epistemology',\n",
    "    'Propriety',\n",
    "    'Morality',\n",
    "    'Religion',\n",
    "    'PersAbs',\n",
    "    'SocialAnalysis',\n",
    "    'Action',\n",
    "    'AbsGen',\n",
    "    'Interiority',\n",
    "    'Romance',\n",
    "    'Dialogue',\n",
    "    'Detailed',\n",
    "    'SlowTime',\n",
    "    'Domestic',\n",
    "    'Intersocial'\n",
    "]"
   ]
  },
  {
   "cell_type": "code",
   "execution_count": 19,
   "metadata": {},
   "outputs": [],
   "source": [
    "labels_conc = [\n",
    "    'Combat',\n",
    "    'Intersocial',\n",
    "    'Domestic',\n",
    "    'BodyDesc',\n",
    "    'CharDesc',\n",
    "    'PlaceDesc',\n",
    "    'Movement',\n",
    "    'ConcEmo',\n",
    "    'Grotesque',\n",
    "    'Catalogue',\n",
    "    'Dialogue',\n",
    "    'Detailed',\n",
    "    'SlowTime',\n",
    "    'ObjDesc',\n",
    "    'Figural',\n",
    "    'Inference',\n",
    "    'InflatedStyle'\n",
    "]"
   ]
  },
  {
   "cell_type": "code",
   "execution_count": 20,
   "metadata": {},
   "outputs": [
    {
     "data": {
      "text/plain": [
       "(16, 17)"
      ]
     },
     "execution_count": 20,
     "metadata": {},
     "output_type": "execute_result"
    }
   ],
   "source": [
    "len(labels_abs),len(labels_conc)"
   ]
  },
  {
   "cell_type": "code",
   "execution_count": 21,
   "metadata": {},
   "outputs": [],
   "source": [
    "dataset_abs='abs_v5'\n",
    "dataset_conc='conc_v5'\n",
    "dataset_arcadia='oldarcadia1'"
   ]
  },
  {
   "cell_type": "code",
   "execution_count": 22,
   "metadata": {},
   "outputs": [
    {
     "name": "stdout",
     "output_type": "stream",
     "text": [
      "python -m prodigy textcat.manual abs_v5 ../../data/psgs/data.psgs.CanonFiction.v5.abs.jsonl --label ABSGEN,ACTION,CHARDESC,DETAILED,DIALOGUE,DOMESTIC,EPISTEMOLOGY,INTERIORITY,INTERSOCIAL,MORALITY,PERSABS,PROPRIETY,RELIGION,ROMANCE,SLOWTIME,SOCIALANALYSIS \n",
      "\n",
      " python -m prodigy textcat.manual conc_v5 ../../data/psgs/data.psgs.CanonFiction.v5.conc.jsonl --label BODYDESC,CATALOGUE,CHARDESC,COMBAT,CONCEMO,DETAILED,DIALOGUE,DOMESTIC,FIGURAL,GROTESQUE,INFERENCE,INFLATEDSTYLE,INTERSOCIAL,MOVEMENT,OBJDESC,PLACEDESC,SLOWTIME\n"
     ]
    }
   ],
   "source": [
    "cmd_abs = f'python -m prodigy textcat.manual {dataset_abs} {fnabs} --label {\",\".join(sorted(labels_abs)).upper()}'\n",
    "cmd_conc = f'python -m prodigy textcat.manual {dataset_conc} {fnconc} --label {\",\".join(sorted(labels_conc)).upper()}'\n",
    "cmd_conc = f'python -m prodigy textcat.manual {dataset_arcadia} {fnarcadia} --label {\",\".join(sorted(labels_conc)).upper()}'\n",
    "print(cmd_abs,'\\n\\n',cmd_conc)"
   ]
  },
  {
   "cell_type": "code",
   "execution_count": 23,
   "metadata": {},
   "outputs": [
    {
     "name": "stdout",
     "output_type": "stream",
     "text": [
      "Using 16 label(s): ABSGEN, ACTION, CHARDESC, DETAILED, DIALOGUE, DOMESTIC,\n",
      "EPISTEMOLOGY, INTERIORITY, INTERSOCIAL, MORALITY, PERSABS, PROPRIETY, RELIGION,\n",
      "ROMANCE, SLOWTIME, SOCIALANALYSIS\n",
      "\n",
      "✨  Starting the web server at http://0.0.0.0:8080 ...\n",
      "Open the app in your browser and start annotating!\n",
      "\n",
      "^C\n",
      "\n",
      "\u001b[38;5;2m✔ Saved 1 annotations to database SQLite\u001b[0m\n",
      "Dataset: abs_v5\n",
      "Session ID: 2021-02-20_19-53-14\n",
      "\n"
     ]
    }
   ],
   "source": [
    "!{cmd_abs}"
   ]
  },
  {
   "cell_type": "code",
   "execution_count": 14,
   "metadata": {},
   "outputs": [],
   "source": [
    "import json\n",
    "with open(fnabs) as f:\n",
    "    for ln in f:\n",
    "        json.loads(ln)"
   ]
  },
  {
   "cell_type": "code",
   "execution_count": null,
   "metadata": {},
   "outputs": [],
   "source": []
  }
 ],
 "metadata": {
  "kernelspec": {
   "display_name": "Python 3",
   "language": "python",
   "name": "python3"
  },
  "language_info": {
   "codemirror_mode": {
    "name": "ipython",
    "version": 3
   },
   "file_extension": ".py",
   "mimetype": "text/x-python",
   "name": "python",
   "nbconvert_exporter": "python",
   "pygments_lexer": "ipython3",
   "version": "3.7.7"
  },
  "widgets": {
   "application/vnd.jupyter.widget-state+json": {
    "state": {},
    "version_major": 2,
    "version_minor": 0
   }
  }
 },
 "nbformat": 4,
 "nbformat_minor": 4
<<<<<<< HEAD
}
=======
}
>>>>>>> ffd935b4afb7acfab2b22d8a7be044d524564e41
