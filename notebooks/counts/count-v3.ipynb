{
 "cells": [
  {
   "cell_type": "code",
   "execution_count": 187,
   "metadata": {},
   "outputs": [],
   "source": [
    "# Count type 2"
   ]
  },
  {
   "cell_type": "code",
   "execution_count": 190,
   "metadata": {},
   "outputs": [],
   "source": [
    "from IPython.core.magic import register_cell_magic\n",
    "@register_cell_magic\n",
    "def write_and_run(line, cell):\n",
    "    argz = line.split()\n",
    "    file = argz[-1]\n",
    "    mode = 'w'\n",
    "    if len(argz) == 2 and argz[0] == '-a':\n",
    "        mode = 'a'\n",
    "    with open(file, mode) as f:\n",
    "        f.write(cell)\n",
    "    get_ipython().run_cell(cell)"
   ]
  },
  {
   "cell_type": "code",
   "execution_count": 191,
   "metadata": {},
   "outputs": [],
   "source": [
    "import lltk\n",
    "C=lltk.load('CanonFiction')"
   ]
  },
  {
   "cell_type": "code",
   "execution_count": 192,
   "metadata": {},
   "outputs": [],
   "source": [
    "%%write_and_run .count.slingshot.v2.py\n",
    "\n",
    "### SLINGSHOT\n",
    "\n",
    "import sys\n",
    "sys.path.append('../..')\n",
    "from abslithist.words import *\n",
    "import ujson as json\n",
    "\n",
    "dfnorms=get_allnorms()\n",
    "\n",
    "def score_freqs(inpd):\n",
    "    path_freqs=inpd['path_freqs']\n",
    "    try:\n",
    "        with open(path_freqs) as f: freqs=json.load(f)\n",
    "    except Exception:\n",
    "        return []\n",
    "    freql=[w for w,c in freqs.items() for i in range(c)]\n",
    "    freqdf=pd.DataFrame(index=freql)\n",
    "    \n",
    "    # by col\n",
    "    odf=pd.DataFrame()\n",
    "    for col in dfnorms.columns:\n",
    "        scol=dfnorms[col]\n",
    "        scoldf=freqdf.join(scol.dropna().to_frame(),how='inner')\n",
    "        # make avg\n",
    "        avgdf=pd.DataFrame(dict((x,scoldf.agg(x)) for x in ['mean','median','sum','std','size']))\n",
    "        odf=odf.append(avgdf)\n",
    "    return odf.rename_axis('norm').reset_index().to_dict('records')"
   ]
  },
  {
   "cell_type": "code",
   "execution_count": 182,
   "metadata": {},
   "outputs": [],
   "source": [
    "# score_freqs(C.t.path_freqs)"
   ]
  },
  {
   "cell_type": "code",
   "execution_count": 184,
   "metadata": {},
   "outputs": [],
   "source": [
    "# prepare objects\n",
    "objects = [\n",
    "    {'id':t.id, 'path_freqs':t.path_freqs}\n",
    "    for t in C.texts()\n",
    "]"
   ]
  },
  {
   "cell_type": "code",
   "execution_count": 185,
   "metadata": {},
   "outputs": [],
   "source": [
    "# score_freqs(objects[0])"
   ]
  },
  {
   "cell_type": "code",
   "execution_count": 186,
   "metadata": {},
   "outputs": [
    {
     "name": "stderr",
     "output_type": "stream",
     "text": [
      "[Slingshot] Preparing input: 100%|██████████| 1809/1809 [00:00<00:00, 73952.92it/s]\n"
     ]
    },
    {
     "data": {
      "text/plain": [
       "'slingshot -code ../../data/scores/v2/func.py -func score_freqs -pathlist ../../data/scores/v2/input.jsonl -savedir ../../data/scores/v2 -resume -resume -nosave'"
      ]
     },
     "execution_count": 186,
     "metadata": {},
     "output_type": "execute_result"
    }
   ],
   "source": [
    "# Slingshot!\n",
    "import mpi_slingshot as sl\n",
    "cmd = sl.shoot(\n",
    "    func='score_freqs',\n",
    "    path_src='.count.slingshot.v2.py',\n",
    "    objects=objects,\n",
    "    savedir='../../data/scores/v2',\n",
    "#     overwrite=True\n",
    ")\n",
    "cmd"
   ]
  },
  {
   "cell_type": "code",
   "execution_count": null,
   "metadata": {},
   "outputs": [],
   "source": [
    "!{cmd}"
   ]
  },
  {
   "cell_type": "code",
   "execution_count": null,
   "metadata": {},
   "outputs": [],
   "source": []
  }
 ],
 "metadata": {
  "kernelspec": {
   "display_name": "Python 3",
   "language": "python",
   "name": "python3"
  },
  "language_info": {
   "codemirror_mode": {
    "name": "ipython",
    "version": 3
   },
   "file_extension": ".py",
   "mimetype": "text/x-python",
   "name": "python",
   "nbconvert_exporter": "python",
   "pygments_lexer": "ipython3",
   "version": "3.7.7"
  },
  "widgets": {
   "application/vnd.jupyter.widget-state+json": {
    "state": {},
    "version_major": 2,
    "version_minor": 0
   }
  }
 },
 "nbformat": 4,
 "nbformat_minor": 4
}
