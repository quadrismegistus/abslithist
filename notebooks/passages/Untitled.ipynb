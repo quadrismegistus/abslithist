{
 "cells": [
  {
   "cell_type": "code",
   "execution_count": 1,
   "metadata": {},
   "outputs": [],
   "source": [
<<<<<<< HEAD
    "import sys; sys.path.append('../..')\n",
    "from abslithist import *\n",
    "dfall=get_current_dfall_psgs()"
=======
    "import sys\n",
    "sys.path.append('../..')\n",
    "from abslithist import *"
>>>>>>> ffd935b4afb7acfab2b22d8a7be044d524564e41
   ]
  },
  {
   "cell_type": "code",
<<<<<<< HEAD
   "execution_count": 7,
   "metadata": {},
   "outputs": [
    {
     "data": {
      "text/plain": [
       "7.938926794453316"
      ]
     },
     "execution_count": 7,
     "metadata": {},
     "output_type": "execute_result"
    }
   ],
   "source": [
    "dfall[dfall.id==C.au.Austen.SenseAndSensibilityANovel.id].mean().value / dfall[dfall.id==C.au.Cusk.Outline.id].mean().value"
=======
   "execution_count": 2,
   "metadata": {},
   "outputs": [],
   "source": [
    "df=pd.read_csv('../../data/counts/data.absconc.CanonFiction.psgs.v7.csv.gz')"
>>>>>>> ffd935b4afb7acfab2b22d8a7be044d524564e41
   ]
  },
  {
   "cell_type": "code",
<<<<<<< HEAD
   "execution_count": 5,
   "metadata": {},
   "outputs": [
    {
     "data": {
      "text/plain": [
       "_window      163.000000\n",
       "_i         63991.504587\n",
       "value         -0.071450\n",
       "index        420.000000\n",
       "year        2014.000000\n",
       "dtype: float64"
      ]
     },
     "execution_count": 5,
     "metadata": {},
     "output_type": "execute_result"
    }
   ],
   "source": [
    "dfall[dfall.id==C.au.Cusk.Outline.id].mean()"
   ]
  },
  {
   "cell_type": "code",
   "execution_count": 8,
   "metadata": {},
   "outputs": [],
   "source": [
    "df=pd.read_feather('../../data/scores/data.canon_fic_scores.v2.ft')\n"
=======
   "execution_count": 3,
   "metadata": {},
   "outputs": [
    {
     "output_type": "execute_result",
     "data": {
      "text/plain": [
       "                                                 id  slice  source  period  \\\n",
       "0                      AngloSaxon.Dream of the Rood      1  Median  median   \n",
       "1                      AngloSaxon.Dream of the Rood      2  Median  median   \n",
       "2                      AngloSaxon.Dream of the Rood      3  Median  median   \n",
       "3                      AngloSaxon.Dream of the Rood      4  Median  median   \n",
       "4                      AngloSaxon.Dream of the Rood      5  Median  median   \n",
       "...                                             ...    ...     ...     ...   \n",
       "1097628  markmark.du Maurier.The_Kings_General.1692    708  Median  median   \n",
       "1097629  markmark.du Maurier.The_Kings_General.1692    709  Median  median   \n",
       "1097630  markmark.du Maurier.The_Kings_General.1692    710  Median  median   \n",
       "1097631  markmark.du Maurier.The_Kings_General.1692    711  Median  median   \n",
       "1097632  markmark.du Maurier.The_Kings_General.1692    712  Median  median   \n",
       "\n",
       "         num_abs  num_conc  num_neither  num_total  num_types  \\\n",
       "0              6        12           32         50         47   \n",
       "1              4        13           33         50         48   \n",
       "2              4         8           38         50         45   \n",
       "3              6         8           36         50         49   \n",
       "4              1         7           42         50         49   \n",
       "...          ...       ...          ...        ...        ...   \n",
       "1097628        5        12           33         50         47   \n",
       "1097629        1        16           33         50         46   \n",
       "1097630        6        15           29         50         48   \n",
       "1097631        8         5           37         50         49   \n",
       "1097632        0        17           22         39         37   \n",
       "\n",
       "                                                   passage  \n",
       "0        What I wish to say of the best of <i>dreams</i...  \n",
       "1        . Gemstones had <i>nobly</i> <i>endowed</i> th...  \n",
       "2        , <i>ordered</i> me to <i><u>heave</u></i> up ...  \n",
       "3        . The <i><u>rood</u></i> was <i>reared</i>. I ...  \n",
       "4        it all. I was <i>sorely</i> <i>pained</i> with...  \n",
       "...                                                    ...  \n",
       "1097628  to <i>surveillance</i> that a few more days of...  \n",
       "1097629  his <i><u>pots</u></i> <i><u>pulled</u></i> fi...  \n",
       "1097630  me the little <i>scrap</i> of <i>paper</i>.`` ...  \n",
       "1097631  in the <i>West</i>. May he find <i>sanctuary</...  \n",
       "1097632  we shall be proud of them in Cornwall. But <i>...  \n",
       "\n",
       "[1097633 rows x 10 columns]"
      ],
      "text/html": "<div>\n<style scoped>\n    .dataframe tbody tr th:only-of-type {\n        vertical-align: middle;\n    }\n\n    .dataframe tbody tr th {\n        vertical-align: top;\n    }\n\n    .dataframe thead th {\n        text-align: right;\n    }\n</style>\n<table border=\"1\" class=\"dataframe\">\n  <thead>\n    <tr style=\"text-align: right;\">\n      <th></th>\n      <th>id</th>\n      <th>slice</th>\n      <th>source</th>\n      <th>period</th>\n      <th>num_abs</th>\n      <th>num_conc</th>\n      <th>num_neither</th>\n      <th>num_total</th>\n      <th>num_types</th>\n      <th>passage</th>\n    </tr>\n  </thead>\n  <tbody>\n    <tr>\n      <th>0</th>\n      <td>AngloSaxon.Dream of the Rood</td>\n      <td>1</td>\n      <td>Median</td>\n      <td>median</td>\n      <td>6</td>\n      <td>12</td>\n      <td>32</td>\n      <td>50</td>\n      <td>47</td>\n      <td>What I wish to say of the best of &lt;i&gt;dreams&lt;/i...</td>\n    </tr>\n    <tr>\n      <th>1</th>\n      <td>AngloSaxon.Dream of the Rood</td>\n      <td>2</td>\n      <td>Median</td>\n      <td>median</td>\n      <td>4</td>\n      <td>13</td>\n      <td>33</td>\n      <td>50</td>\n      <td>48</td>\n      <td>. Gemstones had &lt;i&gt;nobly&lt;/i&gt; &lt;i&gt;endowed&lt;/i&gt; th...</td>\n    </tr>\n    <tr>\n      <th>2</th>\n      <td>AngloSaxon.Dream of the Rood</td>\n      <td>3</td>\n      <td>Median</td>\n      <td>median</td>\n      <td>4</td>\n      <td>8</td>\n      <td>38</td>\n      <td>50</td>\n      <td>45</td>\n      <td>, &lt;i&gt;ordered&lt;/i&gt; me to &lt;i&gt;&lt;u&gt;heave&lt;/u&gt;&lt;/i&gt; up ...</td>\n    </tr>\n    <tr>\n      <th>3</th>\n      <td>AngloSaxon.Dream of the Rood</td>\n      <td>4</td>\n      <td>Median</td>\n      <td>median</td>\n      <td>6</td>\n      <td>8</td>\n      <td>36</td>\n      <td>50</td>\n      <td>49</td>\n      <td>. The &lt;i&gt;&lt;u&gt;rood&lt;/u&gt;&lt;/i&gt; was &lt;i&gt;reared&lt;/i&gt;. I ...</td>\n    </tr>\n    <tr>\n      <th>4</th>\n      <td>AngloSaxon.Dream of the Rood</td>\n      <td>5</td>\n      <td>Median</td>\n      <td>median</td>\n      <td>1</td>\n      <td>7</td>\n      <td>42</td>\n      <td>50</td>\n      <td>49</td>\n      <td>it all. I was &lt;i&gt;sorely&lt;/i&gt; &lt;i&gt;pained&lt;/i&gt; with...</td>\n    </tr>\n    <tr>\n      <th>...</th>\n      <td>...</td>\n      <td>...</td>\n      <td>...</td>\n      <td>...</td>\n      <td>...</td>\n      <td>...</td>\n      <td>...</td>\n      <td>...</td>\n      <td>...</td>\n      <td>...</td>\n    </tr>\n    <tr>\n      <th>1097628</th>\n      <td>markmark.du Maurier.The_Kings_General.1692</td>\n      <td>708</td>\n      <td>Median</td>\n      <td>median</td>\n      <td>5</td>\n      <td>12</td>\n      <td>33</td>\n      <td>50</td>\n      <td>47</td>\n      <td>to &lt;i&gt;surveillance&lt;/i&gt; that a few more days of...</td>\n    </tr>\n    <tr>\n      <th>1097629</th>\n      <td>markmark.du Maurier.The_Kings_General.1692</td>\n      <td>709</td>\n      <td>Median</td>\n      <td>median</td>\n      <td>1</td>\n      <td>16</td>\n      <td>33</td>\n      <td>50</td>\n      <td>46</td>\n      <td>his &lt;i&gt;&lt;u&gt;pots&lt;/u&gt;&lt;/i&gt; &lt;i&gt;&lt;u&gt;pulled&lt;/u&gt;&lt;/i&gt; fi...</td>\n    </tr>\n    <tr>\n      <th>1097630</th>\n      <td>markmark.du Maurier.The_Kings_General.1692</td>\n      <td>710</td>\n      <td>Median</td>\n      <td>median</td>\n      <td>6</td>\n      <td>15</td>\n      <td>29</td>\n      <td>50</td>\n      <td>48</td>\n      <td>me the little &lt;i&gt;scrap&lt;/i&gt; of &lt;i&gt;paper&lt;/i&gt;.`` ...</td>\n    </tr>\n    <tr>\n      <th>1097631</th>\n      <td>markmark.du Maurier.The_Kings_General.1692</td>\n      <td>711</td>\n      <td>Median</td>\n      <td>median</td>\n      <td>8</td>\n      <td>5</td>\n      <td>37</td>\n      <td>50</td>\n      <td>49</td>\n      <td>in the &lt;i&gt;West&lt;/i&gt;. May he find &lt;i&gt;sanctuary&lt;/...</td>\n    </tr>\n    <tr>\n      <th>1097632</th>\n      <td>markmark.du Maurier.The_Kings_General.1692</td>\n      <td>712</td>\n      <td>Median</td>\n      <td>median</td>\n      <td>0</td>\n      <td>17</td>\n      <td>22</td>\n      <td>39</td>\n      <td>37</td>\n      <td>we shall be proud of them in Cornwall. But &lt;i&gt;...</td>\n    </tr>\n  </tbody>\n</table>\n<p>1097633 rows × 10 columns</p>\n</div>"
     },
     "metadata": {},
     "execution_count": 3
    }
   ],
   "source": [
    "df"
>>>>>>> ffd935b4afb7acfab2b22d8a7be044d524564e41
   ]
  },
  {
   "cell_type": "code",
<<<<<<< HEAD
   "execution_count": 15,
   "metadata": {},
   "outputs": [
    {
     "data": {
      "text/plain": [
       "(-0.45008319933839797, 0.04237041899986305)"
      ]
     },
     "execution_count": 15,
     "metadata": {},
     "output_type": "execute_result"
    }
   ],
   "source": [
    "df[df.id==C.au.Austen.SenseAndSensibilityANovel.id].mean()['mean'], df[df.id==C.au.Cusk.Outline.id].mean()['mean']"
=======
   "execution_count": 4,
   "metadata": {},
   "outputs": [
    {
     "output_type": "display_data",
     "data": {
      "text/plain": "<IPython.core.display.Markdown object>",
      "text/markdown": "<i><u>hill</u></i> and around it had <i><u>piled</u></i> a <i>formidable</i> <i>collection</i> of <i><u>logs</u></i>, on top of which <i>stood</i> a <i>trapper</i> <i><u>waving</u></i> a <i>read</i> <i><u>flag</u></i> <i>attached</i> to a <i><u>pole</u></i>. All the <i><u>white</u></i> men <i>stared</i> at the <i><u>tipi</u></i>, and <i>scouts</i> <i>moved</i> through the Indian section to be sure they were <i>watching</i>. The man <i><u>waved</u></i> his <i><u>flag</u></i> for some <i>minutes</i>. Then a <i><u>pistol</u></i> <i><u>shot</u></i> was <i>fired</i> and he <i><u>dropped</u></i> the <i><u>flag</u></i> and ran as <i>fast</i> as he could down into a <i><u>gully</u></i>. At the <i><u>cannon</u></i> an <i>artilleryman</i> <i>touched</i> a <i>flame</i> to the <i><u>fuse</u></i> and <i><u>jumped</u></i> back. There was a <i>loud</i> <i>blast</i>, and a <i><u>four-inch</u></i> <i><u>ball</u></i> <i><u>shot</u></i> across the <i>intervening</i> <i>land</i>, took one <i><u>dusty</u></i> <i><u>bounce</u></i> and <i><u>crashed</u></i> into the <i><u>logs</u></i>, <i>carrying</i> the <i><u>tipi</u></i> some <i>distance</i> away, <i>collapsing</i> it. A <i>trapper</i>"
     },
     "metadata": {}
    }
   ],
   "source": [
    "printm(random.choice(df.passage))"
>>>>>>> ffd935b4afb7acfab2b22d8a7be044d524564e41
   ]
  },
  {
   "cell_type": "code",
   "execution_count": null,
   "metadata": {},
   "outputs": [],
<<<<<<< HEAD
   "source": []
=======
   "source": [
    "df[df.id==]"
   ]
>>>>>>> ffd935b4afb7acfab2b22d8a7be044d524564e41
  }
 ],
 "metadata": {
  "kernelspec": {
<<<<<<< HEAD
   "display_name": "Python 3",
   "language": "python",
   "name": "python3"
=======
   "display_name": "Python 3.7.7 64-bit",
   "language": "python",
   "name": "python37764bit686b23b387564d06bfd55da2c42a5653"
>>>>>>> ffd935b4afb7acfab2b22d8a7be044d524564e41
  },
  "language_info": {
   "codemirror_mode": {
    "name": "ipython",
    "version": 3
   },
   "file_extension": ".py",
   "mimetype": "text/x-python",
   "name": "python",
   "nbconvert_exporter": "python",
   "pygments_lexer": "ipython3",
<<<<<<< HEAD
   "version": "3.7.7"
=======
   "version": "3.7.7-final"
>>>>>>> ffd935b4afb7acfab2b22d8a7be044d524564e41
  },
  "widgets": {
   "application/vnd.jupyter.widget-state+json": {
    "state": {},
    "version_major": 2,
    "version_minor": 0
   }
  }
 },
 "nbformat": 4,
 "nbformat_minor": 4
<<<<<<< HEAD
}
=======
}
>>>>>>> ffd935b4afb7acfab2b22d8a7be044d524564e41
