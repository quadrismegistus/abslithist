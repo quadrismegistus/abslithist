{
 "metadata": {
  "language_info": {
   "codemirror_mode": {
    "name": "ipython",
    "version": 3
   },
   "file_extension": ".py",
   "mimetype": "text/x-python",
   "name": "python",
   "nbconvert_exporter": "python",
   "pygments_lexer": "ipython3",
   "version": "3.7.7-final"
  },
  "orig_nbformat": 2,
  "kernelspec": {
   "name": "python3",
   "display_name": "Python 3",
   "language": "python"
  }
 },
 "nbformat": 4,
 "nbformat_minor": 2,
 "cells": [
  {
   "cell_type": "code",
   "execution_count": 1,
   "metadata": {},
   "outputs": [],
   "source": [
    "ifn='../../data/dists/data.top_words.combined.csv'"
   ]
  },
  {
   "cell_type": "code",
   "execution_count": 2,
   "metadata": {},
   "outputs": [
    {
     "output_type": "stream",
     "name": "stdout",
     "text": [
      "/home/ryan/github/abslithist/notebooks/dists\n"
     ]
    }
   ],
   "source": [
    "!pwd"
   ]
  },
  {
   "cell_type": "code",
   "execution_count": 3,
   "metadata": {},
   "outputs": [],
   "source": [
    "import sys; sys.path.append('../..')\n",
    "from abslithist import *\n",
    "from abslithist.words import *"
   ]
  },
  {
   "cell_type": "code",
   "execution_count": 37,
   "metadata": {},
   "outputs": [],
   "source": [
    "fields=get_allfields()\n",
    "fieldsnow = {'abs':fields['Abs-Conc.Median.Abs.median'], 'conc':fields['Abs-Conc.Median.Conc.median']}\n",
    "\n",
    "def getabsconc(w):\n",
    "    for k,v in fieldsnow.items():\n",
    "        if w in v:\n",
    "            return k\n",
    "    return 'neither'"
   ]
  },
  {
   "cell_type": "code",
   "execution_count": 4,
   "metadata": {},
   "outputs": [
    {
     "output_type": "execute_result",
     "data": {
      "text/plain": [
       "             word2  count      mean  rank     word1 absconc  period_start\n",
       "0          burlero      2  0.980984     1      a-la    Conc          1600\n",
       "1            lilli      2  0.933669     2      a-la    Conc          1600\n",
       "2             lero      2  0.926497     3      a-la    Conc          1600\n",
       "3           bullen      2  0.870457     4      a-la    Conc          1600\n",
       "4              tol      2  0.759921     5      a-la    Conc          1600\n",
       "...            ...    ...       ...   ...       ...     ...           ...\n",
       "1206035    paprika      2  0.908866    17  zucchini    Conc          1900\n",
       "1206036       tofu      2  0.907589    18  zucchini    Conc          1900\n",
       "1206037   broccoli      2  0.904036    19  zucchini    Conc          1900\n",
       "1206038  tortillas      2  0.903416    20  zucchini    Conc          1900\n",
       "1206039    parsley      2  0.902995    21  zucchini    Conc          1900\n",
       "\n",
       "[1206040 rows x 7 columns]"
      ],
      "text/html": "<div>\n<style scoped>\n    .dataframe tbody tr th:only-of-type {\n        vertical-align: middle;\n    }\n\n    .dataframe tbody tr th {\n        vertical-align: top;\n    }\n\n    .dataframe thead th {\n        text-align: right;\n    }\n</style>\n<table border=\"1\" class=\"dataframe\">\n  <thead>\n    <tr style=\"text-align: right;\">\n      <th></th>\n      <th>word2</th>\n      <th>count</th>\n      <th>mean</th>\n      <th>rank</th>\n      <th>word1</th>\n      <th>absconc</th>\n      <th>period_start</th>\n    </tr>\n  </thead>\n  <tbody>\n    <tr>\n      <th>0</th>\n      <td>burlero</td>\n      <td>2</td>\n      <td>0.980984</td>\n      <td>1</td>\n      <td>a-la</td>\n      <td>Conc</td>\n      <td>1600</td>\n    </tr>\n    <tr>\n      <th>1</th>\n      <td>lilli</td>\n      <td>2</td>\n      <td>0.933669</td>\n      <td>2</td>\n      <td>a-la</td>\n      <td>Conc</td>\n      <td>1600</td>\n    </tr>\n    <tr>\n      <th>2</th>\n      <td>lero</td>\n      <td>2</td>\n      <td>0.926497</td>\n      <td>3</td>\n      <td>a-la</td>\n      <td>Conc</td>\n      <td>1600</td>\n    </tr>\n    <tr>\n      <th>3</th>\n      <td>bullen</td>\n      <td>2</td>\n      <td>0.870457</td>\n      <td>4</td>\n      <td>a-la</td>\n      <td>Conc</td>\n      <td>1600</td>\n    </tr>\n    <tr>\n      <th>4</th>\n      <td>tol</td>\n      <td>2</td>\n      <td>0.759921</td>\n      <td>5</td>\n      <td>a-la</td>\n      <td>Conc</td>\n      <td>1600</td>\n    </tr>\n    <tr>\n      <th>...</th>\n      <td>...</td>\n      <td>...</td>\n      <td>...</td>\n      <td>...</td>\n      <td>...</td>\n      <td>...</td>\n      <td>...</td>\n    </tr>\n    <tr>\n      <th>1206035</th>\n      <td>paprika</td>\n      <td>2</td>\n      <td>0.908866</td>\n      <td>17</td>\n      <td>zucchini</td>\n      <td>Conc</td>\n      <td>1900</td>\n    </tr>\n    <tr>\n      <th>1206036</th>\n      <td>tofu</td>\n      <td>2</td>\n      <td>0.907589</td>\n      <td>18</td>\n      <td>zucchini</td>\n      <td>Conc</td>\n      <td>1900</td>\n    </tr>\n    <tr>\n      <th>1206037</th>\n      <td>broccoli</td>\n      <td>2</td>\n      <td>0.904036</td>\n      <td>19</td>\n      <td>zucchini</td>\n      <td>Conc</td>\n      <td>1900</td>\n    </tr>\n    <tr>\n      <th>1206038</th>\n      <td>tortillas</td>\n      <td>2</td>\n      <td>0.903416</td>\n      <td>20</td>\n      <td>zucchini</td>\n      <td>Conc</td>\n      <td>1900</td>\n    </tr>\n    <tr>\n      <th>1206039</th>\n      <td>parsley</td>\n      <td>2</td>\n      <td>0.902995</td>\n      <td>21</td>\n      <td>zucchini</td>\n      <td>Conc</td>\n      <td>1900</td>\n    </tr>\n  </tbody>\n</table>\n<p>1206040 rows × 7 columns</p>\n</div>"
     },
     "metadata": {},
     "execution_count": 4
    }
   ],
   "source": [
    "df=pd.read_csv(ifn)\n",
    "df"
   ]
  },
  {
   "cell_type": "code",
   "execution_count": 5,
   "metadata": {},
   "outputs": [
    {
     "output_type": "execute_result",
     "data": {
      "text/plain": [
       "        absconc  word1         word2  count      mean  rank  period_start\n",
       "0           Abs  a.n.c  anti-fascist    2.0  0.851020   5.0        1900.0\n",
       "1           Abs  a.n.c     gaullists    2.0  0.852178   4.0        1900.0\n",
       "2           Abs  a.n.c       gemayel    2.0  0.843606   7.0        1900.0\n",
       "3           Abs  a.n.c  human-rights    4.0  0.842640   1.0        1900.0\n",
       "4           Abs  a.n.c    insurgency    2.0  0.850155   6.0        1900.0\n",
       "...         ...    ...           ...    ...       ...   ...           ...\n",
       "1080879    Conc      λ             ŏ    2.0  0.792834  14.0        1700.0\n",
       "1080880    Conc      λ             α    4.0  0.800296   1.0        1700.0\n",
       "1080881    Conc      λ             γ    2.0  0.788646  17.0        1700.0\n",
       "1080882    Conc      λ             ε    2.0  0.791066  15.0        1700.0\n",
       "1080883    Conc      λ             θ    3.0  0.799114   3.0        1700.0\n",
       "\n",
       "[1080884 rows x 7 columns]"
      ],
      "text/html": "<div>\n<style scoped>\n    .dataframe tbody tr th:only-of-type {\n        vertical-align: middle;\n    }\n\n    .dataframe tbody tr th {\n        vertical-align: top;\n    }\n\n    .dataframe thead th {\n        text-align: right;\n    }\n</style>\n<table border=\"1\" class=\"dataframe\">\n  <thead>\n    <tr style=\"text-align: right;\">\n      <th></th>\n      <th>absconc</th>\n      <th>word1</th>\n      <th>word2</th>\n      <th>count</th>\n      <th>mean</th>\n      <th>rank</th>\n      <th>period_start</th>\n    </tr>\n  </thead>\n  <tbody>\n    <tr>\n      <th>0</th>\n      <td>Abs</td>\n      <td>a.n.c</td>\n      <td>anti-fascist</td>\n      <td>2.0</td>\n      <td>0.851020</td>\n      <td>5.0</td>\n      <td>1900.0</td>\n    </tr>\n    <tr>\n      <th>1</th>\n      <td>Abs</td>\n      <td>a.n.c</td>\n      <td>gaullists</td>\n      <td>2.0</td>\n      <td>0.852178</td>\n      <td>4.0</td>\n      <td>1900.0</td>\n    </tr>\n    <tr>\n      <th>2</th>\n      <td>Abs</td>\n      <td>a.n.c</td>\n      <td>gemayel</td>\n      <td>2.0</td>\n      <td>0.843606</td>\n      <td>7.0</td>\n      <td>1900.0</td>\n    </tr>\n    <tr>\n      <th>3</th>\n      <td>Abs</td>\n      <td>a.n.c</td>\n      <td>human-rights</td>\n      <td>4.0</td>\n      <td>0.842640</td>\n      <td>1.0</td>\n      <td>1900.0</td>\n    </tr>\n    <tr>\n      <th>4</th>\n      <td>Abs</td>\n      <td>a.n.c</td>\n      <td>insurgency</td>\n      <td>2.0</td>\n      <td>0.850155</td>\n      <td>6.0</td>\n      <td>1900.0</td>\n    </tr>\n    <tr>\n      <th>...</th>\n      <td>...</td>\n      <td>...</td>\n      <td>...</td>\n      <td>...</td>\n      <td>...</td>\n      <td>...</td>\n      <td>...</td>\n    </tr>\n    <tr>\n      <th>1080879</th>\n      <td>Conc</td>\n      <td>λ</td>\n      <td>ŏ</td>\n      <td>2.0</td>\n      <td>0.792834</td>\n      <td>14.0</td>\n      <td>1700.0</td>\n    </tr>\n    <tr>\n      <th>1080880</th>\n      <td>Conc</td>\n      <td>λ</td>\n      <td>α</td>\n      <td>4.0</td>\n      <td>0.800296</td>\n      <td>1.0</td>\n      <td>1700.0</td>\n    </tr>\n    <tr>\n      <th>1080881</th>\n      <td>Conc</td>\n      <td>λ</td>\n      <td>γ</td>\n      <td>2.0</td>\n      <td>0.788646</td>\n      <td>17.0</td>\n      <td>1700.0</td>\n    </tr>\n    <tr>\n      <th>1080882</th>\n      <td>Conc</td>\n      <td>λ</td>\n      <td>ε</td>\n      <td>2.0</td>\n      <td>0.791066</td>\n      <td>15.0</td>\n      <td>1700.0</td>\n    </tr>\n    <tr>\n      <th>1080883</th>\n      <td>Conc</td>\n      <td>λ</td>\n      <td>θ</td>\n      <td>3.0</td>\n      <td>0.799114</td>\n      <td>3.0</td>\n      <td>1700.0</td>\n    </tr>\n  </tbody>\n</table>\n<p>1080884 rows × 7 columns</p>\n</div>"
     },
     "metadata": {},
     "execution_count": 5
    }
   ],
   "source": [
    "hist_avg=df.groupby(['absconc','word1','word2']).mean().reset_index()\n",
    "hist_avg"
   ]
  },
  {
   "cell_type": "code",
   "execution_count": 57,
   "metadata": {},
   "outputs": [],
   "source": [
    "import lltk\n",
    "C=lltk.load('CanonFiction')\n",
    "mfw=list(C.mfw())\n",
    "mfwn=25000\n",
    "okwords=set(mfw[:mfwn])"
   ]
  },
  {
   "cell_type": "code",
   "execution_count": 58,
   "metadata": {},
   "outputs": [
    {
     "output_type": "execute_result",
     "data": {
      "text/plain": [
       "        absconc    word1       word2  count      mean   rank  period_start\n",
       "16          Abs  abandon   abandoned   6.75  0.686333   5.75        1650.0\n",
       "17          Abs  abandon  abandoning   8.75  0.685898   4.00        1650.0\n",
       "21          Abs  abandon      accept   3.00  0.682627   7.00        1900.0\n",
       "22          Abs  abandon   acquiesce   3.00  0.687366   6.00        1900.0\n",
       "23          Abs  abandon       adopt   5.00  0.658414   6.00        1800.0\n",
       "...         ...      ...         ...    ...       ...    ...           ...\n",
       "1079723    Conc   zigzag     rivulet   3.00  0.829060   5.00        1900.0\n",
       "1079727    Conc   zigzag  serpentine   2.00  0.798103  18.00        1850.0\n",
       "1079731    Conc   zigzag     steeply   2.00  0.828490  15.00        1800.0\n",
       "1079732    Conc   zigzag   threading   2.00  0.819863  11.00        1900.0\n",
       "1079734    Conc   zigzag      uphill   2.00  0.799739  19.00        1800.0\n",
       "\n",
       "[186364 rows x 7 columns]"
      ],
      "text/html": "<div>\n<style scoped>\n    .dataframe tbody tr th:only-of-type {\n        vertical-align: middle;\n    }\n\n    .dataframe tbody tr th {\n        vertical-align: top;\n    }\n\n    .dataframe thead th {\n        text-align: right;\n    }\n</style>\n<table border=\"1\" class=\"dataframe\">\n  <thead>\n    <tr style=\"text-align: right;\">\n      <th></th>\n      <th>absconc</th>\n      <th>word1</th>\n      <th>word2</th>\n      <th>count</th>\n      <th>mean</th>\n      <th>rank</th>\n      <th>period_start</th>\n    </tr>\n  </thead>\n  <tbody>\n    <tr>\n      <th>16</th>\n      <td>Abs</td>\n      <td>abandon</td>\n      <td>abandoned</td>\n      <td>6.75</td>\n      <td>0.686333</td>\n      <td>5.75</td>\n      <td>1650.0</td>\n    </tr>\n    <tr>\n      <th>17</th>\n      <td>Abs</td>\n      <td>abandon</td>\n      <td>abandoning</td>\n      <td>8.75</td>\n      <td>0.685898</td>\n      <td>4.00</td>\n      <td>1650.0</td>\n    </tr>\n    <tr>\n      <th>21</th>\n      <td>Abs</td>\n      <td>abandon</td>\n      <td>accept</td>\n      <td>3.00</td>\n      <td>0.682627</td>\n      <td>7.00</td>\n      <td>1900.0</td>\n    </tr>\n    <tr>\n      <th>22</th>\n      <td>Abs</td>\n      <td>abandon</td>\n      <td>acquiesce</td>\n      <td>3.00</td>\n      <td>0.687366</td>\n      <td>6.00</td>\n      <td>1900.0</td>\n    </tr>\n    <tr>\n      <th>23</th>\n      <td>Abs</td>\n      <td>abandon</td>\n      <td>adopt</td>\n      <td>5.00</td>\n      <td>0.658414</td>\n      <td>6.00</td>\n      <td>1800.0</td>\n    </tr>\n    <tr>\n      <th>...</th>\n      <td>...</td>\n      <td>...</td>\n      <td>...</td>\n      <td>...</td>\n      <td>...</td>\n      <td>...</td>\n      <td>...</td>\n    </tr>\n    <tr>\n      <th>1079723</th>\n      <td>Conc</td>\n      <td>zigzag</td>\n      <td>rivulet</td>\n      <td>3.00</td>\n      <td>0.829060</td>\n      <td>5.00</td>\n      <td>1900.0</td>\n    </tr>\n    <tr>\n      <th>1079727</th>\n      <td>Conc</td>\n      <td>zigzag</td>\n      <td>serpentine</td>\n      <td>2.00</td>\n      <td>0.798103</td>\n      <td>18.00</td>\n      <td>1850.0</td>\n    </tr>\n    <tr>\n      <th>1079731</th>\n      <td>Conc</td>\n      <td>zigzag</td>\n      <td>steeply</td>\n      <td>2.00</td>\n      <td>0.828490</td>\n      <td>15.00</td>\n      <td>1800.0</td>\n    </tr>\n    <tr>\n      <th>1079732</th>\n      <td>Conc</td>\n      <td>zigzag</td>\n      <td>threading</td>\n      <td>2.00</td>\n      <td>0.819863</td>\n      <td>11.00</td>\n      <td>1900.0</td>\n    </tr>\n    <tr>\n      <th>1079734</th>\n      <td>Conc</td>\n      <td>zigzag</td>\n      <td>uphill</td>\n      <td>2.00</td>\n      <td>0.799739</td>\n      <td>19.00</td>\n      <td>1800.0</td>\n    </tr>\n  </tbody>\n</table>\n<p>186364 rows × 7 columns</p>\n</div>"
     },
     "metadata": {},
     "execution_count": 58
    }
   ],
   "source": [
    "hist_avg_nice = hist_avg[hist_avg.word1.isin(okwords) & hist_avg.word2.isin(okwords)]\n",
    "hist_avg_nice"
   ]
  },
  {
   "cell_type": "code",
   "execution_count": 69,
   "metadata": {},
   "outputs": [
    {
     "output_type": "execute_result",
     "data": {
      "text/plain": [
       "        absconc         word1         word2  count      mean  rank  \\\n",
       "487966      Abs   unexplained  inexplicable    8.0  0.724721   1.0   \n",
       "481534      Abs  unattainable    attainable    8.0  0.799390   1.0   \n",
       "922283     Conc          rows       rafters    5.0  0.759132   1.0   \n",
       "202548      Abs         fears        dreads   10.0  0.803155   1.0   \n",
       "481574      Abs  unattainable  unchangeable    4.0  0.793428   1.0   \n",
       "...         ...           ...           ...    ...       ...   ...   \n",
       "1009496    Conc          tank           gas    2.0  0.686648  27.0   \n",
       "637397     Conc         crack          pout    2.0  0.713849  27.0   \n",
       "542097     Conc       bananas       carrots    2.0  0.817605  28.0   \n",
       "480183      Abs      ultimate    relatively    2.0  0.664431  28.0   \n",
       "1009184    Conc           tan          haze    2.0  0.795923  28.0   \n",
       "\n",
       "         period_start  \n",
       "487966         1800.0  \n",
       "481534         1700.0  \n",
       "922283         1600.0  \n",
       "202548         1500.0  \n",
       "481574         1900.0  \n",
       "...               ...  \n",
       "1009496        1900.0  \n",
       "637397         1700.0  \n",
       "542097         1900.0  \n",
       "480183         1700.0  \n",
       "1009184        1500.0  \n",
       "\n",
       "[186364 rows x 7 columns]"
      ],
      "text/html": "<div>\n<style scoped>\n    .dataframe tbody tr th:only-of-type {\n        vertical-align: middle;\n    }\n\n    .dataframe tbody tr th {\n        vertical-align: top;\n    }\n\n    .dataframe thead th {\n        text-align: right;\n    }\n</style>\n<table border=\"1\" class=\"dataframe\">\n  <thead>\n    <tr style=\"text-align: right;\">\n      <th></th>\n      <th>absconc</th>\n      <th>word1</th>\n      <th>word2</th>\n      <th>count</th>\n      <th>mean</th>\n      <th>rank</th>\n      <th>period_start</th>\n    </tr>\n  </thead>\n  <tbody>\n    <tr>\n      <th>487966</th>\n      <td>Abs</td>\n      <td>unexplained</td>\n      <td>inexplicable</td>\n      <td>8.0</td>\n      <td>0.724721</td>\n      <td>1.0</td>\n      <td>1800.0</td>\n    </tr>\n    <tr>\n      <th>481534</th>\n      <td>Abs</td>\n      <td>unattainable</td>\n      <td>attainable</td>\n      <td>8.0</td>\n      <td>0.799390</td>\n      <td>1.0</td>\n      <td>1700.0</td>\n    </tr>\n    <tr>\n      <th>922283</th>\n      <td>Conc</td>\n      <td>rows</td>\n      <td>rafters</td>\n      <td>5.0</td>\n      <td>0.759132</td>\n      <td>1.0</td>\n      <td>1600.0</td>\n    </tr>\n    <tr>\n      <th>202548</th>\n      <td>Abs</td>\n      <td>fears</td>\n      <td>dreads</td>\n      <td>10.0</td>\n      <td>0.803155</td>\n      <td>1.0</td>\n      <td>1500.0</td>\n    </tr>\n    <tr>\n      <th>481574</th>\n      <td>Abs</td>\n      <td>unattainable</td>\n      <td>unchangeable</td>\n      <td>4.0</td>\n      <td>0.793428</td>\n      <td>1.0</td>\n      <td>1900.0</td>\n    </tr>\n    <tr>\n      <th>...</th>\n      <td>...</td>\n      <td>...</td>\n      <td>...</td>\n      <td>...</td>\n      <td>...</td>\n      <td>...</td>\n      <td>...</td>\n    </tr>\n    <tr>\n      <th>1009496</th>\n      <td>Conc</td>\n      <td>tank</td>\n      <td>gas</td>\n      <td>2.0</td>\n      <td>0.686648</td>\n      <td>27.0</td>\n      <td>1900.0</td>\n    </tr>\n    <tr>\n      <th>637397</th>\n      <td>Conc</td>\n      <td>crack</td>\n      <td>pout</td>\n      <td>2.0</td>\n      <td>0.713849</td>\n      <td>27.0</td>\n      <td>1700.0</td>\n    </tr>\n    <tr>\n      <th>542097</th>\n      <td>Conc</td>\n      <td>bananas</td>\n      <td>carrots</td>\n      <td>2.0</td>\n      <td>0.817605</td>\n      <td>28.0</td>\n      <td>1900.0</td>\n    </tr>\n    <tr>\n      <th>480183</th>\n      <td>Abs</td>\n      <td>ultimate</td>\n      <td>relatively</td>\n      <td>2.0</td>\n      <td>0.664431</td>\n      <td>28.0</td>\n      <td>1700.0</td>\n    </tr>\n    <tr>\n      <th>1009184</th>\n      <td>Conc</td>\n      <td>tan</td>\n      <td>haze</td>\n      <td>2.0</td>\n      <td>0.795923</td>\n      <td>28.0</td>\n      <td>1500.0</td>\n    </tr>\n  </tbody>\n</table>\n<p>186364 rows × 7 columns</p>\n</div>"
     },
     "metadata": {},
     "execution_count": 69
    }
   ],
   "source": [
    "hist_avg_nice.sort_values('rank')"
   ]
  },
  {
   "cell_type": "code",
   "execution_count": 92,
   "metadata": {},
   "outputs": [],
   "source": [
    "def df2g(df,max_rank=2):\n",
    "    import networkx as nx\n",
    "    G=nx.Graph()\n",
    "    dfq=df[df['rank']<=max_rank]\n",
    "    for i,row in tqdm(dfq.iterrows(),total=len(dfq)):\n",
    "        for w in [row.word1,row.word2]:\n",
    "            if not G.has_node(w):\n",
    "                G.add_node(w,absconc=getabsconc(w))\n",
    "        G.add_edge(row.word1,row.word2,weight=row['count'] + row['mean'], rank=row['rank'])\n",
    "    return G\n",
    "\n"
   ]
  },
  {
   "cell_type": "code",
   "execution_count": 93,
   "metadata": {},
   "outputs": [
    {
     "output_type": "stream",
     "name": "stderr",
     "text": [
      "100%|██████████| 15515/15515 [00:01<00:00, 10451.71it/s]\n",
      "100%|██████████| 7748/7748 [00:00<00:00, 10695.24it/s]\n",
      "100%|██████████| 7767/7767 [00:00<00:00, 10652.12it/s]\n"
     ]
    }
   ],
   "source": [
    "G = df2g(hist_avg_nice)\n",
    "G_abs = df2g(hist_avg_nice[hist_avg_nice.absconc=='Abs'])\n",
    "G_conc = df2g(hist_avg_nice[hist_avg_nice.absconc=='Conc'])"
   ]
  },
  {
   "cell_type": "code",
   "execution_count": 94,
   "metadata": {},
   "outputs": [
    {
     "output_type": "execute_result",
     "data": {
      "text/plain": [
       "(5727, 7075)"
      ]
     },
     "metadata": {},
     "execution_count": 94
    }
   ],
   "source": [
    "G_abs.order(), G_abs.size()"
   ]
  },
  {
   "cell_type": "code",
   "execution_count": 95,
   "metadata": {},
   "outputs": [
    {
     "output_type": "execute_result",
     "data": {
      "text/plain": [
       "(5161, 7192)"
      ]
     },
     "metadata": {},
     "execution_count": 95
    }
   ],
   "source": [
    "G_conc.order(), G_conc.size()"
   ]
  },
  {
   "cell_type": "code",
   "execution_count": 96,
   "metadata": {},
   "outputs": [],
   "source": [
    "# draw_bokeh(G,show_labels=False)"
   ]
  },
  {
   "cell_type": "code",
   "execution_count": 97,
   "metadata": {},
   "outputs": [],
   "source": [
    "import networkx as nx\n",
    "nx.write_gexf(G,ifn.replace('.csv',f'.graph.mfw{mfwn}.gexf'))\n",
    "nx.write_gexf(G_abs,ifn.replace('.csv',f'.graph.mfw{mfwn}.abs.gexf'))\n",
    "nx.write_gexf(G_conc,ifn.replace('.csv',f'.graph.mfw{mfwn}.conc.gexf'))"
   ]
  },
  {
   "cell_type": "code",
   "execution_count": null,
   "metadata": {},
   "outputs": [],
   "source": []
  }
 ]
}