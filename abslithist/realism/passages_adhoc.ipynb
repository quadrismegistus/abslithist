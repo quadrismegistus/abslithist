{
 "cells": [
  {
   "cell_type": "markdown",
   "metadata": {},
   "source": [
    "# Getting passages"
   ]
  },
  {
   "cell_type": "code",
   "execution_count": 1,
   "metadata": {},
   "outputs": [],
   "source": [
    "import sys; sys.path.append('../..')\n",
    "from abslithist import *\n",
    "from abslithist.words import *\n",
    "pd.options.display.max_rows=20"
   ]
  },
  {
   "cell_type": "code",
   "execution_count": 2,
   "metadata": {},
   "outputs": [],
   "source": [
    "# # austen=\"\"\"\n",
    "# # His manly beauty and more than common gracefulness were instantly the theme of general admiration, and the laugh which his gallantry raised against Marianne, received particular spirit from his exterior attractions. Marianne herself had seen less of his person than the rest, for the confusion which crimsoned over her face, on his lifting her up, had robbed her of the power of regarding him after their entering the house. But she had seen enough of him to join in all the admiration of the others, and with an energy which always adorned her praise. His person and air were equal to what her fancy had ever drawn for the hero of a favourite story; and in his carrying her into the house with so little previous formality, there was a rapidity of thought which particularly recommended the action to her. Every circumstance belonging to him was interesting. His name was good, his residence was in their favourite village, and she soon found out that of all manly dresses a shooting&hyphen;jacket was the most becoming. Her imagination was busy, her reflections were pleasant, and the pain of a sprained ancle was disregarded. Sir John called on them as soon as the next interval of fair weather that morning allowed him to get out of doors; and Marianne's accident being related to him, he was eagerly asked whether he knew any gentleman of the name of Willoughby at Allenham.\n",
    "# # \"\"\".strip()\n",
    "\n",
    "# austen=\"\"\"Margaret agreed, and they pursued their way against the wind, resisting it with laughing delight for about twenty minutes longer, when suddenly the clouds united over their heads, and a driving rain set full in their face. Chagrined and surprised, they were obliged, though unwillingly, to turn back, for no shelter was nearer than their own house. One consolation however remained for them, to which the exigence of the moment gave more than usual propriety; it was that of running with all possible speed down the steep side of the hill which led immediately to their garden gate. They set off. Marianne had at first the advantage, but a false step brought her suddenly to the ground, and Margaret, unable to stop herself to assist her, was involuntarily hurried along, and reached the bottom in safety. A gentleman carrying a gun, with two pointers playing round him, was passing up the hill and within a few yards of Marianne, when her accident happened. He put down his gun and ran to her assistance. She had raised herself from the ground, but her foot had been twisted in the fall, and she was scarcely able to stand. The gentleman offered his services, and perceiving that her modesty declined what her situation rendered necessary, took her up in his arms without farther delay, and carried her down the hill. Then passing through the garden, the gate of which had been left open by Margaret, he bore her directly into the house, whither Margaret was just arrived, and quitted not his hold till he had seated her in a chair in the parlour. Elinor and her mother rose up in amazement at their entrance, and while the eyes of both were fixed on him with an evident wonder and a secret admiration which equally sprung from his appearance, he apologized for his intrusion by relating its cause, in a manner so frank and so graceful, that his person, which was uncommonly handsome, received additional charms from his voice and expression. Had he been even old, ugly, and vulgar, the gratitude and kindness of Mrs. Dashwood would have been secured by any act of attention to her child; but the influence of youth, beauty, and elegance, gave an interest to the action which came home to her feelings. She thanked him again and again; and with a sweetness of address which always attended her, invited him to be seated. But this he declined, as he was dirty and wet. Mrs. Dashwood then begged to know to whom she was obliged. His name, he replied, was Willoughby, and his present home was at Allenham, from whence he hoped she would allow him the honour of calling to&hyphen;morrow to enquire after Miss Dashwood. The honour was readily granted, and he then departed, to make himself still more interesting, in the midst of an heavy rain.\n",
    "\n",
    "# His manly beauty and more than common gracefulness were instantly the theme of general admiration, and the laugh which his gallantry raised against Marianne, received particular spirit from his exterior attractions. Marianne herself had seen less of his person than the rest, for the confusion which crimsoned over her face, on his lifting her up, had robbed her of the power of regarding him after their entering the house. But she had seen enough of him to join in all the admiration of the others, and with an energy which always adorned her praise. His person and air were equal to what her fancy had ever drawn for the hero of a favourite story; and in his carrying her into the house with so little previous formality, there was a rapidity of thought which particularly recommended the action to her. Every circumstance belonging to him was interesting. His name was good, his residence was in their favourite village, and she soon found out that of all manly dresses a shooting&hyphen;jacket was the most becoming. Her imagination was busy, her reflections were pleasant, and the pain of a sprained ancle was disregarded. Sir John called on them as soon as the next interval of fair weather that morning allowed him to get out of doors; and Marianne's accident being related to him, he was eagerly asked whether he knew any gentleman of the name of Willoughby at Allenham.\n",
    "# \"\"\"#.replace('\\n\\n','\\n')\n",
    "# print(austen)"
   ]
  },
  {
   "cell_type": "code",
   "execution_count": 3,
   "metadata": {},
   "outputs": [],
   "source": [
    "# austenquoted=\"\"\"\n",
    "# Elinor and her mother ```rose``` up in *amazement* at their ```entrance```, and while the *eyes* of both were *fixed* on him with an **evident** wonder and a **secret** **admiration** which **equally** *sprung* from his *appearance*, he **apologized** for his **intrusion** by **relating** its cause, in a manner so **frank** and so *graceful*, that his person, which was *uncommonly* ```handsome```, **received additional** *charms* from his *voice* and **expression**. Had he been even old, ```ugly```, and **vulgar**, the **gratitude** and **kindness** of Mrs. Dashwood would have been *secured* by any act of **attention** to her child; but the **influence** of **youth**, *beauty*, and *elegance*, gave an interest to the **action** which came home to her **feelings**. She **thanked** him again and again; and with a *sweetness* of **address** which always **attended** her, *invited* him to be ```seated```. But this he **declined**, as he was ```dirty``` and ```wet```. Mrs. Dashwood then *begged* to know to whom she was **obliged**. His name, he replied, was Willoughby, and his present home was at Allenham, from whence he **hoped** she would allow him the honour of **calling** *to-morrow* to **enquire** after Miss Dashwood. The honour was readily **granted**, and he then **departed**, to make himself still more **interesting**, in the *midst* of an *heavy* ```rain```.\n",
    "# His **manly** *beauty* and more than *common* **gracefulness** were *instantly* the **theme** of **general admiration**, and the *laugh* which his **gallantry** *raised* against Marianne, **received** particular **spirit** from his *exterior* **attractions**. Marianne herself had seen less of his person than the *rest*, for the **confusion** which *crimsoned* over her ```face```, on his *lifting* her up, had *robbed* her of the **power** of regarding him after their **entering** the *house*. But she had seen enough of him to *join* in all the **admiration** of the others, and with an **energy** which always ```adorned``` her **praise**.\n",
    "# \"\"\".replace('`','').replace('*','').replace('>','').replace('\\n\\n\\n','\\n\\n')\n",
    "# print(austenquoted)"
   ]
  },
  {
   "cell_type": "code",
   "execution_count": 4,
   "metadata": {},
   "outputs": [
    {
     "name": "stdout",
     "output_type": "stream",
     "text": [
      "Elinor and her mother rose up in amazement at their entrance, and while the eyes \n",
      "of both were fixed on him with an evident wonder and a secret admiration which \n",
      "equally sprung from his appearance, he apologized for his intrusion by relating \n",
      "its cause, in a manner so frank and so graceful, that his person, which was \n",
      "uncommonly handsome, received additional charms from his voice and expression. \n",
      "Had he been even old, ugly, and vulgar, the gratitude and kindness of Mrs. \n",
      "Dashwood would have been secured by any act of attention to her child; but the \n",
      "influence of youth, beauty, and elegance, gave an interest to the action which \n",
      "came home to her feelings.\n",
      "  She thanked him again and again; [...] he then departed, to make himself \n",
      "still more interesting, in the midst of an heavy rain.\n",
      "  His manly beauty and more than common gracefulness were instantly the \n",
      "theme of general admiration, and the laugh which his gallantry raised against \n",
      "Marianne, received particular spirit from his exterior attractions.\n"
     ]
    }
   ],
   "source": [
    "austenquoted=\"\"\"\n",
    "Elinor and her mother rose up in amazement at their entrance, and while the eyes \n",
    "of both were fixed on him with an evident wonder and a secret admiration which \n",
    "equally sprung from his appearance, he apologized for his intrusion by relating \n",
    "its cause, in a manner so frank and so graceful, that his person, which was \n",
    "uncommonly handsome, received additional charms from his voice and expression. \n",
    "Had he been even old, ugly, and vulgar, the gratitude and kindness of Mrs. \n",
    "Dashwood would have been secured by any act of attention to her child; but the \n",
    "influence of youth, beauty, and elegance, gave an interest to the action which \n",
    "came home to her feelings.\n",
    "  She thanked him again and again; [...] he then departed, to make himself \n",
    "still more interesting, in the midst of an heavy rain.\n",
    "  His manly beauty and more than common gracefulness were instantly the \n",
    "theme of general admiration, and the laugh which his gallantry raised against \n",
    "Marianne, received particular spirit from his exterior attractions.\n",
    "\"\"\".strip()\n",
    "print(austenquoted)"
   ]
  },
  {
   "cell_type": "code",
   "execution_count": 5,
   "metadata": {},
   "outputs": [],
   "source": [
    "# austenquoted=\"\"\"\n",
    "# Elinor and her mother rose up in amazement at their entrance, and while the eyes \n",
    "# of both were fixed on him with an evident wonder and a secret admiration which \n",
    "# equally sprung from his appearance, he apologized for his intrusion by relating \n",
    "# its cause, in a manner so frank and so graceful, that his person, which was \n",
    "# uncommonly handsome, received additional charms from his voice and expression.\n",
    "# [...] he then departed, to make himself still more interesting, in the midst\n",
    "# of an heavy rain.\n",
    "#   His manly beauty and more than common gracefulness were instantly the \n",
    "# theme of general admiration, and the laugh which his gallantry raised against \n",
    "# Marianne, received particular spirit from his exterior attractions.\n",
    "# \"\"\".strip()\n",
    "# print(austenquoted)\n",
    "# len(austenquoted.split())"
   ]
  },
  {
   "cell_type": "code",
   "execution_count": 6,
   "metadata": {},
   "outputs": [],
   "source": [
    "# cusk=\"\"\"\n",
    "# At the table he sat, like the other men, with his back to the wall so that his view was of the café and the street. I sat opposite him, and because he was all I could see I looked at him. Ryan was teaching alongside me at the summer school: from a distance he was a man of conventional sandy-coloured good looks, but close up there was something uneasy in his appearance, as though he had been put together out of unrelated elements, so that the different parts of him didn’t entirely go together. He had large white teeth which he kept always a little bared and a loose body poised somewhere between muscle and fat, but his head was small and narrow, with sparse, almost colourless hair that grew in spikes back from his forehead and colourless eyelashes that were hidden for now behind dark glasses. His eyebrows, however, were fierce and straight and black. When the waitress came he took the glasses off and I saw his eyes, two small bright blue chips in slightly reddened whites. The rims were red too, as though they were sore, or as though the sun had singed them. He asked the waitress if she had non-alcoholic beer and she leaned towards him with her hand cupped around her ear, not understanding. He picked up the menu and together they studied it.\n",
    "# \"\"\".strip()"
   ]
  },
  {
   "cell_type": "code",
   "execution_count": 7,
   "metadata": {},
   "outputs": [],
   "source": [
    "# cusk=\"\"\"\n",
    "# At the table he sat, like the other men, with his back to the wall so that his \n",
    "# view was of the café and the street. I sat opposite him, and because he was all \n",
    "# I could see I looked at him. Ryan was teaching alongside me at the summer \n",
    "# school: from a distance he was a man of conventional sandy-coloured good looks, \n",
    "# but close up there was something uneasy in his appearance, as though he had been \n",
    "# put together out of unrelated elements, so that the different parts of him \n",
    "# didn’t entirely go together. He had large white teeth which he kept always a \n",
    "# little bared and a loose body poised somewhere between muscle and fat, but his \n",
    "# head was small and narrow, with sparse, almost colourless hair that grew in \n",
    "# spikes back from his forehead and colourless eyelashes that were hidden for now \n",
    "# behind dark glasses. His eyebrows, however, were fierce and straight and black. \n",
    "# When the waitress came he took the glasses off and I saw his eyes, two small \n",
    "# bright blue chips in slightly reddened whites.\n",
    "# \"\"\".strip()\n",
    "# print(cusk)\n",
    "# len(cusk.split())"
   ]
  },
  {
   "cell_type": "code",
   "execution_count": 8,
   "metadata": {},
   "outputs": [],
   "source": [
    "# cusk2=\"\"\"\n",
    "\n",
    "# He had large white teeth which he kept always a \n",
    "# little bared and a loose body poised somewhere between muscle and fat, but his \n",
    "# head was small and narrow, with sparse, almost colourless hair that grew in \n",
    "# spikes back from his forehead and colourless eyelashes that were hidden for now \n",
    "# behind dark glasses. His eyebrows, however, were fierce and straight and black. \n",
    "# When the waitress came he took the glasses off and I saw his eyes, two small \n",
    "# bright blue chips in slightly reddened whites.\n",
    "\n",
    "# \"\"\""
   ]
  },
  {
   "cell_type": "code",
   "execution_count": 9,
   "metadata": {},
   "outputs": [
    {
     "name": "stdout",
     "output_type": "stream",
     "text": [
      "From a distance he was a man of conventional sandy-coloured good looks, \n",
      "but close up there was something uneasy in his appearance, as though he had been \n",
      "put together out of unrelated elements, so that the different parts of him \n",
      "didn’t entirely go together. He had large white teeth which he kept always a \n",
      "little bared and a loose body poised somewhere between muscle and fat, but his \n",
      "head was small and narrow, with sparse, almost colourless hair that grew in \n",
      "spikes back from his forehead and colourless eyelashes that were hidden for now \n",
      "behind dark glasses. His eyebrows, however, were fierce and straight and black. \n",
      "When the waitress came he took the glasses off and I saw his eyes, two small \n",
      "bright blue chips in slightly reddened whites. [...] He asked the waitress if \n",
      "she had non-alcoholic beer and she leaned towards him with her hand cupped \n",
      "around her ear, not understanding.\n"
     ]
    },
    {
     "data": {
      "text/plain": [
       "153"
      ]
     },
     "execution_count": 9,
     "metadata": {},
     "output_type": "execute_result"
    }
   ],
   "source": [
    "cusk=\"\"\"\n",
    "From a distance he was a man of conventional sandy-coloured good looks, \n",
    "but close up there was something uneasy in his appearance, as though he had been \n",
    "put together out of unrelated elements, so that the different parts of him \n",
    "didn’t entirely go together. He had large white teeth which he kept always a \n",
    "little bared and a loose body poised somewhere between muscle and fat, but his \n",
    "head was small and narrow, with sparse, almost colourless hair that grew in \n",
    "spikes back from his forehead and colourless eyelashes that were hidden for now \n",
    "behind dark glasses. His eyebrows, however, were fierce and straight and black. \n",
    "When the waitress came he took the glasses off and I saw his eyes, two small \n",
    "bright blue chips in slightly reddened whites. [...] He asked the waitress if \n",
    "she had non-alcoholic beer and she leaned towards him with her hand cupped \n",
    "around her ear, not understanding.\n",
    "\"\"\".strip()\n",
    "print(cusk)\n",
    "len(cusk.split())"
   ]
  },
  {
   "cell_type": "code",
   "execution_count": 10,
   "metadata": {},
   "outputs": [
    {
     "data": {
      "text/html": [
       "<div>\n",
       "<style scoped>\n",
       "    .dataframe tbody tr th:only-of-type {\n",
       "        vertical-align: middle;\n",
       "    }\n",
       "\n",
       "    .dataframe tbody tr th {\n",
       "        vertical-align: top;\n",
       "    }\n",
       "\n",
       "    .dataframe thead th {\n",
       "        text-align: right;\n",
       "    }\n",
       "</style>\n",
       "<table border=\"1\" class=\"dataframe\">\n",
       "  <thead>\n",
       "    <tr style=\"text-align: right;\">\n",
       "      <th></th>\n",
       "      <th>austen</th>\n",
       "      <th>cusk</th>\n",
       "    </tr>\n",
       "  </thead>\n",
       "  <tbody>\n",
       "    <tr>\n",
       "      <th>num_words</th>\n",
       "      <td>92.0</td>\n",
       "      <td>153.0</td>\n",
       "    </tr>\n",
       "    <tr>\n",
       "      <th>num_tokens</th>\n",
       "      <td>34.0</td>\n",
       "      <td>51.0</td>\n",
       "    </tr>\n",
       "    <tr>\n",
       "      <th>num_types</th>\n",
       "      <td>32.0</td>\n",
       "      <td>47.0</td>\n",
       "    </tr>\n",
       "    <tr>\n",
       "      <th>num_abs</th>\n",
       "      <td>16.0</td>\n",
       "      <td>4.0</td>\n",
       "    </tr>\n",
       "    <tr>\n",
       "      <th>num_conc</th>\n",
       "      <td>1.0</td>\n",
       "      <td>26.0</td>\n",
       "    </tr>\n",
       "    <tr>\n",
       "      <th>num_neither</th>\n",
       "      <td>16.0</td>\n",
       "      <td>17.0</td>\n",
       "    </tr>\n",
       "    <tr>\n",
       "      <th>num_total</th>\n",
       "      <td>34.0</td>\n",
       "      <td>51.0</td>\n",
       "    </tr>\n",
       "    <tr>\n",
       "      <th>slice</th>\n",
       "      <td>2.0</td>\n",
       "      <td>2.0</td>\n",
       "    </tr>\n",
       "    <tr>\n",
       "      <th>tok_i</th>\n",
       "      <td>123.0</td>\n",
       "      <td>183.0</td>\n",
       "    </tr>\n",
       "    <tr>\n",
       "      <th>abs-conc</th>\n",
       "      <td>16.0</td>\n",
       "      <td>-22.0</td>\n",
       "    </tr>\n",
       "  </tbody>\n",
       "</table>\n",
       "</div>"
      ],
      "text/plain": [
       "             austen   cusk\n",
       "num_words      92.0  153.0\n",
       "num_tokens     34.0   51.0\n",
       "num_types      32.0   47.0\n",
       "num_abs        16.0    4.0\n",
       "num_conc        1.0   26.0\n",
       "num_neither    16.0   17.0\n",
       "num_total      34.0   51.0\n",
       "slice           2.0    2.0\n",
       "tok_i         123.0  183.0\n",
       "abs-conc       16.0  -22.0"
      ]
     },
     "execution_count": 10,
     "metadata": {},
     "output_type": "execute_result"
    }
   ],
   "source": [
    "# dfausten=count_absconc_psg(austen,modernize=False)\n",
    "dfausten=count_absconc_psg(\"\"\"\n",
    "\n",
    "His person, which was \n",
    "uncommonly handsome, received additional charms from his voice and expression. \n",
    "Had he been even old, ugly, and vulgar, the gratitude and kindness of Mrs. \n",
    "Dashwood would have been secured by any act of attention to her child; but the \n",
    "influence of youth, beauty, and elegance, gave an interest to the action which \n",
    "came home to her feelings. [...]\n",
    "  His manly beauty and more than common gracefulness were instantly the \n",
    "theme of general admiration, and the laugh which his gallantry raised against \n",
    "Marianne, received particular spirit from his exterior attractions.\n",
    "\n",
    "\n",
    "\"\"\",modernize=False)\n",
    "dfcusk=count_absconc_psg(cusk,modernize=False,)\n",
    "pd.DataFrame({'austen':dfausten.median(), 'cusk':dfcusk.median()})"
   ]
  },
  {
   "cell_type": "code",
   "execution_count": null,
   "metadata": {},
   "outputs": [],
   "source": []
  },
  {
   "cell_type": "code",
   "execution_count": 11,
   "metadata": {},
   "outputs": [],
   "source": [
    "# dfaustenC18 = dfausten.set_index('period').loc['C18']\n",
    "# dfaustenC20 = dfausten.set_index('period').loc['C20']\n",
    "# psg18=dfaustenC18.passage.replace('\\\\','')\n",
    "# psg20=dfaustenC20.passage.replace('\\\\','')\n",
    "# printm(f'#### C18 definition\\n\\n> {psg18}\\n\\n')#'\\n\\n#### C20 definition\\n\\n> {psg20}\\n\\n')\n",
    "# print(f'#### C18 definition\\n\\n> {psg18}\\n\\n')#'\\n\\n#### C20 definition\\n\\n> {psg20}\\n\\n')\n",
    "# dfaustenC18"
   ]
  },
  {
   "cell_type": "code",
   "execution_count": 12,
   "metadata": {},
   "outputs": [],
   "source": [
    "# dfcusk=count_absconc_psg(\"\"\"\n",
    "\n",
    "\n",
    "# \"\"\",modernize=False)\n",
    "# dfcuskC18 = dfcusk.set_index('period').loc['C18']\n",
    "# dfcuskC20 = dfcusk.set_index('period').loc['C20']\n",
    "# psg18=dfcuskC18.passage.replace('\\\\','')\n",
    "# psg20=dfcuskC20.passage.replace('\\\\','')\n",
    "# printm(f'\\n### C20 definition\\n\\n{psg20}\\n\\n')\n",
    "# print(f'\\n### C20 definition\\n\\n{psg20}\\n\\n')\n",
    "# dfcuskC20"
   ]
  },
  {
   "cell_type": "code",
   "execution_count": null,
   "metadata": {},
   "outputs": [],
   "source": []
  },
  {
   "cell_type": "code",
   "execution_count": 13,
   "metadata": {},
   "outputs": [],
   "source": [
    "def dopsg(txt,period):\n",
    "    df=count_absconc_psg(txt,modernize=False)\n",
    "    row=df.set_index('period').loc[period]\n",
    "    psg=row.passage.replace('\\\\','')\n",
    "    psgx=f\"\"\"\n",
    "> {psg}\n",
    ">\n",
    "> ({row.num_words} words; {row.num_tokens} content; {row.num_conc} concrete, {row.num_abs} abstract, {row.num_neither} neutral/ambig.)\n",
    "\"\"\"\n",
    "    psgx=psgx.replace(\"``` ```\",\" \").replace(\"** **\",\" \")\n",
    "    printm(psgx)\n",
    "#     print('\\n\\n\\n')\n",
    "    print(psgx)\n",
    "    "
   ]
  },
  {
   "cell_type": "code",
   "execution_count": 14,
   "metadata": {},
   "outputs": [],
   "source": [
    "# dopsg(\"\"\"\n",
    "\n",
    "# Elinor and her mother rose up in amazement at their entrance, and while the eyes \n",
    "# of both were fixed on him with an evident wonder and a secret admiration which \n",
    "# equally sprung from his appearance, he apologized for his intrusion by relating \n",
    "# its cause, in a manner so frank and so graceful, that his person, which was \n",
    "# uncommonly handsome, received additional charms from his voice and expression.\n",
    "# [...] he then departed, to make himself still more interesting, in the midst\n",
    "# of an heavy rain.\n",
    "#   His manly beauty and more than common gracefulness were instantly the \n",
    "# theme of general admiration, and the laugh which his gallantry raised against \n",
    "# Marianne, received particular spirit from his exterior attractions.\n",
    "# \"\"\",'C18')"
   ]
  },
  {
   "cell_type": "code",
   "execution_count": 15,
   "metadata": {},
   "outputs": [
    {
     "data": {
      "text/markdown": [
       "\n",
       ">  His person, which was *uncommonly* *handsome*, ***received*** *additional* *charms* from his *voice* and ***expression***. Had he been even old, *ugly*, and ***vulgar***, the ***gratitude*** and ***kindness*** of Mrs. Dashwood would have been *secured* by any act of ***attention*** to her child; but the ***influence*** of *youth*, *beauty*, and *elegance*, gave an interest to the ***action*** which came home to her ***feelings***. She ***thanked*** him again and again;[... ]he then ***departed***, to make himself still more ***interesting***, in the *midst* of an *heavy* ```rain```. His *manly* *beauty* and more than *common* ***gracefulness*** were *instantly* the *theme* of ***general* *admiration***, and the *laugh* which his ***gallantry*** *raised* against Marianne, ***received*** particular ***spirit*** from his *exterior* ***attractions***.\n",
       ">\n",
       "> (114 words; 40 content; 1 concrete, 19 abstract, 20 neutral/ambig.)\n"
      ],
      "text/plain": [
       "<IPython.core.display.Markdown object>"
      ]
     },
     "metadata": {},
     "output_type": "display_data"
    },
    {
     "name": "stdout",
     "output_type": "stream",
     "text": [
      "\n",
      ">  His person, which was *uncommonly* *handsome*, ***received*** *additional* *charms* from his *voice* and ***expression***. Had he been even old, *ugly*, and ***vulgar***, the ***gratitude*** and ***kindness*** of Mrs. Dashwood would have been *secured* by any act of ***attention*** to her child; but the ***influence*** of *youth*, *beauty*, and *elegance*, gave an interest to the ***action*** which came home to her ***feelings***. She ***thanked*** him again and again;[... ]he then ***departed***, to make himself still more ***interesting***, in the *midst* of an *heavy* ```rain```. His *manly* *beauty* and more than *common* ***gracefulness*** were *instantly* the *theme* of ***general* *admiration***, and the *laugh* which his ***gallantry*** *raised* against Marianne, ***received*** particular ***spirit*** from his *exterior* ***attractions***.\n",
      ">\n",
      "> (114 words; 40 content; 1 concrete, 19 abstract, 20 neutral/ambig.)\n",
      "\n"
     ]
    }
   ],
   "source": [
    "dopsg(\"\"\"\n",
    "His person, which was \n",
    "uncommonly handsome, received additional charms from his voice and expression. \n",
    "Had he been even old, ugly, and vulgar, the gratitude and kindness of Mrs. \n",
    "Dashwood would have been secured by any act of attention to her child; but the \n",
    "influence of youth, beauty, and elegance, gave an interest to the action which \n",
    "came home to her feelings.\n",
    "  She thanked him again and again; [...] he then departed, to make himself \n",
    "still more interesting, in the midst of an heavy rain.\n",
    "  His manly beauty and more than common gracefulness were instantly the \n",
    "theme of general admiration, and the laugh which his gallantry raised against \n",
    "Marianne, received particular spirit from his exterior attractions.\n",
    "\n",
    "\"\"\",'C18')"
   ]
  },
  {
   "cell_type": "code",
   "execution_count": null,
   "metadata": {},
   "outputs": [],
   "source": []
  },
  {
   "cell_type": "code",
   "execution_count": 16,
   "metadata": {},
   "outputs": [],
   "source": [
    "\n",
    "\n",
    "# \"\"\",'C18')"
   ]
  },
  {
   "cell_type": "code",
   "execution_count": 17,
   "metadata": {},
   "outputs": [
    {
     "data": {
      "text/markdown": [
       "\n",
       ">  There was something ***uneasy*** in his *appearance*, as though he had been put together out of ***unrelated* *elements***, so that the different *parts* of him didn't entirely go together. He had *large* ```white teeth``` which he kept always a little ```bared``` and a ```loose``` body ```poised``` somewhere between *muscle* and ```fat```, but his ```head``` was ```small``` and *narrow*, with ```sparse```, almost *colourless* ```hair``` that *grew* in ```spikes``` back from his ```forehead``` and *colourless* ```eyelashes``` that were *hidden* for now behind ```dark glasses```. His *eyebrows*, however, were *fierce* and ```straight``` and *black*. When the ```waitress``` came he took the ```glasses``` off and I saw his *eyes*, two ```small bright blue chips``` in slightly *reddened* *whites*.\n",
       ">\n",
       "> (115 words; 40 content; 22 concrete, 3 abstract, 15 neutral/ambig.)\n"
      ],
      "text/plain": [
       "<IPython.core.display.Markdown object>"
      ]
     },
     "metadata": {},
     "output_type": "display_data"
    },
    {
     "name": "stdout",
     "output_type": "stream",
     "text": [
      "\n",
      ">  There was something ***uneasy*** in his *appearance*, as though he had been put together out of ***unrelated* *elements***, so that the different *parts* of him didn't entirely go together. He had *large* ```white teeth``` which he kept always a little ```bared``` and a ```loose``` body ```poised``` somewhere between *muscle* and ```fat```, but his ```head``` was ```small``` and *narrow*, with ```sparse```, almost *colourless* ```hair``` that *grew* in ```spikes``` back from his ```forehead``` and *colourless* ```eyelashes``` that were *hidden* for now behind ```dark glasses```. His *eyebrows*, however, were *fierce* and ```straight``` and *black*. When the ```waitress``` came he took the ```glasses``` off and I saw his *eyes*, two ```small bright blue chips``` in slightly *reddened* *whites*.\n",
      ">\n",
      "> (115 words; 40 content; 22 concrete, 3 abstract, 15 neutral/ambig.)\n",
      "\n"
     ]
    }
   ],
   "source": [
    "dopsg(\"\"\"\n",
    "There was something uneasy in his appearance, as though he had been \n",
    "put together out of unrelated elements, so that the different parts of him \n",
    "didn’t entirely go together. He had large white teeth which he kept always a \n",
    "little bared and a loose body poised somewhere between muscle and fat, but his \n",
    "head was small and narrow, with sparse, almost colourless hair that grew in \n",
    "spikes back from his forehead and colourless eyelashes that were hidden for now \n",
    "behind dark glasses. His eyebrows, however, were fierce and straight and black. \n",
    "When the waitress came he took the glasses off and I saw his eyes, two small \n",
    "bright blue chips in slightly reddened whites.\n",
    "\"\"\",'C20')"
   ]
  },
  {
   "cell_type": "code",
   "execution_count": null,
   "metadata": {},
   "outputs": [],
   "source": []
  }
 ],
 "metadata": {
  "kernelspec": {
   "display_name": "Python 3",
   "language": "python",
   "name": "python3"
  },
  "language_info": {
   "codemirror_mode": {
    "name": "ipython",
    "version": 3
   },
   "file_extension": ".py",
   "mimetype": "text/x-python",
   "name": "python",
   "nbconvert_exporter": "python",
   "pygments_lexer": "ipython3",
   "version": "3.7.7"
  },
  "widgets": {
   "application/vnd.jupyter.widget-state+json": {
    "state": {},
    "version_major": 2,
    "version_minor": 0
   }
  }
 },
 "nbformat": 4,
 "nbformat_minor": 4
}
