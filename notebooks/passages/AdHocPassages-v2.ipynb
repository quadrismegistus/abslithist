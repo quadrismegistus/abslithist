{
 "cells": [
  {
   "cell_type": "code",
   "execution_count": 1,
   "metadata": {},
   "outputs": [],
   "source": [
    "# Passages?"
   ]
  },
  {
   "cell_type": "code",
   "execution_count": 2,
   "metadata": {},
   "outputs": [],
   "source": [
    "import sys; sys.path.append('../..')\n",
    "from abslithist import *\n",
    "from abslithist.words import *\n",
    "from abslithist.realism import *\n",
    "import subprocess \n",
    "\n",
    "def pbcopy(data):\n",
    "    import subprocess\n",
    "    subprocess.run([\"xclip\",'-selection','clipboard'], universal_newlines=True, input=data)"
   ]
  },
  {
   "cell_type": "code",
   "execution_count": 3,
   "metadata": {},
   "outputs": [],
   "source": [
    "def dopsg(xstr,period='C18'):\n",
    "#     print('<< input',xstr)\n",
    "#     if not '\\n\\n' in xstr: xstr=xstr.replace('\\n','\\n\\n')\n",
    "    data=df=pd.DataFrame(count_absconc(xstr.strip(),incl_psg=True,sources={'Median'},periods={'C18','C19','C20','median'},window_len=100000,modernize=False))\n",
    "    if not len(data): return\n",
    "    data['abs-conc']=data['num_abs']-data['num_conc']\n",
    "    row=data.set_index('period').loc[period]\n",
    "    psg=row.passage.replace('\\\\\\\\','\\n> ').replace('\\n','\\n').strip().replace('  ',' ')\n",
    "    pa=int(round(row.num_abs/row.num_total*100))\n",
    "    pb=int(round(row.num_conc/row.num_total*100))\n",
    "    pc=int(round(row.num_neither/row.num_total*100))\n",
    "    pdstr=f'+{pa-pb}' if pa-pb>0 else f'{pa-pb}'\n",
    "    pdstr0=f'+{row.num_abs-row.num_conc}' if row.num_abs-row.num_conc>0 else f'{row.num_abs-row.num_conc}'\n",
    "#     stats=f'({row.num_words} words; {row.num_tokens} content words; {pa}% abstract, {pb}% concrete, {pc}% neutral/ambig)'\n",
    "    stats=f'{row.num_words} words; {row.num_tokens} content words; {row.num_abs}/{pa}% abstract; {row.num_conc}/{pb}% concrete; {row.num_neither}/{pc}% neutral/ambig); A-C = {pdstr0}/{pdstr}%'\n",
    "    x=f'\\n\\n> {psg}\\n> \\n> ({stats})'\n",
    "    printm(x)\n",
    "    print(x)\n",
    "    pbcopy(x)\n",
    "    "
   ]
  },
  {
   "cell_type": "code",
   "execution_count": 4,
   "metadata": {},
   "outputs": [],
   "source": [
    "import ipywidgets as widgets\n",
    "from ipywidgets import interact, interactive, fixed, interact_manual\n",
    "\n",
    "widg=widgets.Textarea(\n",
    "    value='',\n",
    "    placeholder='Paste here',\n",
    "    description='Passage:',\n",
    "    disabled=False,\n",
    "    layout={'height': '500px', 'width':'80%'}\n",
    ")\n",
    "# widg"
   ]
  },
  {
   "cell_type": "code",
   "execution_count": 5,
   "metadata": {},
   "outputs": [],
   "source": [
    "# widg.value"
   ]
  },
  {
   "cell_type": "code",
   "execution_count": 8,
   "metadata": {},
   "outputs": [
    {
     "data": {
      "application/vnd.jupyter.widget-view+json": {
       "model_id": "1ffc1150accd44f1a2a83d7da3d06515",
       "version_major": 2,
       "version_minor": 0
      },
      "text/plain": [
       "interactive(children=(Textarea(value='', description='Passage:', layout=Layout(height='500px', width='80%'), p…"
      ]
     },
     "metadata": {},
     "output_type": "display_data"
    }
   ],
   "source": [
    "@interact(text=)\n",
    "def hellop(txt=widg):\n",
    "    dopsg(txt)"
   ]
  },
  {
   "cell_type": "code",
   "execution_count": null,
   "metadata": {},
   "outputs": [],
   "source": []
  },
  {
   "cell_type": "code",
   "execution_count": null,
   "metadata": {},
   "outputs": [],
   "source": []
  }
 ],
 "metadata": {
  "kernelspec": {
   "display_name": "Python 3.7.7 64-bit ('base': conda)",
   "language": "python",
   "name": "python37764bitbaseconda5ed38c30243b41668822dceb9f7e86f8"
  },
  "language_info": {
   "codemirror_mode": {
    "name": "ipython",
    "version": 3
   },
   "file_extension": ".py",
   "mimetype": "text/x-python",
   "name": "python",
   "nbconvert_exporter": "python",
   "pygments_lexer": "ipython3",
   "version": "3.7.7"
  },
  "toc": {
   "base_numbering": 1,
   "nav_menu": {},
   "number_sections": false,
   "sideBar": false,
   "skip_h1_title": false,
   "title_cell": "Table of Contents",
   "title_sidebar": "Contents",
   "toc_cell": false,
   "toc_position": {},
   "toc_section_display": false,
   "toc_window_display": false
  },
  "widgets": {
   "application/vnd.jupyter.widget-state+json": {
    "state": {},
    "version_major": 2,
    "version_minor": 0
   }
  }
 },
 "nbformat": 4,
 "nbformat_minor": 4
}
