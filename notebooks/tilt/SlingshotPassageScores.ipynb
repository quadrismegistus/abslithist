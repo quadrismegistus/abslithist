{
 "cells": [
  {
   "cell_type": "code",
   "execution_count": 1,
   "metadata": {},
   "outputs": [],
   "source": [
    "# Run slingshot on scoring passages\n",
    "import sys; sys.path.append('../..')\n",
    "from abslithist import *\n",
    "from abslithist.realism.passages import *"
   ]
  },
  {
   "cell_type": "code",
   "execution_count": 2,
   "metadata": {},
   "outputs": [],
   "source": [
    "def sling_txt_to_psgs(inpd):\n",
    "    path=inpd.get('path_txt')\n",
    "    if not path: path=inpd.get('path')\n",
    "    if not path: return {}\n",
    "    odf=path2psgs(path)\n",
    "    return odf.to_dict('records')"
   ]
  },
  {
   "cell_type": "code",
   "execution_count": 3,
   "metadata": {},
   "outputs": [],
   "source": [
    "path_data_root='../../data/scores/data_psgscores'\n",
    "if not os.path.exists(path_data_root): os.makedirs(path_data_root)"
   ]
  },
  {
   "cell_type": "code",
   "execution_count": 4,
   "metadata": {},
   "outputs": [],
   "source": [
    "writegen_jsonl??"
   ]
  },
  {
   "cell_type": "code",
   "execution_count": 5,
   "metadata": {},
   "outputs": [],
   "source": [
    "def do_text(inp,header=['i_psg','i_sent','i','']):\n",
    "    path,ofn=inp\n",
    "    if not os.path.exists(path): return\n",
    "    odir=os.path.dirname(ofn)\n",
    "    if not os.path.exists(odir): os.makedirs(odir)\n",
    "    with open(path) as f: txt=f.read()\n",
    "    def gen():\n",
    "        for psgdf in txt2psgs(txt,num_proc=7):\n",
    "            yield from psgdf[].to_dict('records')\n",
    "    if not os.path.exists(ofn): writegen(ofn,gen)"
   ]
  },
  {
   "cell_type": "code",
   "execution_count": null,
   "metadata": {},
   "outputs": [
    {
     "name": "stderr",
     "output_type": "stream",
     "text": [
      "Scoring passages [x7]:   0%|          | 13/6388 [00:05<48:41,  2.18it/s]  \n",
      "Scoring passages [x7]:   0%|          | 0/6388 [00:00<?, ?it/s]"
     ]
    }
   ],
   "source": [
    "pmap(\n",
    "    do_text,\n",
    "    [\n",
    "        (t.path_txt,\n",
    "         os.path.join(path_data_root,t.corpus.name,t.id+'.csv'))\n",
    "        for t in C.texts()\n",
    "    ],\n",
    "    progress=False,\n",
    "    num_proc=1,\n",
    "    desc='Scoring all texts'\n",
    ")"
   ]
  },
  {
   "cell_type": "code",
   "execution_count": null,
   "metadata": {},
   "outputs": [],
   "source": [
    "!ls ../../data/scores/data_psgscores/CanonFiction"
   ]
  },
  {
   "cell_type": "code",
   "execution_count": null,
   "metadata": {},
   "outputs": [],
   "source": [
    "!head ../../data/scores/data_psgscores/CanonFiction/markmark.Achebe.Things_Fall_Apart.1339.csv"
   ]
  },
  {
   "cell_type": "code",
   "execution_count": null,
   "metadata": {},
   "outputs": [],
   "source": []
  },
  {
   "cell_type": "code",
   "execution_count": null,
   "metadata": {},
   "outputs": [],
   "source": [
    "txtdf=pd.concat(txt2psgs2(willoughby_full))"
   ]
  },
  {
   "cell_type": "code",
   "execution_count": null,
   "metadata": {},
   "outputs": [],
   "source": []
  },
  {
   "cell_type": "code",
   "execution_count": null,
   "metadata": {},
   "outputs": [],
   "source": []
  }
 ],
 "metadata": {
  "kernelspec": {
   "display_name": "Python 3.7.7 64-bit",
   "language": "python",
   "name": "python37764bit686b23b387564d06bfd55da2c42a5653"
  },
  "language_info": {
   "codemirror_mode": {
    "name": "ipython",
    "version": 3
   },
   "file_extension": ".py",
   "mimetype": "text/x-python",
   "name": "python",
   "nbconvert_exporter": "python",
   "pygments_lexer": "ipython3",
   "version": "3.7.7"
  },
  "toc": {
   "base_numbering": 1,
   "nav_menu": {},
   "number_sections": false,
   "sideBar": false,
   "skip_h1_title": false,
   "title_cell": "Table of Contents",
   "title_sidebar": "Contents",
   "toc_cell": false,
   "toc_position": {},
   "toc_section_display": false,
   "toc_window_display": false
  }
 },
 "nbformat": 4,
 "nbformat_minor": 4
}
