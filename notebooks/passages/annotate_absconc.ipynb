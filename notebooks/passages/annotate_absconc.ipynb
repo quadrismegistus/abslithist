{
 "cells": [
  {
   "cell_type": "markdown",
   "metadata": {},
   "source": [
    "# Annotations"
   ]
  },
  {
   "cell_type": "code",
   "execution_count": 1,
   "metadata": {},
   "outputs": [],
   "source": [
    "fn='../../data/psgs/data.psgs.CanonFiction.v4.jsonl'\n",
    "fnarcadia='../../data/psgs/data.psgs.arcadia.v3.jsonl'"
   ]
  },
  {
   "cell_type": "code",
   "execution_count": 2,
   "metadata": {},
   "outputs": [],
   "source": [
    "labels = [\n",
    "    'Combat',\n",
    "    'Intersocial',\n",
    "    'Domestic',\n",
    "    'CharDesc',\n",
    "    'BodyDesc',\n",
    "    'PlaceDesc',\n",
    "    'Judgment',\n",
    "    'Action',\n",
    "    'Movement',\n",
    "    'AbsGen',\n",
    "    'ConcEmo',\n",
    "    'Interiority',\n",
    "    'Grotesque',\n",
    "    'Catalogue',\n",
    "    'Propriety',\n",
    "    'Morality',\n",
    "    'Dialogue',\n",
    "    'Detailed',\n",
    "    'SlowTime',\n",
    "    'ObjDesc',\n",
    "    'Figural',\n",
    "    'Religion',\n",
    "    'Inference',\n",
    "    'SocialAnalysis',\n",
    "    'InflatedStyle',\n",
    "    'PersAbs',\n",
    "    'Epistemology',\n",
    "    'Romance',\n",
    "    'Counsel',\n",
    "    'Honour'\n",
    "]"
   ]
  },
  {
   "cell_type": "code",
   "execution_count": 3,
   "metadata": {},
   "outputs": [
    {
     "data": {
      "text/plain": [
       "30"
      ]
     },
     "execution_count": 3,
     "metadata": {},
     "output_type": "execute_result"
    }
   ],
   "source": [
    "len(labels)"
   ]
  },
  {
   "cell_type": "code",
   "execution_count": 4,
   "metadata": {},
   "outputs": [],
   "source": [
    "dataset='absconc_v4b'\n",
    "dataset_arcadia='arcadia3'"
   ]
  },
  {
   "cell_type": "code",
   "execution_count": 5,
   "metadata": {},
   "outputs": [
    {
     "name": "stdout",
     "output_type": "stream",
     "text": [
      "python -m prodigy textcat.manual absconc_v4b ../../data/psgs/data.psgs.CanonFiction.v4.jsonl --label ABSGEN,ACTION,BODYDESC,CATALOGUE,CHARDESC,COMBAT,CONCEMO,COUNSEL,DETAILED,DIALOGUE,DOMESTIC,EPISTEMOLOGY,FIGURAL,GROTESQUE,HONOUR,INFERENCE,INFLATEDSTYLE,INTERIORITY,INTERSOCIAL,JUDGMENT,MORALITY,MOVEMENT,OBJDESC,PERSABS,PLACEDESC,PROPRIETY,RELIGION,ROMANCE,SLOWTIME,SOCIALANALYSIS\n",
      "python -m prodigy textcat.manual arcadia3 ../../data/psgs/data.psgs.arcadia.v3.jsonl --label ABSGEN,ACTION,BODYDESC,CATALOGUE,CHARDESC,COMBAT,CONCEMO,COUNSEL,DETAILED,DIALOGUE,DOMESTIC,EPISTEMOLOGY,FIGURAL,GROTESQUE,HONOUR,INFERENCE,INFLATEDSTYLE,INTERIORITY,INTERSOCIAL,JUDGMENT,MORALITY,MOVEMENT,OBJDESC,PERSABS,PLACEDESC,PROPRIETY,RELIGION,ROMANCE,SLOWTIME,SOCIALANALYSIS\n"
     ]
    }
   ],
   "source": [
    "cmd = f'python -m prodigy textcat.manual {dataset} {fn} --label {\",\".join(sorted(labels)).upper()}'\n",
    "cmd_arcadia = f'python -m prodigy textcat.manual {dataset_arcadia} {fnarcadia} --label {\",\".join(sorted(labels)).upper()}'\n",
    "print(cmd)\n",
    "print(cmd_arcadia)"
   ]
  },
  {
   "cell_type": "code",
   "execution_count": 6,
   "metadata": {},
   "outputs": [],
   "source": [
    "!{cmd}"
   ]
  },
  {
   "cell_type": "code",
   "execution_count": 7,
   "metadata": {},
   "outputs": [
    {
     "name": "stdout",
     "output_type": "stream",
     "text": [
      "Using 30 label(s): ABSGEN, ACTION, BODYDESC, CATALOGUE, CHARDESC, COMBAT,\n",
      "CONCEMO, COUNSEL, DETAILED, DIALOGUE, DOMESTIC, EPISTEMOLOGY, FIGURAL,\n",
      "GROTESQUE, HONOUR, INFERENCE, INFLATEDSTYLE, INTERIORITY, INTERSOCIAL, JUDGMENT,\n",
      "MORALITY, MOVEMENT, OBJDESC, PERSABS, PLACEDESC, PROPRIETY, RELIGION, ROMANCE,\n",
      "SLOWTIME, SOCIALANALYSIS\n",
      "Added dataset arcadia2 to database SQLite.\n",
      "\n",
      "✨  Starting the web server at http://0.0.0.0:8080 ...\n",
      "Open the app in your browser and start annotating!\n",
      "\n",
      "^C\n"
     ]
    }
   ],
   "source": [
    "# !{cmd_arcadia}"
   ]
  },
  {
   "cell_type": "code",
   "execution_count": null,
   "metadata": {},
   "outputs": [],
   "source": []
  }
 ],
 "metadata": {
  "kernelspec": {
   "display_name": "Python 3.7.7 64-bit",
   "language": "python",
   "name": "python37764bit686b23b387564d06bfd55da2c42a5653"
  },
  "language_info": {
   "codemirror_mode": {
    "name": "ipython",
    "version": 3
   },
   "file_extension": ".py",
   "mimetype": "text/x-python",
   "name": "python",
   "nbconvert_exporter": "python",
   "pygments_lexer": "ipython3",
   "version": "3.7.7-final"
  },
  "widgets": {
   "application/vnd.jupyter.widget-state+json": {
    "state": {},
    "version_major": 2,
    "version_minor": 0
   }
  }
 },
 "nbformat": 4,
 "nbformat_minor": 4
}
