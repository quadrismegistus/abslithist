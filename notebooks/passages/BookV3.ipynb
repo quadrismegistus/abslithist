{
 "cells": [
  {
   "cell_type": "code",
   "execution_count": 15,
   "metadata": {},
   "outputs": [],
   "source": [
    "# Easy book\n",
    "import sys; sys.path.append('../..')\n",
    "from abslithist.words import *\n",
    "rootdir='/home/ryan/Markdown/Drafts/AbsRealism/passages/v2/'"
   ]
  },
  {
   "cell_type": "code",
   "execution_count": 16,
   "metadata": {},
   "outputs": [],
   "source": [
    "# !pip install pandarallel -qU"
   ]
  },
  {
   "cell_type": "code",
   "execution_count": 17,
   "metadata": {},
   "outputs": [],
   "source": [
    "def format_psg(row):\n",
    "#     psg=row.passage.replace('\\\\\\\\','\\n> ').replace('\\n','\\n').strip().replace('  ',' ')\n",
    "    psg=row.passage.replace('\\\\\\\\',' ')\n",
    "    psg=psg.replace('```','|||').replace('`','').replace('|||','```')\n",
    "    #psg=psg.replace(\"''\",'\"').replace('\"',\" ' \")\n",
    "    while '  ' in psg: psg=psg.replace('  ',' ')\n",
    "    stats=f'{row.num_words} words; {row.num_tokens} content words; {row.num_abs} abstract, {row.num_conc} concrete, {row.num_neither} neutral/ambig; A-C = {row.num_abs-row.num_conc}'\n",
    "    return f'> {psg}\\n> \\n> ({stats})'\n",
    "    "
   ]
  },
  {
   "cell_type": "code",
   "execution_count": 18,
   "metadata": {},
   "outputs": [],
   "source": [
    "def dotxt(txt,source='Median',period='median',window_len=50):\n",
    "    \n",
    "    # filter\n",
    "    txt=txt.strip().replace('`','\"')\n",
    "    \n",
    "    df=pd.DataFrame(\n",
    "        count_absconc(\n",
    "            txt,\n",
    "            incl_psg=True,\n",
    "            sources={source},\n",
    "            periods={period},\n",
    "            psg_as_markdown=True,\n",
    "            window_len=window_len\n",
    "        )\n",
    "    )\n",
    "    df['psgf']=df.apply(format_psg,1)\n",
    "    return df"
   ]
  },
  {
   "cell_type": "code",
   "execution_count": 19,
   "metadata": {},
   "outputs": [],
   "source": [
    "def psgs2md(df):\n",
    "    l=[]\n",
    "    for i,x in enumerate(df.psgf):\n",
    "        xstr=f'### {i+1}\\n\\n{x}\\n'\n",
    "        l.append(xstr)\n",
    "    return '\\n\\n----\\n\\n'.join(l)"
   ]
  },
  {
   "cell_type": "code",
   "execution_count": 20,
   "metadata": {},
   "outputs": [],
   "source": [
    "def save_t(t,name=None,topn=100,maxlen=100,oroot=rootdir,**attrs):\n",
    "    # fn stuff\n",
    "    if not name: name=t.id\n",
    "    odir=os.path.join(oroot,name.replace('/','').replace(' ',''))\n",
    "    if not os.path.exists(odir): os.makedirs(odir)\n",
    "        \n",
    "    # parse\n",
    "    df = dotxt(t.txt,**attrs)\n",
    "    \n",
    "    # save chrono\n",
    "    df['_i']=list(range(len(df)))\n",
    "    df['_bin']=df['_i']//maxlen\n",
    "    for gname,gdf in df.groupby('_bin'):\n",
    "        ofn=os.path.join(odir,f'psgs_chrono{gname}.md')\n",
    "        with open(ofn,'w') as of: of.write(psgs2md(gdf.sort_values('_i')))\n",
    "    \n",
    "    # save top\n",
    "    dftop = df[df.num_total==df.num_total.max()]\n",
    "    for topkey in ['num_abs','num_neither','num_conc']:\n",
    "        with open(os.path.join(odir,f'psgs_most_{topkey}.md'),'w') as of:\n",
    "            of.write(\n",
    "                psgs2md(\n",
    "                    dftop.sort_values(\n",
    "                        topkey,\n",
    "                        ascending=False).head(topn)\n",
    "                )\n",
    "            )"
   ]
  },
  {
   "cell_type": "code",
   "execution_count": 21,
   "metadata": {},
   "outputs": [
    {
     "data": {
      "text/plain": [
       "<lltk.tools.tools.Bunch at 0x7f46bb34b3d0>"
      ]
     },
     "execution_count": 21,
     "metadata": {},
     "output_type": "execute_result"
    }
   ],
   "source": [
    "import lltk\n",
    "C=lltk.load('CanonFiction')\n",
    "t=C.t\n",
    "C.au"
   ]
  },
  {
   "cell_type": "code",
   "execution_count": 22,
   "metadata": {},
   "outputs": [],
   "source": [
    "tsidney = C.textd['chadwyck.Sidney.The_Covntesse_of_Pembroke.0991']\n",
    "tnashe = C.textd['Nashe.Unfortunate Traveller']"
   ]
  },
  {
   "cell_type": "code",
   "execution_count": 23,
   "metadata": {},
   "outputs": [],
   "source": [
    "tquixote=C.textd['Cervantes.Don Quixote']"
   ]
  },
  {
   "cell_type": "code",
   "execution_count": 26,
   "metadata": {},
   "outputs": [],
   "source": [
    "# save_t(tsidney,name='arcadia',period='C17')\n",
    "# save_t(tnashe,name='nashe',period='C17')\n",
    "# save_t(tquixote,name='quixote',period='C17')\n",
    "save_t(C.textd['chadwyck.Bunyan.The_Pilgrims_Progress_Par.0939'], name='pprogress',period='C17')"
   ]
  },
  {
   "cell_type": "code",
   "execution_count": 23,
   "metadata": {},
   "outputs": [],
   "source": [
    "# save_t(C.textd['chadwyck.Reynolds.The_Flovver_of_Fidelitie.0980'], name='reynolds',period='C17')"
   ]
  },
  {
   "cell_type": "code",
   "execution_count": 24,
   "metadata": {},
   "outputs": [],
   "source": [
    "# save_t(C.textd['Richardson.Pamela'],name='pamela',period='C18')"
   ]
  },
  {
   "cell_type": "code",
   "execution_count": null,
   "metadata": {},
   "outputs": [],
   "source": []
  },
  {
   "cell_type": "code",
   "execution_count": 10,
   "metadata": {},
   "outputs": [],
   "source": [
    "# save_t(C.au.Montalvo.AmadisOfGaul, name='amadis',oroot=rootdir,period='C17')"
   ]
  },
  {
   "cell_type": "code",
   "execution_count": 12,
   "metadata": {},
   "outputs": [],
   "source": [
    "# save_t(C.textd['Anon.Lazarillo'], name='lazarillo',oroot=rootdir,period='C17')"
   ]
  },
  {
   "cell_type": "code",
   "execution_count": null,
   "metadata": {},
   "outputs": [],
   "source": [
    "stop"
   ]
  },
  {
   "cell_type": "code",
   "execution_count": null,
   "metadata": {},
   "outputs": [],
   "source": [
    "save_t(C.textd['Heliodorus.Aethopian Story.Underdowne+Wright trans'], name='heliodorus',oroot=rootdir,period='C17')"
   ]
  },
  {
   "cell_type": "code",
   "execution_count": null,
   "metadata": {},
   "outputs": [],
   "source": []
  },
  {
   "cell_type": "code",
   "execution_count": null,
   "metadata": {},
   "outputs": [],
   "source": [
    "save_t(C.textd['Homer.Odyssey.Chapman'], name='homer',oroot=rootdir,period='C17')"
   ]
  },
  {
   "cell_type": "code",
   "execution_count": null,
   "metadata": {},
   "outputs": [],
   "source": [
    "save_t(t,'outline',oroot=rootdir,period='C20')"
   ]
  },
  {
   "cell_type": "code",
   "execution_count": null,
   "metadata": {},
   "outputs": [],
   "source": [
    "save_t(C.textd['chadwyck.Eliot.Middlemarch_A_Study_of_Pr.1192'], name='middlemarch',oroot=rootdir,period='C19')"
   ]
  },
  {
   "cell_type": "code",
   "execution_count": null,
   "metadata": {},
   "outputs": [],
   "source": [
    "save_t(C.textd['chadwyck.Dickens.Bleak_House_By_Charles_Di.1168'], name='bleakhouse', oroot=rootdir,period='C19')"
   ]
  },
  {
   "cell_type": "code",
   "execution_count": null,
   "metadata": {},
   "outputs": [],
   "source": [
    "save_t(C.textd['chadwyck.Austen.Northanger_Abbey_and_Pers.1093'], name='northanger', oroot=rootdir,period='C18')\n",
    "save_t(C.textd['chadwyck.Austen.Mansfield_Park_A_Novel_In.1092'], name='mansfield', oroot=rootdir,period='C18')\n",
    "save_t(C.textd['chadwyck.Austen.Emma_A_Novel_In_Three_Vol.1090'], name='emma', oroot=rootdir,period='C18')\n",
    "save_t(C.textd['chadwyck.Austen.Lady_Susan_in_The_Works_o.1091'], name='ladysusan', oroot=rootdir,period='C18')\n",
    "save_t(C.textd['chadwyck.Austen.Sense_and_Sensibility_A_N.1097'], name='senssens', oroot=rootdir,period='C18')\n",
    "save_t(C.textd['chadwyck.Austen.Pride_and_Prejudice_A_Nov.1095'], name='prideprej', oroot=rootdir,period='C18')"
   ]
  },
  {
   "cell_type": "code",
   "execution_count": null,
   "metadata": {},
   "outputs": [],
   "source": [
    "save_t(C.textd['chadwyck.Haywood.The_Masqueraders.1049'], name='masqueraders', oroot=rootdir,period='C18')"
   ]
  },
  {
   "cell_type": "code",
   "execution_count": null,
   "metadata": {},
   "outputs": [],
   "source": []
  }
 ],
 "metadata": {
  "kernelspec": {
   "display_name": "Python 3.7.7 64-bit",
   "language": "python",
   "name": "python37764bit686b23b387564d06bfd55da2c42a5653"
  },
  "language_info": {
   "codemirror_mode": {
    "name": "ipython",
    "version": 3
   },
   "file_extension": ".py",
   "mimetype": "text/x-python",
   "name": "python",
   "nbconvert_exporter": "python",
   "pygments_lexer": "ipython3",
   "version": "3.7.7"
  },
  "toc": {
   "base_numbering": 1,
   "nav_menu": {},
   "number_sections": false,
   "sideBar": false,
   "skip_h1_title": false,
   "title_cell": "Table of Contents",
   "title_sidebar": "Contents",
   "toc_cell": false,
   "toc_position": {},
   "toc_section_display": false,
   "toc_window_display": false
  },
  "widgets": {
   "application/vnd.jupyter.widget-state+json": {
    "state": {},
    "version_major": 2,
    "version_minor": 0
   }
  }
 },
 "nbformat": 4,
 "nbformat_minor": 4
}
