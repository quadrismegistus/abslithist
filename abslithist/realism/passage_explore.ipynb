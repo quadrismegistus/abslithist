{
 "cells": [
  {
   "cell_type": "markdown",
   "metadata": {},
   "source": [
    "# gen passages"
   ]
  },
  {
   "cell_type": "code",
   "execution_count": 18,
   "metadata": {},
   "outputs": [],
   "source": [
    "import sys\n",
    "sys.path.append('../..')\n",
    "from abslithist import *\n",
    "pd.options.display.max_rows=20"
   ]
  },
  {
   "cell_type": "code",
   "execution_count": 2,
   "metadata": {},
   "outputs": [],
   "source": [
    "df=pd.read_csv('../../data/counts/data.absconc.CanonFiction.psgs.v5.csv.gz')"
   ]
  },
  {
   "cell_type": "code",
   "execution_count": 5,
   "metadata": {},
   "outputs": [],
   "source": [
    "df['abs-conc']=df['num_abs']-df['num_conc']\n",
    "df=df.sort_values('abs-conc')"
   ]
  },
  {
   "cell_type": "code",
   "execution_count": 20,
   "metadata": {},
   "outputs": [
    {
     "data": {
      "text/html": [
       "<div>\n",
       "<style scoped>\n",
       "    .dataframe tbody tr th:only-of-type {\n",
       "        vertical-align: middle;\n",
       "    }\n",
       "\n",
       "    .dataframe tbody tr th {\n",
       "        vertical-align: top;\n",
       "    }\n",
       "\n",
       "    .dataframe thead th {\n",
       "        text-align: right;\n",
       "    }\n",
       "</style>\n",
       "<table border=\"1\" class=\"dataframe\">\n",
       "  <thead>\n",
       "    <tr style=\"text-align: right;\">\n",
       "      <th></th>\n",
       "      <th>id</th>\n",
       "      <th>slice</th>\n",
       "      <th>source</th>\n",
       "      <th>period</th>\n",
       "      <th>num_abs</th>\n",
       "      <th>num_conc</th>\n",
       "      <th>num_neither</th>\n",
       "      <th>num_total</th>\n",
       "      <th>num_types</th>\n",
       "      <th>passage</th>\n",
       "      <th>abs-conc</th>\n",
       "    </tr>\n",
       "  </thead>\n",
       "  <tbody>\n",
       "    <tr>\n",
       "      <th>42290</th>\n",
       "      <td>Rabelais.Gargantua and Pantagruel</td>\n",
       "      <td>764</td>\n",
       "      <td>Median</td>\n",
       "      <td>median</td>\n",
       "      <td>0</td>\n",
       "      <td>84</td>\n",
       "      <td>16</td>\n",
       "      <td>100</td>\n",
       "      <td>86</td>\n",
       "      <td>&lt;i&gt;&lt;u&gt;sauce&lt;/u&gt;&lt;/i&gt;. &lt;i&gt;&lt;u&gt;Caviare&lt;/u&gt;&lt;/i&gt; and...</td>\n",
       "      <td>-84</td>\n",
       "    </tr>\n",
       "    <tr>\n",
       "      <th>339060</th>\n",
       "      <td>chadwyck.Scott.Kenilworth_in_the_Waverle.1316</td>\n",
       "      <td>489</td>\n",
       "      <td>Median</td>\n",
       "      <td>median</td>\n",
       "      <td>0</td>\n",
       "      <td>79</td>\n",
       "      <td>21</td>\n",
       "      <td>100</td>\n",
       "      <td>61</td>\n",
       "      <td>of what &lt;i&gt;appears&lt;/i&gt; to have been one of the...</td>\n",
       "      <td>-79</td>\n",
       "    </tr>\n",
       "    <tr>\n",
       "      <th>45371</th>\n",
       "      <td>Steele.Spectator</td>\n",
       "      <td>1331</td>\n",
       "      <td>Median</td>\n",
       "      <td>median</td>\n",
       "      <td>0</td>\n",
       "      <td>78</td>\n",
       "      <td>22</td>\n",
       "      <td>100</td>\n",
       "      <td>87</td>\n",
       "      <td>with &lt;i&gt;&lt;u&gt;pockets&lt;/u&gt;&lt;/i&gt;, and four &lt;i&gt;&lt;u&gt;str...</td>\n",
       "      <td>-78</td>\n",
       "    </tr>\n",
       "    <tr>\n",
       "      <th>42215</th>\n",
       "      <td>Rabelais.Gargantua and Pantagruel</td>\n",
       "      <td>689</td>\n",
       "      <td>Median</td>\n",
       "      <td>median</td>\n",
       "      <td>0</td>\n",
       "      <td>75</td>\n",
       "      <td>25</td>\n",
       "      <td>100</td>\n",
       "      <td>97</td>\n",
       "      <td>. His back, Like an &lt;i&gt;overgrown&lt;/i&gt; rack- His...</td>\n",
       "      <td>-75</td>\n",
       "    </tr>\n",
       "    <tr>\n",
       "      <th>339066</th>\n",
       "      <td>chadwyck.Scott.Kenilworth_in_the_Waverle.1316</td>\n",
       "      <td>495</td>\n",
       "      <td>Median</td>\n",
       "      <td>median</td>\n",
       "      <td>0</td>\n",
       "      <td>74</td>\n",
       "      <td>26</td>\n",
       "      <td>100</td>\n",
       "      <td>63</td>\n",
       "      <td>,&amp; &lt;i&gt;c.&lt;/i&gt;( These are &lt;i&gt;magnificent&lt;/i&gt; and...</td>\n",
       "      <td>-74</td>\n",
       "    </tr>\n",
       "    <tr>\n",
       "      <th>41891</th>\n",
       "      <td>Rabelais.Gargantua and Pantagruel</td>\n",
       "      <td>365</td>\n",
       "      <td>Median</td>\n",
       "      <td>median</td>\n",
       "      <td>0</td>\n",
       "      <td>73</td>\n",
       "      <td>27</td>\n",
       "      <td>100</td>\n",
       "      <td>98</td>\n",
       "      <td>of &lt;i&gt;curs&lt;/i&gt;, &lt;i&gt;bawling&lt;/i&gt; of &lt;i&gt;&lt;u&gt;mastif...</td>\n",
       "      <td>-73</td>\n",
       "    </tr>\n",
       "    <tr>\n",
       "      <th>526505</th>\n",
       "      <td>markmark.Le Guin.Always_Coming_Home.1551</td>\n",
       "      <td>452</td>\n",
       "      <td>Median</td>\n",
       "      <td>median</td>\n",
       "      <td>0</td>\n",
       "      <td>72</td>\n",
       "      <td>28</td>\n",
       "      <td>100</td>\n",
       "      <td>71</td>\n",
       "      <td>of &lt;i&gt;&lt;u&gt;thick&lt;/u&gt;&lt;/i&gt; &lt;i&gt;&lt;u&gt;tomato&lt;/u&gt;&lt;/i&gt; pa...</td>\n",
       "      <td>-72</td>\n",
       "    </tr>\n",
       "    <tr>\n",
       "      <th>584312</th>\n",
       "      <td>markmark.Wolfe.Look_Homeward_Angel.1674</td>\n",
       "      <td>110</td>\n",
       "      <td>Median</td>\n",
       "      <td>median</td>\n",
       "      <td>1</td>\n",
       "      <td>73</td>\n",
       "      <td>26</td>\n",
       "      <td>100</td>\n",
       "      <td>89</td>\n",
       "      <td>&lt;i&gt;&lt;u&gt;pork&lt;/u&gt;&lt;/i&gt;; of &lt;i&gt;&lt;u&gt;butter&lt;/u&gt;&lt;/i&gt; an...</td>\n",
       "      <td>-72</td>\n",
       "    </tr>\n",
       "    <tr>\n",
       "      <th>42292</th>\n",
       "      <td>Rabelais.Gargantua and Pantagruel</td>\n",
       "      <td>766</td>\n",
       "      <td>Median</td>\n",
       "      <td>median</td>\n",
       "      <td>3</td>\n",
       "      <td>74</td>\n",
       "      <td>23</td>\n",
       "      <td>100</td>\n",
       "      <td>91</td>\n",
       "      <td>, a hundred and a world of &lt;i&gt;&lt;u&gt;Pickled&lt;/u&gt;&lt;/...</td>\n",
       "      <td>-71</td>\n",
       "    </tr>\n",
       "    <tr>\n",
       "      <th>5483</th>\n",
       "      <td>Bible.Exodus.KJV</td>\n",
       "      <td>83</td>\n",
       "      <td>Median</td>\n",
       "      <td>median</td>\n",
       "      <td>0</td>\n",
       "      <td>71</td>\n",
       "      <td>29</td>\n",
       "      <td>100</td>\n",
       "      <td>49</td>\n",
       "      <td>of the &lt;i&gt;&lt;u&gt;breastplate&lt;/u&gt;&lt;/i&gt;.[17] And they...</td>\n",
       "      <td>-71</td>\n",
       "    </tr>\n",
       "  </tbody>\n",
       "</table>\n",
       "</div>"
      ],
      "text/plain": [
       "                                                   id  slice  source  period  \\\n",
       "42290               Rabelais.Gargantua and Pantagruel    764  Median  median   \n",
       "339060  chadwyck.Scott.Kenilworth_in_the_Waverle.1316    489  Median  median   \n",
       "45371                                Steele.Spectator   1331  Median  median   \n",
       "42215               Rabelais.Gargantua and Pantagruel    689  Median  median   \n",
       "339066  chadwyck.Scott.Kenilworth_in_the_Waverle.1316    495  Median  median   \n",
       "41891               Rabelais.Gargantua and Pantagruel    365  Median  median   \n",
       "526505       markmark.Le Guin.Always_Coming_Home.1551    452  Median  median   \n",
       "584312        markmark.Wolfe.Look_Homeward_Angel.1674    110  Median  median   \n",
       "42292               Rabelais.Gargantua and Pantagruel    766  Median  median   \n",
       "5483                                 Bible.Exodus.KJV     83  Median  median   \n",
       "\n",
       "        num_abs  num_conc  num_neither  num_total  num_types  \\\n",
       "42290         0        84           16        100         86   \n",
       "339060        0        79           21        100         61   \n",
       "45371         0        78           22        100         87   \n",
       "42215         0        75           25        100         97   \n",
       "339066        0        74           26        100         63   \n",
       "41891         0        73           27        100         98   \n",
       "526505        0        72           28        100         71   \n",
       "584312        1        73           26        100         89   \n",
       "42292         3        74           23        100         91   \n",
       "5483          0        71           29        100         49   \n",
       "\n",
       "                                                  passage  abs-conc  \n",
       "42290   <i><u>sauce</u></i>. <i><u>Caviare</u></i> and...       -84  \n",
       "339060  of what <i>appears</i> to have been one of the...       -79  \n",
       "45371   with <i><u>pockets</u></i>, and four <i><u>str...       -78  \n",
       "42215   . His back, Like an <i>overgrown</i> rack- His...       -75  \n",
       "339066  ,& <i>c.</i>( These are <i>magnificent</i> and...       -74  \n",
       "41891   of <i>curs</i>, <i>bawling</i> of <i><u>mastif...       -73  \n",
       "526505  of <i><u>thick</u></i> <i><u>tomato</u></i> pa...       -72  \n",
       "584312  <i><u>pork</u></i>; of <i><u>butter</u></i> an...       -72  \n",
       "42292   , a hundred and a world of <i><u>Pickled</u></...       -71  \n",
       "5483    of the <i><u>breastplate</u></i>.[17] And they...       -71  "
      ]
     },
     "execution_count": 20,
     "metadata": {},
     "output_type": "execute_result"
    }
   ],
   "source": [
    "df.head(10)"
   ]
  },
  {
   "cell_type": "code",
   "execution_count": 23,
   "metadata": {},
   "outputs": [
    {
     "data": {
      "text/html": [
       "<div>\n",
       "<style scoped>\n",
       "    .dataframe tbody tr th:only-of-type {\n",
       "        vertical-align: middle;\n",
       "    }\n",
       "\n",
       "    .dataframe tbody tr th {\n",
       "        vertical-align: top;\n",
       "    }\n",
       "\n",
       "    .dataframe thead th {\n",
       "        text-align: right;\n",
       "    }\n",
       "</style>\n",
       "<table border=\"1\" class=\"dataframe\">\n",
       "  <thead>\n",
       "    <tr style=\"text-align: right;\">\n",
       "      <th></th>\n",
       "      <th>id</th>\n",
       "      <th>slice</th>\n",
       "      <th>source</th>\n",
       "      <th>period</th>\n",
       "      <th>num_abs</th>\n",
       "      <th>num_conc</th>\n",
       "      <th>num_neither</th>\n",
       "      <th>num_total</th>\n",
       "      <th>num_types</th>\n",
       "      <th>passage</th>\n",
       "      <th>abs-conc</th>\n",
       "    </tr>\n",
       "  </thead>\n",
       "  <tbody>\n",
       "    <tr>\n",
       "      <th>130028</th>\n",
       "      <td>chadwyck.Cooper.The_Monikins_Volume.0160</td>\n",
       "      <td>122</td>\n",
       "      <td>Median</td>\n",
       "      <td>median</td>\n",
       "      <td>80</td>\n",
       "      <td>0</td>\n",
       "      <td>20</td>\n",
       "      <td>100</td>\n",
       "      <td>88</td>\n",
       "      <td>&lt;i&gt;&lt;b&gt;Downright&lt;/b&gt;&lt;/i&gt;, you are now &lt;i&gt;utteri...</td>\n",
       "      <td>80</td>\n",
       "    </tr>\n",
       "    <tr>\n",
       "      <th>564913</th>\n",
       "      <td>markmark.Stein.The_Making_of_Americans.1630</td>\n",
       "      <td>847</td>\n",
       "      <td>Median</td>\n",
       "      <td>median</td>\n",
       "      <td>78</td>\n",
       "      <td>1</td>\n",
       "      <td>21</td>\n",
       "      <td>100</td>\n",
       "      <td>10</td>\n",
       "      <td>to be &lt;i&gt;completely&lt;/i&gt; &lt;i&gt;loving&lt;/i&gt; him and ...</td>\n",
       "      <td>77</td>\n",
       "    </tr>\n",
       "    <tr>\n",
       "      <th>564841</th>\n",
       "      <td>markmark.Stein.The_Making_of_Americans.1630</td>\n",
       "      <td>775</td>\n",
       "      <td>Median</td>\n",
       "      <td>median</td>\n",
       "      <td>78</td>\n",
       "      <td>1</td>\n",
       "      <td>21</td>\n",
       "      <td>100</td>\n",
       "      <td>22</td>\n",
       "      <td>what they are &lt;i&gt;&lt;b&gt;knowing&lt;/b&gt;&lt;/i&gt;, about whi...</td>\n",
       "      <td>77</td>\n",
       "    </tr>\n",
       "    <tr>\n",
       "      <th>6413</th>\n",
       "      <td>Boethius.Consolation of Philosophy</td>\n",
       "      <td>120</td>\n",
       "      <td>Median</td>\n",
       "      <td>median</td>\n",
       "      <td>77</td>\n",
       "      <td>0</td>\n",
       "      <td>23</td>\n",
       "      <td>100</td>\n",
       "      <td>65</td>\n",
       "      <td>Thought, and &lt;i&gt;&lt;b&gt;declare&lt;/b&gt;&lt;/i&gt; that &lt;i&gt;&lt;b&gt;...</td>\n",
       "      <td>77</td>\n",
       "    </tr>\n",
       "    <tr>\n",
       "      <th>564549</th>\n",
       "      <td>markmark.Stein.The_Making_of_Americans.1630</td>\n",
       "      <td>483</td>\n",
       "      <td>Median</td>\n",
       "      <td>median</td>\n",
       "      <td>76</td>\n",
       "      <td>0</td>\n",
       "      <td>24</td>\n",
       "      <td>100</td>\n",
       "      <td>25</td>\n",
       "      <td>this very &lt;i&gt;&lt;b&gt;interesting&lt;/b&gt;&lt;/i&gt; thing. &lt;i&gt;...</td>\n",
       "      <td>76</td>\n",
       "    </tr>\n",
       "    <tr>\n",
       "      <th>222664</th>\n",
       "      <td>chadwyck.Holcroft.The_Adventures_of_Hugh_Tr.1128</td>\n",
       "      <td>459</td>\n",
       "      <td>Median</td>\n",
       "      <td>median</td>\n",
       "      <td>75</td>\n",
       "      <td>0</td>\n",
       "      <td>25</td>\n",
       "      <td>100</td>\n",
       "      <td>91</td>\n",
       "      <td>myself to the &lt;i&gt;&lt;b&gt;law&lt;/b&gt;&lt;/i&gt;, he had return...</td>\n",
       "      <td>75</td>\n",
       "    </tr>\n",
       "    <tr>\n",
       "      <th>60676</th>\n",
       "      <td>chadwyck.Amory.John_Buncle.0993</td>\n",
       "      <td>715</td>\n",
       "      <td>Median</td>\n",
       "      <td>median</td>\n",
       "      <td>75</td>\n",
       "      <td>0</td>\n",
       "      <td>25</td>\n",
       "      <td>100</td>\n",
       "      <td>64</td>\n",
       "      <td>are &lt;i&gt;&lt;b&gt;reasons&lt;/b&gt;&lt;/i&gt; for &lt;i&gt;&lt;b&gt;welldoing&lt;...</td>\n",
       "      <td>75</td>\n",
       "    </tr>\n",
       "    <tr>\n",
       "      <th>127433</th>\n",
       "      <td>chadwyck.Cooper.The_Crater_or_Vulcans_Pea.0140</td>\n",
       "      <td>242</td>\n",
       "      <td>Median</td>\n",
       "      <td>median</td>\n",
       "      <td>76</td>\n",
       "      <td>1</td>\n",
       "      <td>23</td>\n",
       "      <td>100</td>\n",
       "      <td>87</td>\n",
       "      <td>up a &lt;i&gt;standard&lt;/i&gt; of &lt;i&gt;&lt;b&gt;principles&lt;/b&gt;&lt;/...</td>\n",
       "      <td>75</td>\n",
       "    </tr>\n",
       "    <tr>\n",
       "      <th>564840</th>\n",
       "      <td>markmark.Stein.The_Making_of_Americans.1630</td>\n",
       "      <td>774</td>\n",
       "      <td>Median</td>\n",
       "      <td>median</td>\n",
       "      <td>76</td>\n",
       "      <td>2</td>\n",
       "      <td>22</td>\n",
       "      <td>100</td>\n",
       "      <td>31</td>\n",
       "      <td>that is &lt;i&gt;connected&lt;/i&gt; with the thing about ...</td>\n",
       "      <td>74</td>\n",
       "    </tr>\n",
       "    <tr>\n",
       "      <th>94361</th>\n",
       "      <td>chadwyck.Brown.Ormond_or_The_Secret_Witn.0082</td>\n",
       "      <td>135</td>\n",
       "      <td>Median</td>\n",
       "      <td>median</td>\n",
       "      <td>74</td>\n",
       "      <td>0</td>\n",
       "      <td>26</td>\n",
       "      <td>100</td>\n",
       "      <td>93</td>\n",
       "      <td>on the &lt;i&gt;&lt;b&gt;voluntariness&lt;/b&gt;&lt;/i&gt; with which ...</td>\n",
       "      <td>74</td>\n",
       "    </tr>\n",
       "  </tbody>\n",
       "</table>\n",
       "</div>"
      ],
      "text/plain": [
       "                                                      id  slice  source  \\\n",
       "130028          chadwyck.Cooper.The_Monikins_Volume.0160    122  Median   \n",
       "564913       markmark.Stein.The_Making_of_Americans.1630    847  Median   \n",
       "564841       markmark.Stein.The_Making_of_Americans.1630    775  Median   \n",
       "6413                  Boethius.Consolation of Philosophy    120  Median   \n",
       "564549       markmark.Stein.The_Making_of_Americans.1630    483  Median   \n",
       "222664  chadwyck.Holcroft.The_Adventures_of_Hugh_Tr.1128    459  Median   \n",
       "60676                    chadwyck.Amory.John_Buncle.0993    715  Median   \n",
       "127433    chadwyck.Cooper.The_Crater_or_Vulcans_Pea.0140    242  Median   \n",
       "564840       markmark.Stein.The_Making_of_Americans.1630    774  Median   \n",
       "94361      chadwyck.Brown.Ormond_or_The_Secret_Witn.0082    135  Median   \n",
       "\n",
       "        period  num_abs  num_conc  num_neither  num_total  num_types  \\\n",
       "130028  median       80         0           20        100         88   \n",
       "564913  median       78         1           21        100         10   \n",
       "564841  median       78         1           21        100         22   \n",
       "6413    median       77         0           23        100         65   \n",
       "564549  median       76         0           24        100         25   \n",
       "222664  median       75         0           25        100         91   \n",
       "60676   median       75         0           25        100         64   \n",
       "127433  median       76         1           23        100         87   \n",
       "564840  median       76         2           22        100         31   \n",
       "94361   median       74         0           26        100         93   \n",
       "\n",
       "                                                  passage  abs-conc  \n",
       "130028  <i><b>Downright</b></i>, you are now <i>utteri...        80  \n",
       "564913  to be <i>completely</i> <i>loving</i> him and ...        77  \n",
       "564841  what they are <i><b>knowing</b></i>, about whi...        77  \n",
       "6413    Thought, and <i><b>declare</b></i> that <i><b>...        77  \n",
       "564549  this very <i><b>interesting</b></i> thing. <i>...        76  \n",
       "222664  myself to the <i><b>law</b></i>, he had return...        75  \n",
       "60676   are <i><b>reasons</b></i> for <i><b>welldoing<...        75  \n",
       "127433  up a <i>standard</i> of <i><b>principles</b></...        75  \n",
       "564840  that is <i>connected</i> with the thing about ...        74  \n",
       "94361   on the <i><b>voluntariness</b></i> with which ...        74  "
      ]
     },
     "execution_count": 23,
     "metadata": {},
     "output_type": "execute_result"
    }
   ],
   "source": [
    "df.sort_values('abs-conc',ascending=False).head(10)"
   ]
  },
  {
   "cell_type": "code",
   "execution_count": 8,
   "metadata": {},
   "outputs": [
    {
     "data": {
      "text/markdown": [
       "<i><u>sauce</u></i>. <i><u>Caviare</u></i> and <i>toast</i>. Olias. <i><u>Roast</u></i> <i><u>capons</u></i>, <i><u>basted</u></i> <i><u>Fawns</u></i>, <i><u>deer</u></i>. <i><u>Lumber</u></i> <i><u>pies</u></i>, with with their own <i><u>Hares</u></i>, leverets. <i><u>hight</u></i> <i><u>sauce</u></i>. <i><u>dripping</u></i>. <i><u>Plovers</u></i>. <i><u>Partridges</u></i> and <i>young</i> <i><u>Flamingoes</u></i>. <i><u>Herons</u></i>, and <i>young</i> <i><u>partridges</u></i>. <i><u>Cygnets</u></i>. <i><u>herons</u></i>. Dwarf-herons. A <i>reinforcement</i> of <i><u>Olives</u></i>. <i><u>Teals</u></i>. <i><u>vinegar</u></i> <i>intermixed</i>. <i><u>Thrushes</u></i>. Duckers. <i><u>Venison</u></i> <i><u>pasties</u></i>. <i>Young</i> sea-ravens. Bitterns. <i><u>Lark</u></i> <i><u>pies</u></i>. <i><u>Geese</u></i>, <i><u>goslings</u></i>. Shovellers. <i><u>Dormice</u></i> <i><u>pies</u></i>. Queests. <i><u>Curlews</u></i>. Cabretto <i><u>pasties</u></i>. Widgeons. Wood-hens. <i>Roebuck</i> <i><u>pasties</u></i>. Mavises. <i><u>Coots</u></i>, with <i><u>leeks</u></i>. <i><u>Pigeon</u></i> <i><u>pies</u></i>. Grouses. <i><u>Fat</u></i> <i><u>kids</u></i>. <i><u>Kid</u></i> <i><u>pasties</u></i>. <i><u>Turtles</u></i>. <i><u>Shoulders</u></i> of <i><u>mutton</u></i>, <i><u>Capon</u></i> <i><u>pies</u></i>. Doe-coneys. with <i><u>capers</u></i>. <i>Bacon</i> <i><u>pies</u></i>. Hedgehogs. Sirloins of <i><u>beef</u></i>. <i><u>Soused</u></i> <i><u>hog</u></i>'s <i><u>feet</u></i>. Snites. <i>Breasts</i> of <i><u>veal</u></i>. <i><u>Fried</u></i> pasty-crust. Then <i>large</i> <i><u>puffs</u></i>. <i><u>Pheasants</u></i> and phea- <i>Forced</i> <i><u>capons</u></i>. Thistle-finches. <i><u>sant</u></i> poots. <i><u>Parmesan</u></i> <i><u>cheese</u></i>. <i>Whore</i>'s <i><u>farts</u></i>. <i><u>Peacocks</u></i>. <i><u>Red</u></i> and <i><u>pale</u></i> hip- <i><u>Fritters</u></i>. <i><u>Storks</u></i>. pocras. <i><u>Cakes</u></i>, <i>sixteen</i> <i>sorts</i>. <i><u>Woodcocks</u></i>. Gold-peaches. <i><u>Crisp</u></i> <i><u>wafers</u></i>. <i><u>Snipes</u></i>. <i><u>Artichokes</u></i>. <i><u>Quince</u></i> <i><u>tarts</u></i>. <i><u>Ortolans</u></i>. <i><u>Dry</u></i> and <i><u>wet</u></i> <i>sweet-</i> <i><u>Curds</u></i> and <i><u>cream</u></i>. <i><u>Turkey</u></i> <i><u>cocks</u></i>, <i><u>hen</u></i> <i>meats</i>"
      ],
      "text/plain": [
       "<IPython.core.display.Markdown object>"
      ]
     },
     "metadata": {},
     "output_type": "display_data"
    }
   ],
   "source": [
    "# Most conc passagge\n",
    "printm(df.iloc[0].passage)"
   ]
  },
  {
   "cell_type": "code",
   "execution_count": 11,
   "metadata": {},
   "outputs": [
    {
     "data": {
      "text/markdown": [
       "<i><b>Downright</b></i>, you are now <i>uttering</i> <i><b>opinions</b></i> that are <i><b>diametrically</b></i> <i><b>opposed</b></i> to those of the world, which <i><b>considers</b></i> <i><b>virtue</b></i> an <i><b>indispensable</b></i> <i>ingredient</i> in a <i><b>republic</b></i>.''\" The world-- <i><b>meaning</b></i> always the <i><b>monikin</b></i> world-- knows very little about real <i><b>political</b></i> <i><b>liberty</b></i>, except as a <i><b>theory</b></i>. We of <i><b>Leaplow</b></i> are, in effect, the only people who have had much to do with it, and I am now <i>telling</i> you what is the <i><b>result</b></i> of my own <i><b>observation</b></i>, in my own country. If <i><b>monikins</b></i> were <i><b>purely</b></i> <i><b>virtuous</b></i>, there would be no <i><b>necessity</b></i> for <i><b>government</b></i> at all; but, being what they are, we think it <i><b>wisest</b></i> to <i>set</i> them to <i>watch</i> each other.''\" But yours is <i><b>self-government</b></i>, which <i><b>implies</b></i> <i><b>self-restraint</b></i>; and <i><b>self-restraint</b></i> is but another word for <i><b>virtue</b></i>.''\" If the <i><b>merit</b></i> of our system <i><b>depended</b></i> on <i><b>self-government</b></i>, in your <i><b>signification</b></i>, or on <i><b>self-restraint</b></i>, in any <i><b>signification</b></i>, it would not be <i>worth</i> the <i>trouble</i> of this <i><b>argument</b></i>, Sir <i>John</i> <i><b>Goldencalf</b></i>. This is one of those <i>balmy</i> <i><b>fallacies</b></i> with which illjudging <i><b>moralists</b></i> <i><b>endeavour</b></i> to <i>stimulate</i> <i><b>monikins</b></i> to good <i><b>deeds</b></i>. Our <i><b>government</b></i> is <i><b>based</b></i> on a <i>directly</i> <i>opposite</i> <i><b>principle</b></i>; that of <i>watching</i> and <i><b>restraining</b></i> each other, instead of <i><b>trusting</b></i> to our <i><b>ability</b></i> to <i><b>restrain</b></i> ourselves. It is the want of <i><b>responsibility</b></i>, and not its <i><b>constant</b></i> and <i>active</i> <i><b>presence</b></i>, which <i><b>infers</b></i> <i><b>virtue</b></i> and <i><b>self-control</b></i>. No one would <i><b>willingly</b></i> <i>lay</i> <i><b>legal</b></i> <i><b>restraints</b></i> on himself, in any thing, while all are very <i><b>happy</b></i> to <i><b>restrain</b></i> their <i>neighbours</i>. This <i>refers</i> to the <i><b>positive</b></i> and necessary <i><b>rules</b></i> of <i><b>intercourse</b></i>, and the <i><b>establishment</b></i> of <i><b>rights</b></i>; as to <i><b>mere</b></i> <i><b>morality</b></i>, <i><b>laws</b></i> do very little towards <i><b>enforcing</b></i> its <i><b>ordinances</b></i>. <i><b>Morals</b></i> usually come of <i><b>instruction</b></i>; and when all have <i><b>political</b></i> <i><b>power</b></i>, <i><b>instruction</b></i> is a <i><b>security</b></i> that all <i><b>desire</b></i>.''\" But when all <i><b>vote</b></i>, all may wish to <i><b>abuse</b></i> their <i><b>trust</b></i> to their own <i>especial</i> <i>advantage</i>, and a <i><b>political</b></i> <i>chaos</i> would be the <i><b>consequence</b></i>"
      ],
      "text/plain": [
       "<IPython.core.display.Markdown object>"
      ]
     },
     "metadata": {},
     "output_type": "display_data"
    }
   ],
   "source": [
    "# Most abs passagge\n",
    "printm(df.iloc[-1].passage.replace(\"``\",'\"'))"
   ]
  },
  {
   "cell_type": "code",
   "execution_count": 14,
   "metadata": {},
   "outputs": [
    {
     "data": {
      "text/markdown": [
       "to be <i>completely</i> <i>loving</i> him and certainly some one <i>coming</i> to be <i>completely</i> <i>loving</i> him would be <i>completely</i> <i>listening</i> to him, to all of him. He was being <i>living</i> from the beginning of being <i>living</i> to the ending of the beginning of <i><u>middle</u></i> <i>living</i>. Certainly some were quite <i>completely</i> <i>listening</i> to him. Certainly some were quite <i>completely</i> <i>listening</i> to him. <i>David</i> Hersland was certainly one <i><b>thinking</b></i>. He certainly was one <i><b>knowing</b></i> this thing. If he was <i><b>thinking</b></i> and <i><b>knowing</b></i> this thing, and he was <i><b>thinking</b></i> and <i><b>knowing</b></i> this thing <i><b>knowing</b></i> he was <i><b>thinking</b></i>, if he was <i><b>thinking</b></i> he was <i><b>thinking</b></i> about something, in a way he was <i><b>thinking</b></i> about anything. He was <i><b>thinking</b></i> and he was <i><b>knowing</b></i> this thing, he was <i><b>knowing</b></i> he was <i><b>thinking</b></i>. He was <i><b>thinking</b></i> about something, in a way he was <i><b>thinking</b></i> about anything Certainly if in a way he was <i><b>thinking</b></i> about anything and he was <i><b>knowing</b></i> this thing, he was <i><b>knowing</b></i> that he could be <i><b>thinking</b></i> about anything. He was <i><b>thinking</b></i> about anything, he was <i><b>knowing</b></i> this thing, he was <i><b>knowing</b></i> that he was <i><b>thinking</b></i> about anything. He was <i><b>thinking</b></i> about something. He was <i><b>knowing</b></i> this thing, <i><b>knowing</b></i> that he was <i><b>thinking</b></i> about something. He was <i><b>knowing</b></i> that he was <i><b>thinking</b></i> about something. He was <i><b>knowing</b></i> that he was <i><b>thinking</b></i>. He was <i><b>knowing</b></i> that he was <i><b>thinking</b></i> about anything. If he was <i><b>thinking</b></i> about something, really <i><b>thinking</b></i> about something and <i><b>knowing</b></i> this thing, <i><b>knowing</b></i> that he was <i><b>thinking</b></i> about something, he was <i><b>knowing</b></i> that he was <i><b>thinking</b></i>. He was one <i><b>knowing</b></i> about <i><b>thinking</b></i>. He was one <i>completely</i> <i><b>thinking</b></i> about <i><b>thinking</b></i>. Certainly then he was <i><b>knowing</b></i> that he was one <i><b>thinking</b></i> about anything. He was <i><b>knowing</b></i> that he was <i><b>thinking</b></i> about anything. He was one <i>completely</i> <i><b>knowing</b></i> about <i><b>thinking</b></i>. He was one <i><b>knowing</b></i> that he was one <i><b>thinking</b></i>. He was <i><b>knowing</b></i> that he was one <i><b>thinking</b></i> about anything and certainly he was doing this thing he was <i><b>thinking</b></i> about anything. He was certain of this thing that he was one <i><b>thinking</b></i> and certainly he was one <i><b>thinking</b></i>. He was one certain about this thing that he was <i><b>thinking</b></i> about something and certainly he was doing this thing he was <i><b>thinking</b></i> about something. He was one certain that he was <i><b>thinking</b></i> about anything and certainly he was doing this thing he was <i><b>thinking</b></i> about anything. In a way then he was one being <i>completely</i> <i><b>interesting</b></i>, one <i><b>thinking</b></i> about something, one <i><b>thinking</b></i> about anything. Certainly then he was one <i><b>thinking</b></i>, really <i><b>thinking</b></i>, he was one really <i><b>thinking</b></i> about something, he was one really <i><b>thinking</b></i> about anything. In a way then he was <i>completely</i> <i><b>interesting</b></i>, in a way then he was not <i>completely</i> <i><b>interesting</b></i>. He certainly was doing this thing, he certainly was really <i><b>thinking</b></i>. He certainly was <i><b>knowing</b></i> this thing, <i><b>knowing</b></i> that he was really <i><b>thinking</b></i>. He certainly was one <i>completely</i> <i><b>knowing</b></i> about <i><b>thinking</b></i>"
      ],
      "text/plain": [
       "<IPython.core.display.Markdown object>"
      ]
     },
     "metadata": {},
     "output_type": "display_data"
    }
   ],
   "source": [
    "printm(df.iloc[-2].passage)"
   ]
  },
  {
   "cell_type": "code",
   "execution_count": 15,
   "metadata": {},
   "outputs": [
    {
     "data": {
      "text/markdown": [
       "with <i><u>pockets</u></i>, and four <i><u>striped</u></i> <i><u>muslin</u></i> night-rails very little <i><u>frayed</u></i>; a <i><u>silver</u></i> <i><u>pot</u></i> for <i><u>coffee</u></i> or <i><u>chocolate</u></i>, the <i><u>lid</u></i> much <i><u>bruised</u></i>; a <i><u>broad-brimmed</u></i> <i><u>flat</u></i> <i><u>silver</u></i> <i><u>plate</u></i> for <i><u>sugar</u></i> with <i><u>Rhenish</u></i> <i>wine</i>, a <i><u>silver</u></i> <i><u>ladle</u></i> for plum-porridge; a <i><u>silver</u></i> cheese-toaster with three <i>tongues</i>, an <i><u>ebony</u></i> <i>handle</i>, and <i><u>silvering</u></i> at the end; a <i><u>silver</u></i> <i><u>posnet</u></i> to <i><u>butter</u></i> <i><u>eggs</u></i>; one <i><u>caudle</u></i> and two cordial-water <i><u>cups</u></i>, two <i><u>cocoa</u></i> <i><u>cups</u></i>, and an <i><u>ostrich</u></i>'s <i><u>egg</u></i>, with <i><u>rims</u></i> and <i><u>feet</u></i> of <i><u>silver</u></i>; a <i><u>marrow</u></i> <i><u>spoon</u></i>, with a <i><u>scoop</u></i> at the other end; a <i><u>silver</u></i> orange-strainer, eight <i><u>sweetmeat</u></i> <i><u>spoons</u></i> made with <i><u>forks</u></i> at the end, an agate-handle <i><u>knife</u></i> and <i><u>fork</u></i> in a <i><u>sheath</u></i>, a <i><u>silver</u></i> tongue-scraper, a <i><u>silver</u></i> <i><u>tobacco-box</u></i>, with a <i><u>tulip</u></i> <i>graved</i> on the top; and a <i>Bible</i> <i>bound</i> in <i><u>shagreen</u></i>, with <i><u>gilded</u></i> <i><u>leaves</u></i> and <i><u>clasps</u></i>, never <i>opened</i> but once. Also a <i>small</i> <i>cabinet</i>, with six <i><u>drawers</u></i> <i><u>inlaid</u></i> with <i>read</i> <i><u>tortoise-shell</u></i>, and <i><u>brass</u></i> <i><u>gilded</u></i> <i>ornaments</i> at the four <i><u>corners</u></i>, in which were two <i><u>leather</u></i> <i><u>forehead</u></i> <i><u>clothes</u></i>, three <i><u>pair</u></i> of <i><u>oiled</u></i> dogskin <i><u>gloves</u></i>, seven <i><u>cakes</u></i> of <i><u>superfine</u></i> <i>Spanish</i> <i><u>wool</u></i>, <i>half-a-dozen</i> of <i>Portugal</i> <i><u>dishes</u></i>, and a <i>choir</i> of <i>paper</i> from thence; two <i><u>pair</u></i> of <i><u>brand-new</u></i> plumpers, four <i><u>black-lead</u></i> <i><u>combs</u></i>, three <i><u>pair</u></i> of <i>fashionable</i> <i><u>eyebrows</u></i>, two <i>sets</i> of <i><u>ivory</u></i> <i><u>teeth</u></i>, little the worse for <i>wearing</i>, and one <i><u>pair</u></i> of <i><u>box</u></i> for <i>common</i> use; <i>Adam</i> and <i>Eve</i>"
      ],
      "text/plain": [
       "<IPython.core.display.Markdown object>"
      ]
     },
     "metadata": {},
     "output_type": "display_data"
    }
   ],
   "source": [
    "# Most conc passagge\n",
    "printm(df.iloc[2].passage)"
   ]
  },
  {
   "cell_type": "code",
   "execution_count": 26,
   "metadata": {},
   "outputs": [
    {
     "data": {
      "text/markdown": [
       "Thought, and <i><b>declare</b></i> that <i><b>universal</b></i> which Thought <i><b>deems</b></i> itself to <i>behold</i> to be nothing? For the <i><b>object</b></i> of <i><b>Sense</b></i> and <i><b>Imagination</b></i> can not be <i><b>universal</b></i>; so that either the <i><b>judgement</b></i> of <i><b>Reason</b></i> is <i><b>true</b></i> and there is no sense-object, or, since they know full well that many <i>objects</i> are <i>presented</i> to <i><b>Sense</b></i> and <i><b>Imagination</b></i>, the <i><b>conception</b></i> of <i><b>Reason</b></i>, which looks on that which is <i>perceived</i> by <i><b>Sense</b></i> and particular as if it were a something\" <i><b>universal</b></i>,'' is empty of <i>content</i>. <i><b>Suppose</b></i>, further, that <i><b>Reason</b></i> <i>maintains</i> in reply that it does indeed <i><b>contemplate</b></i> the <i><b>object</b></i> of both <i><b>Sense</b></i> and <i><b>Imagination</b></i> under the from of <i><b>universality</b></i>, while <i><b>Sense</b></i> and <i><b>Imagination</b></i> can not <i>aspire</i> to the <i><b>knowledge</b></i> of the <i><b>universal</b></i>, since their <i><b>cognizance</b></i> can not go beyond <i><b>bodily</b></i> <i>figures</i>, and that in the <i><b>cognition</b></i> of <i><b>reality</b></i> we <i><b>aught</b></i> rather to <i><b>trust</b></i> the <i>stronger</i> and more <i>perfect</i> <i><b>faculty</b></i> of <i><b>judgement</b></i>. In a <i><b>dispute</b></i> of this sort, should not we, in whom is <i>planted</i> the <i><b>faculty</b></i> of <i><b>reasoning</b></i> as well as of <i>imagining</i> and <i>perceiving</i>, <i><b>espouse</b></i> the cause of <i><b>Reason</b></i>?'In Like manner is it that <i><b>human</b></i> <i><b>reason</b></i> thinks that <i><b>Divine</b></i> <i><b>Intelligence</b></i> can not see the <i><b>future</b></i> except after the <i>fashion</i> in which its own <i><b>knowledge</b></i> is obtained. For thy <i><b>contention</b></i> is, if <i><b>events</b></i> do not appear to <i><b>involve</b></i> certain and necessary <i>issues</i>, they can not be <i><b>foreseen</b></i> as certainly about to come to <i>pass</i>. There is, then, no <i><b>foreknowledge</b></i> of such <i><b>events</b></i>; or, if we can ever bring ourselves to believe that there is, there can be nothing which does not <i>happen</i> of <i><b>necessity</b></i>. If, however, we could have some part in the <i><b>judgement</b></i> of the <i><b>Divine</b></i> mind, even as we <i><b>participate</b></i> in <i><b>Reason</b></i>, we should think it <i>perfectly</i> just that <i><b>human</b></i> <i><b>Reason</b></i> should <i><b>submit</b></i> itself to the <i><b>Divine</b></i> mind, no less than we <i><b>judged</b></i> that <i><b>Imagination</b></i> and <i><b>Sense</b></i> <i><b>aught</b></i> to <i>yield</i> to <i><b>Reason</b></i>. <i>Wherefore</i> let us <i>soar</i>, if we can, to the <i>heights</i> of that <i><b>Supreme</b></i> <i><b>Intelligence</b></i>; for there <i><b>Reason</b></i> will see what in itself it can not look upon; and that is in what way things whose <i>occurrence</i> is not certain may yet be seen in a sure and <i><b>definite</b></i> <i><b>foreknowledge</b></i>; and that this <i><b>foreknowledge</b></i> is not <i><b>conjecture</b></i>, but rather <i><b>knowledge</b></i> in its <i><b>supreme</b></i> <i><b>simplicity</b></i>, <i><b>free</b></i>"
      ],
      "text/plain": [
       "<IPython.core.display.Markdown object>"
      ]
     },
     "metadata": {},
     "output_type": "display_data"
    }
   ],
   "source": [
    "# Most abs passagge\n",
    "printm(df.iloc[-4].passage.replace(\"``\",'\"'))"
   ]
  },
  {
   "cell_type": "code",
   "execution_count": 39,
   "metadata": {},
   "outputs": [],
   "source": [
    "def showrow(df=df):\n",
    "    irow=random.randint(0,len(df))\n",
    "    row=df.iloc[irow]\n",
    "    printm(f\"\"\"\n",
    "{row.passage.replace('`','\"')}\n",
    "    \n",
    "- {row.id} ({row['abs-conc']})\n",
    "    \"\"\")"
   ]
  },
  {
   "cell_type": "code",
   "execution_count": 105,
   "metadata": {},
   "outputs": [
    {
     "data": {
      "text/markdown": [
       "\n",
       "or so.''Celebration?''Yes. <i>Tonight</i>, my dear <i>Georges</i>, I am going to do something rather <i><b>unworthy</b></i> of myself. I have <i>disposed</i> of a <i><b>dangerous</b></i> <i>enemy</i> and <i>advanced</i> my own <i>position</i> by a <i>large</i> <i><u>notch</u></i>. In our <i>service</i>, this would be <i><b>regarded</b></i> as something to <i><u>crow</u></i> about. I am going to <i><b>offer</b></i> myself a <i>dinner</i> of <i><b>self-congratulation</b></i>.' Who will <i>pay</i> it?'' I will <i>order</i>, <i>eat</i> and <i>pay</i> for it myself.''That is not much good.' Pursewarden made an <i>impatient</i> <i>face</i> in the <i>mirror</i>.'On the <i><b>contrary</b></i>' he said.' A <i>quiet</i> evening is what I most needs. I shall <i>compose</i> a few more <i>fragments</i> of my <i>autobiography</i> over the good <i><u>oysters</u></i> at Diamandakis.''What is the <i>title</i>?''Beating about the <i><u>Bush</u></i>. The <i>opening</i> words are\"\" I first <i>met</i> <i>Henry</i> <i>James</i> in a <i>brothel</i> in <i>Algiers</i>. He had a <i>naked</i> houri on each <i><u>knee</u></i>.'' <i>Henry</i> <i>James</i> was a <i><u>pussy</u></i>, I think.' Pursewarden <i>turned</i> the <i><u>shower</u></i> on full and <i>stepped</i> into it <i>crying</i>:'No more <i><b>literary</b></i> <i><b>criticism</b></i> from the <i>French</i>, please.' Pombal <i>drove</i> a <i><u>comb</u></i> through his <i>dark</i> <i><u>hair</u></i> with a <i>laborious</i> <i><b>impatience</b></i> and then <i>consulted</i> his <i>watch</i>.'Merde' he said,' I am going to be <i>retarded</i> again.' Pursewarden gave a <i>shriek</i> of <i>delight</i>. They <i>adventured</i> <i><b>freely</b></i> in each other's <i>languages</i>, <i>rejoicing</i> Like <i>schoolboys</i> in the <i><b>mistakes</b></i> which <i><u>cropped</u></i> up among their <i><b>conversations</b></i>. Each <i>blunder</i> was <i>greeted</i> with a <i>shout</i>, was <i>turned</i> into a <i>war-cry</i>. Pursewarden <i><u>hopped</u></i> with <i>pleasure</i> and <i>shouted</i> <i>happily</i> above the <i><u>hissing</u></i> of the <i><u>water</u></i>:'Why not <i>stay</i> in and <i><b>enjoy</b></i> a <i>nice</i> little <i>nocturnal</i> <i>emission</i> on the <i>short</i> <i><u>hairs</u></i>?'( Pombal had described a <i>radio</i> <i>broadcast</i> thus the day before and had not been <i><b>allowed</b></i> to <i>forget</i> it.) He made a <i><u>round</u></i> <i>face</i> now to <i><b>express</b></i> <i>mock</i> <i>annoyance</i>.' I did not say it' he said.'You <i>bloody</i> well did.'' I did not say\"\" the <i>short</i> <i><u>hairs</u></i>'' but the\"\" <i>short</i> <i>undulations</i>\n",
       "    \n",
       "- markmark.Durrell.The_Alexandria_Quartet.1425 (-1)\n",
       "    "
      ],
      "text/plain": [
       "<IPython.core.display.Markdown object>"
      ]
     },
     "metadata": {},
     "output_type": "display_data"
    }
   ],
   "source": [
    "showrow(df=df[df.id.str.contains('Alexa')])"
   ]
  },
  {
   "cell_type": "code",
   "execution_count": null,
   "metadata": {},
   "outputs": [],
   "source": []
  },
  {
   "cell_type": "code",
   "execution_count": null,
   "metadata": {},
   "outputs": [],
   "source": []
  },
  {
   "cell_type": "code",
   "execution_count": null,
   "metadata": {},
   "outputs": [],
   "source": []
  },
  {
   "cell_type": "code",
   "execution_count": 58,
   "metadata": {},
   "outputs": [
    {
     "data": {
      "text/markdown": [
       "\n",
       ", both the <i><u>folds</u></i> of <i>equal</i> <i><u>breadth</u></i>, five <i><u>cubits</u></i>, which were <i><u>covered</u></i> as the <i><u>walls</u></i> were, and so <i>artificially</i> made, as whither they <i>stood</i> <i>wide</i> <i>open</i> or <i>close</i> <i>shut</i>, they could not be <i>perceived</i> to be <i>doors</i>, for being <i>shut</i>, they seemed part of the <i>forefront</i> of the <i><u>wall</u></i>, and being <i>opened</i>, they <i><u>covered</u></i> the <i><u>thickness</u></i> of the <i><u>wall</u></i>, in such sort, as by no means it could be seen where they <i><u>hung</u></i>, or where they were <i>joined</i>. Some say that in every one of the4. <i><u>corners</u></i> of the <i>entry</i> was a <i>single</i> <i><u>door</u></i>, five <i><u>cubits</u></i> <i><u>broad</u></i>, that the <i><u>inside</u></i> towards the t& ebar; <i>ple</i>, when these <i>doors</i> were <i>shut</i>, was as one <i><u>wall</u></i>, as well as the outside towards the <i><u>porch</u></i>. The <i><u>windows</u></i> were only in the <i><u>South</u></i>,& <i>north</i> <i><u>walls</u></i> very <i><u>broad</u></i> within,& <i>narrow</i> in the outside, right against the great <i><u>windows</u></i> in the <i><u>out-buildings</u></i>. Within the <i><u>south</u></i> part of the <i><u>wall</u></i> which was ten <i><u>cubits</u></i> <i><u>thick</u></i>, was a <i><u>pair</u></i> of <i><u>round</u></i> <i>turning</i> <i><u>stairs</u></i>, which <i>served</i> to all the <i><u>out-buildings</u></i>, for they were so made, as one <i>opened</i> into another, even unto the <i>farthest</i> on the same <i><u>flower</u></i>. In the <i>north</i> part of the same <i><u>wall</u></i> was another <i><u>pair</u></i> <i><u>stairs</u></i>, to go up into the <i><u>middle</u></i> <i>rooms</i>, which were right over the <i>temple</i>, yet some are of <i><b>opinion</b></i> that the former <i><u>stairs</u></i> did <i>serve</i> also for those <i>rooms</i>. In the <i><u>middle</u></i> of this <i>temple</i>, near unto the inward room, was an <i>altar</i> of Setim, which is acconnted the <i>lightest</i>, <i>clearest</i>, and most <i>beautiful</i> of all <i><u>trees</u></i>, and hath this <i>property</i>, that it never <i><u>rotteth</u></i>, it was one <i><u>cubit</u></i> <i><u>square</u></i>, and two <i><u>cubits</u></i> <i>high</i>, it was <i><u>covered</u></i> within& without with <i><u>gold</u></i>, and made Like unto a <i>censor</i>, but that at the four <i><u>corners</u></i> for the <i>greater</i> <i>ornament</i>, were four <i>pillars</i> of the same <i><u>wood</u></i>, <i><u>covered</u></i> <i>likewise</i> with <i><u>gold</u></i>. Some do say that this <i>altar</i> <i>stood</i> within the <i>inmost</i> <i>Temple</i>, and that in this place was an <i>altar</i> made of <i><u>Cedar</u></i> by <i>Salomon</i>, and <i><u>covered</u></i> with <i><u>gold</u></i>\n",
       "    \n",
       "- chadwyck.Chambers.Palestina.0944 (-51)\n",
       "    "
      ],
      "text/plain": [
       "<IPython.core.display.Markdown object>"
      ]
     },
     "metadata": {},
     "output_type": "display_data"
    }
   ],
   "source": [
    "showrow(df.head(1000))"
   ]
  },
  {
   "cell_type": "code",
   "execution_count": 81,
   "metadata": {},
   "outputs": [
    {
     "data": {
      "text/markdown": [
       "\n",
       "! <i><u>whar</u></i>?'' <i>ses</i> a <i><u>dozen</u></i> of'em at once.\"\" Do tell us.''\"\" In a <i><u>minit</u></i>, <i>ladies</i>, we'll have a good <i>view</i>. There now, do you see? <i>Thar</i> it is, <i>rite</i> <i><u>ahead</u></i>. That's Antony's <i><u>Nose</u></i>.'' Well, I <i>looked</i>, and so did everybody else, but it <i>looked</i> as much Like a <i><u>fodder</u></i> <i><u>stack</u></i> as a man's <i><u>nose</u></i> to me.\"\" I ca <i>n't</i> see no <i><u>nose</u></i>,'' <i>ses</i> a old <i>chap</i> what had his <i><u>head</u></i> <i><u>tied</u></i> up with a <i>read</i> <i><u>handkerchief</u></i> to keep from ketchin <i>cold</i>.\"\" Which end is the <i><u>nose</u></i> on?'' <i>ses</i> one of the <i>ladys</i>.\"\" Oh I see it-- I see it,'' <i>ses</i> a <i><u>long-legged</u></i> <i><u>dandy</u></i> in <i>check</i> trowses.\"\" I see it <i>jest</i> as <i>plain</i> as the <i><u>nose</u></i> on a man's <i>face</i>.''\"\" <i><u>Whar</u></i> is it?'' <i>ses</i> a <i><u>dozen</u></i> that was stretchin there <i>eyes</i> out of there <i>heads</i>, but could <i>n't</i> make it out no better than I could.\"\" Why,'' <i>ses</i> <i>Mr.</i> <i>Johnson</i>,\"\" <i>rite</i> <i>thar</i>, a little on the right of the <i><u>wheel-house</u></i>. Now, ca <i>n't</i> you see it, Miss Abbigal, <i>jest</i> beyond that <i><u>big</u></i> <i><u>rock</u></i> in the <i><u>edge</u></i> of the <i><u>water</u></i> <i>thar</i>? I can almost see the <i><u>nostrils</u></i>.''\"\" To be sure,'' <i>ses</i> the <i><u>dandy</u></i>;\"\" if it was a little later we could hear it <i>snore</i>.''\"\" I ca <i>n't</i> see no <i>sign</i> of a <i><u>nose</u></i>,'' <i>ses</i> a man what was oglin the <i><u>mountain</u></i> with all his might, with a <i>one-eyed</i> <i>spectacle</i> <i><u>tied</u></i> to a <i><u>black</u></i> <i><u>ribbon</u></i>.\"\" Nor me neither,'' said all of'em.\"\" Well, it's <i>monstrous</i> <i>strange</i>,'' <i>ses</i> <i>Mr.</i> <i>Johnson</i>--'' it's so <i>plain</i>. I ca <i>n't</i> see nothing else.''\"\" <i>Aint</i> you <i><b>mistaken</b></i>, Mr. <i>Johnson</i>?'' <i>ses</i> one of the <i>ladys</i>.\"\" Lord, no,'' <i>ses</i> he;\"\" I know it so well-- I've been on it as often as I've God <i><u>fingers</u></i> and <i><u>toes</u></i>.'''Bout this time the <i>captain</i> of the <i><u>boat</u></i> <i>passed</i> along. The <i>passengers</i> <i>stopped</i> him and <i>axed</i> him <i><u>whar</u></i> was <i>Antony</i>'s <i><u>Nose</u></i>?\"\"'Bout five <i>miles</i> <i><u>ahead</u></i>,'' <i>ses</i> he;\"\" you will see it <i>shortly</i> of er we <i>pass</i> the next landin.'' <i>Mr.</i> <i>Johnson</i> was <i><u>tuck</u></i>\n",
       "    \n",
       "- chadwyck.Thompson.Major_Joness_Sketches_of.0814 (-36)\n",
       "    "
      ],
      "text/plain": [
       "<IPython.core.display.Markdown object>"
      ]
     },
     "metadata": {},
     "output_type": "display_data"
    }
   ],
   "source": [
    "showrow(df.head(100000))"
   ]
  },
  {
   "cell_type": "code",
   "execution_count": 76,
   "metadata": {},
   "outputs": [
    {
     "data": {
      "text/html": [
       "<div>\n",
       "<style scoped>\n",
       "    .dataframe tbody tr th:only-of-type {\n",
       "        vertical-align: middle;\n",
       "    }\n",
       "\n",
       "    .dataframe tbody tr th {\n",
       "        vertical-align: top;\n",
       "    }\n",
       "\n",
       "    .dataframe thead th {\n",
       "        text-align: right;\n",
       "    }\n",
       "</style>\n",
       "<table border=\"1\" class=\"dataframe\">\n",
       "  <thead>\n",
       "    <tr style=\"text-align: right;\">\n",
       "      <th></th>\n",
       "      <th>id</th>\n",
       "      <th>slice</th>\n",
       "      <th>source</th>\n",
       "      <th>period</th>\n",
       "      <th>num_abs</th>\n",
       "      <th>num_conc</th>\n",
       "      <th>num_neither</th>\n",
       "      <th>num_total</th>\n",
       "      <th>num_types</th>\n",
       "      <th>passage</th>\n",
       "      <th>abs-conc</th>\n",
       "    </tr>\n",
       "  </thead>\n",
       "  <tbody>\n",
       "    <tr>\n",
       "      <th>42290</th>\n",
       "      <td>Rabelais.Gargantua and Pantagruel</td>\n",
       "      <td>764</td>\n",
       "      <td>Median</td>\n",
       "      <td>median</td>\n",
       "      <td>0</td>\n",
       "      <td>84</td>\n",
       "      <td>16</td>\n",
       "      <td>100</td>\n",
       "      <td>86</td>\n",
       "      <td>&lt;i&gt;&lt;u&gt;sauce&lt;/u&gt;&lt;/i&gt;. &lt;i&gt;&lt;u&gt;Caviare&lt;/u&gt;&lt;/i&gt; and...</td>\n",
       "      <td>-84</td>\n",
       "    </tr>\n",
       "    <tr>\n",
       "      <th>339060</th>\n",
       "      <td>chadwyck.Scott.Kenilworth_in_the_Waverle.1316</td>\n",
       "      <td>489</td>\n",
       "      <td>Median</td>\n",
       "      <td>median</td>\n",
       "      <td>0</td>\n",
       "      <td>79</td>\n",
       "      <td>21</td>\n",
       "      <td>100</td>\n",
       "      <td>61</td>\n",
       "      <td>of what &lt;i&gt;appears&lt;/i&gt; to have been one of the...</td>\n",
       "      <td>-79</td>\n",
       "    </tr>\n",
       "    <tr>\n",
       "      <th>45371</th>\n",
       "      <td>Steele.Spectator</td>\n",
       "      <td>1331</td>\n",
       "      <td>Median</td>\n",
       "      <td>median</td>\n",
       "      <td>0</td>\n",
       "      <td>78</td>\n",
       "      <td>22</td>\n",
       "      <td>100</td>\n",
       "      <td>87</td>\n",
       "      <td>with &lt;i&gt;&lt;u&gt;pockets&lt;/u&gt;&lt;/i&gt;, and four &lt;i&gt;&lt;u&gt;str...</td>\n",
       "      <td>-78</td>\n",
       "    </tr>\n",
       "    <tr>\n",
       "      <th>42215</th>\n",
       "      <td>Rabelais.Gargantua and Pantagruel</td>\n",
       "      <td>689</td>\n",
       "      <td>Median</td>\n",
       "      <td>median</td>\n",
       "      <td>0</td>\n",
       "      <td>75</td>\n",
       "      <td>25</td>\n",
       "      <td>100</td>\n",
       "      <td>97</td>\n",
       "      <td>. His back, Like an &lt;i&gt;overgrown&lt;/i&gt; rack- His...</td>\n",
       "      <td>-75</td>\n",
       "    </tr>\n",
       "    <tr>\n",
       "      <th>339066</th>\n",
       "      <td>chadwyck.Scott.Kenilworth_in_the_Waverle.1316</td>\n",
       "      <td>495</td>\n",
       "      <td>Median</td>\n",
       "      <td>median</td>\n",
       "      <td>0</td>\n",
       "      <td>74</td>\n",
       "      <td>26</td>\n",
       "      <td>100</td>\n",
       "      <td>63</td>\n",
       "      <td>,&amp; &lt;i&gt;c.&lt;/i&gt;( These are &lt;i&gt;magnificent&lt;/i&gt; and...</td>\n",
       "      <td>-74</td>\n",
       "    </tr>\n",
       "    <tr>\n",
       "      <th>...</th>\n",
       "      <td>...</td>\n",
       "      <td>...</td>\n",
       "      <td>...</td>\n",
       "      <td>...</td>\n",
       "      <td>...</td>\n",
       "      <td>...</td>\n",
       "      <td>...</td>\n",
       "      <td>...</td>\n",
       "      <td>...</td>\n",
       "      <td>...</td>\n",
       "      <td>...</td>\n",
       "    </tr>\n",
       "    <tr>\n",
       "      <th>564549</th>\n",
       "      <td>markmark.Stein.The_Making_of_Americans.1630</td>\n",
       "      <td>483</td>\n",
       "      <td>Median</td>\n",
       "      <td>median</td>\n",
       "      <td>76</td>\n",
       "      <td>0</td>\n",
       "      <td>24</td>\n",
       "      <td>100</td>\n",
       "      <td>25</td>\n",
       "      <td>this very &lt;i&gt;&lt;b&gt;interesting&lt;/b&gt;&lt;/i&gt; thing. &lt;i&gt;...</td>\n",
       "      <td>76</td>\n",
       "    </tr>\n",
       "    <tr>\n",
       "      <th>6413</th>\n",
       "      <td>Boethius.Consolation of Philosophy</td>\n",
       "      <td>120</td>\n",
       "      <td>Median</td>\n",
       "      <td>median</td>\n",
       "      <td>77</td>\n",
       "      <td>0</td>\n",
       "      <td>23</td>\n",
       "      <td>100</td>\n",
       "      <td>65</td>\n",
       "      <td>Thought, and &lt;i&gt;&lt;b&gt;declare&lt;/b&gt;&lt;/i&gt; that &lt;i&gt;&lt;b&gt;...</td>\n",
       "      <td>77</td>\n",
       "    </tr>\n",
       "    <tr>\n",
       "      <th>564841</th>\n",
       "      <td>markmark.Stein.The_Making_of_Americans.1630</td>\n",
       "      <td>775</td>\n",
       "      <td>Median</td>\n",
       "      <td>median</td>\n",
       "      <td>78</td>\n",
       "      <td>1</td>\n",
       "      <td>21</td>\n",
       "      <td>100</td>\n",
       "      <td>22</td>\n",
       "      <td>what they are &lt;i&gt;&lt;b&gt;knowing&lt;/b&gt;&lt;/i&gt;, about whi...</td>\n",
       "      <td>77</td>\n",
       "    </tr>\n",
       "    <tr>\n",
       "      <th>564913</th>\n",
       "      <td>markmark.Stein.The_Making_of_Americans.1630</td>\n",
       "      <td>847</td>\n",
       "      <td>Median</td>\n",
       "      <td>median</td>\n",
       "      <td>78</td>\n",
       "      <td>1</td>\n",
       "      <td>21</td>\n",
       "      <td>100</td>\n",
       "      <td>10</td>\n",
       "      <td>to be &lt;i&gt;completely&lt;/i&gt; &lt;i&gt;loving&lt;/i&gt; him and ...</td>\n",
       "      <td>77</td>\n",
       "    </tr>\n",
       "    <tr>\n",
       "      <th>130028</th>\n",
       "      <td>chadwyck.Cooper.The_Monikins_Volume.0160</td>\n",
       "      <td>122</td>\n",
       "      <td>Median</td>\n",
       "      <td>median</td>\n",
       "      <td>80</td>\n",
       "      <td>0</td>\n",
       "      <td>20</td>\n",
       "      <td>100</td>\n",
       "      <td>88</td>\n",
       "      <td>&lt;i&gt;&lt;b&gt;Downright&lt;/b&gt;&lt;/i&gt;, you are now &lt;i&gt;utteri...</td>\n",
       "      <td>80</td>\n",
       "    </tr>\n",
       "  </tbody>\n",
       "</table>\n",
       "<p>594833 rows × 11 columns</p>\n",
       "</div>"
      ],
      "text/plain": [
       "                                                   id  slice  source  period  \\\n",
       "42290               Rabelais.Gargantua and Pantagruel    764  Median  median   \n",
       "339060  chadwyck.Scott.Kenilworth_in_the_Waverle.1316    489  Median  median   \n",
       "45371                                Steele.Spectator   1331  Median  median   \n",
       "42215               Rabelais.Gargantua and Pantagruel    689  Median  median   \n",
       "339066  chadwyck.Scott.Kenilworth_in_the_Waverle.1316    495  Median  median   \n",
       "...                                               ...    ...     ...     ...   \n",
       "564549    markmark.Stein.The_Making_of_Americans.1630    483  Median  median   \n",
       "6413               Boethius.Consolation of Philosophy    120  Median  median   \n",
       "564841    markmark.Stein.The_Making_of_Americans.1630    775  Median  median   \n",
       "564913    markmark.Stein.The_Making_of_Americans.1630    847  Median  median   \n",
       "130028       chadwyck.Cooper.The_Monikins_Volume.0160    122  Median  median   \n",
       "\n",
       "        num_abs  num_conc  num_neither  num_total  num_types  \\\n",
       "42290         0        84           16        100         86   \n",
       "339060        0        79           21        100         61   \n",
       "45371         0        78           22        100         87   \n",
       "42215         0        75           25        100         97   \n",
       "339066        0        74           26        100         63   \n",
       "...         ...       ...          ...        ...        ...   \n",
       "564549       76         0           24        100         25   \n",
       "6413         77         0           23        100         65   \n",
       "564841       78         1           21        100         22   \n",
       "564913       78         1           21        100         10   \n",
       "130028       80         0           20        100         88   \n",
       "\n",
       "                                                  passage  abs-conc  \n",
       "42290   <i><u>sauce</u></i>. <i><u>Caviare</u></i> and...       -84  \n",
       "339060  of what <i>appears</i> to have been one of the...       -79  \n",
       "45371   with <i><u>pockets</u></i>, and four <i><u>str...       -78  \n",
       "42215   . His back, Like an <i>overgrown</i> rack- His...       -75  \n",
       "339066  ,& <i>c.</i>( These are <i>magnificent</i> and...       -74  \n",
       "...                                                   ...       ...  \n",
       "564549  this very <i><b>interesting</b></i> thing. <i>...        76  \n",
       "6413    Thought, and <i><b>declare</b></i> that <i><b>...        77  \n",
       "564841  what they are <i><b>knowing</b></i>, about whi...        77  \n",
       "564913  to be <i>completely</i> <i>loving</i> him and ...        77  \n",
       "130028  <i><b>Downright</b></i>, you are now <i>utteri...        80  \n",
       "\n",
       "[594833 rows x 11 columns]"
      ]
     },
     "execution_count": 76,
     "metadata": {},
     "output_type": "execute_result"
    }
   ],
   "source": [
    "df"
   ]
  },
  {
   "cell_type": "code",
   "execution_count": null,
   "metadata": {},
   "outputs": [],
   "source": []
  },
  {
   "cell_type": "code",
   "execution_count": null,
   "metadata": {},
   "outputs": [],
   "source": []
  },
  {
   "cell_type": "code",
   "execution_count": 106,
   "metadata": {},
   "outputs": [
    {
     "data": {
      "text/html": [
       "<div>\n",
       "<style scoped>\n",
       "    .dataframe tbody tr th:only-of-type {\n",
       "        vertical-align: middle;\n",
       "    }\n",
       "\n",
       "    .dataframe tbody tr th {\n",
       "        vertical-align: top;\n",
       "    }\n",
       "\n",
       "    .dataframe thead th {\n",
       "        text-align: right;\n",
       "    }\n",
       "</style>\n",
       "<table border=\"1\" class=\"dataframe\">\n",
       "  <thead>\n",
       "    <tr style=\"text-align: right;\">\n",
       "      <th></th>\n",
       "      <th>id</th>\n",
       "      <th>slice</th>\n",
       "      <th>source</th>\n",
       "      <th>period</th>\n",
       "      <th>num_abs</th>\n",
       "      <th>num_conc</th>\n",
       "      <th>num_neither</th>\n",
       "      <th>num_total</th>\n",
       "      <th>num_types</th>\n",
       "      <th>passage</th>\n",
       "      <th>abs-conc</th>\n",
       "    </tr>\n",
       "  </thead>\n",
       "  <tbody>\n",
       "    <tr>\n",
       "      <th>41244</th>\n",
       "      <td>Richardson.Pamela</td>\n",
       "      <td>216</td>\n",
       "      <td>Median</td>\n",
       "      <td>median</td>\n",
       "      <td>3</td>\n",
       "      <td>28</td>\n",
       "      <td>69</td>\n",
       "      <td>100</td>\n",
       "      <td>77</td>\n",
       "      <td>was very &lt;i&gt;watchful&lt;/i&gt; of all her ways, and ...</td>\n",
       "      <td>-25</td>\n",
       "    </tr>\n",
       "    <tr>\n",
       "      <th>41195</th>\n",
       "      <td>Richardson.Pamela</td>\n",
       "      <td>167</td>\n",
       "      <td>Median</td>\n",
       "      <td>median</td>\n",
       "      <td>5</td>\n",
       "      <td>30</td>\n",
       "      <td>65</td>\n",
       "      <td>100</td>\n",
       "      <td>86</td>\n",
       "      <td>, and took on &lt;i&gt;sadly&lt;/i&gt;, &lt;i&gt;&lt;u&gt;running&lt;/u&gt;&lt;...</td>\n",
       "      <td>-25</td>\n",
       "    </tr>\n",
       "    <tr>\n",
       "      <th>41094</th>\n",
       "      <td>Richardson.Pamela</td>\n",
       "      <td>66</td>\n",
       "      <td>Median</td>\n",
       "      <td>median</td>\n",
       "      <td>10</td>\n",
       "      <td>30</td>\n",
       "      <td>60</td>\n",
       "      <td>100</td>\n",
       "      <td>82</td>\n",
       "      <td>, and my straw-hat with &lt;i&gt;&lt;u&gt;blue&lt;/u&gt;&lt;/i&gt; &lt;i&gt;...</td>\n",
       "      <td>-20</td>\n",
       "    </tr>\n",
       "    <tr>\n",
       "      <th>41188</th>\n",
       "      <td>Richardson.Pamela</td>\n",
       "      <td>160</td>\n",
       "      <td>Median</td>\n",
       "      <td>median</td>\n",
       "      <td>13</td>\n",
       "      <td>32</td>\n",
       "      <td>55</td>\n",
       "      <td>100</td>\n",
       "      <td>86</td>\n",
       "      <td>I had &lt;i&gt;&lt;u&gt;sprained&lt;/u&gt;&lt;/i&gt; my &lt;i&gt;&lt;u&gt;ankle&lt;/u...</td>\n",
       "      <td>-19</td>\n",
       "    </tr>\n",
       "    <tr>\n",
       "      <th>41519</th>\n",
       "      <td>Richardson.Pamela</td>\n",
       "      <td>491</td>\n",
       "      <td>Median</td>\n",
       "      <td>median</td>\n",
       "      <td>11</td>\n",
       "      <td>28</td>\n",
       "      <td>61</td>\n",
       "      <td>100</td>\n",
       "      <td>86</td>\n",
       "      <td>that this &lt;i&gt;sweet&lt;/i&gt; &lt;i&gt;&lt;u&gt;shower&lt;/u&gt;&lt;/i&gt; ha...</td>\n",
       "      <td>-17</td>\n",
       "    </tr>\n",
       "    <tr>\n",
       "      <th>...</th>\n",
       "      <td>...</td>\n",
       "      <td>...</td>\n",
       "      <td>...</td>\n",
       "      <td>...</td>\n",
       "      <td>...</td>\n",
       "      <td>...</td>\n",
       "      <td>...</td>\n",
       "      <td>...</td>\n",
       "      <td>...</td>\n",
       "      <td>...</td>\n",
       "      <td>...</td>\n",
       "    </tr>\n",
       "    <tr>\n",
       "      <th>41208</th>\n",
       "      <td>Richardson.Pamela</td>\n",
       "      <td>180</td>\n",
       "      <td>Median</td>\n",
       "      <td>median</td>\n",
       "      <td>54</td>\n",
       "      <td>1</td>\n",
       "      <td>45</td>\n",
       "      <td>100</td>\n",
       "      <td>86</td>\n",
       "      <td>and &lt;i&gt;&lt;b&gt;happiness&lt;/b&gt;&lt;/i&gt;. I have answered t...</td>\n",
       "      <td>53</td>\n",
       "    </tr>\n",
       "    <tr>\n",
       "      <th>41353</th>\n",
       "      <td>Richardson.Pamela</td>\n",
       "      <td>325</td>\n",
       "      <td>Median</td>\n",
       "      <td>median</td>\n",
       "      <td>54</td>\n",
       "      <td>1</td>\n",
       "      <td>45</td>\n",
       "      <td>100</td>\n",
       "      <td>83</td>\n",
       "      <td>myself for this &lt;i&gt;&lt;b&gt;ungrateful&lt;/b&gt;&lt;/i&gt; retur...</td>\n",
       "      <td>53</td>\n",
       "    </tr>\n",
       "    <tr>\n",
       "      <th>41526</th>\n",
       "      <td>Richardson.Pamela</td>\n",
       "      <td>498</td>\n",
       "      <td>Median</td>\n",
       "      <td>median</td>\n",
       "      <td>55</td>\n",
       "      <td>1</td>\n",
       "      <td>35</td>\n",
       "      <td>91</td>\n",
       "      <td>86</td>\n",
       "      <td>&lt;i&gt;&lt;b&gt;veracity&lt;/b&gt;&lt;/i&gt;, which she never &lt;i&gt;&lt;b&gt;...</td>\n",
       "      <td>54</td>\n",
       "    </tr>\n",
       "    <tr>\n",
       "      <th>41471</th>\n",
       "      <td>Richardson.Pamela</td>\n",
       "      <td>443</td>\n",
       "      <td>Median</td>\n",
       "      <td>median</td>\n",
       "      <td>55</td>\n",
       "      <td>0</td>\n",
       "      <td>45</td>\n",
       "      <td>100</td>\n",
       "      <td>90</td>\n",
       "      <td>, if I am &lt;i&gt;roughly&lt;/i&gt; used, than otherwise....</td>\n",
       "      <td>55</td>\n",
       "    </tr>\n",
       "    <tr>\n",
       "      <th>41469</th>\n",
       "      <td>Richardson.Pamela</td>\n",
       "      <td>441</td>\n",
       "      <td>Median</td>\n",
       "      <td>median</td>\n",
       "      <td>63</td>\n",
       "      <td>2</td>\n",
       "      <td>35</td>\n",
       "      <td>100</td>\n",
       "      <td>89</td>\n",
       "      <td>me to all men; and, to &lt;i&gt;&lt;b&gt;convince&lt;/b&gt;&lt;/i&gt; ...</td>\n",
       "      <td>61</td>\n",
       "    </tr>\n",
       "  </tbody>\n",
       "</table>\n",
       "<p>498 rows × 11 columns</p>\n",
       "</div>"
      ],
      "text/plain": [
       "                      id  slice  source  period  num_abs  num_conc  \\\n",
       "41244  Richardson.Pamela    216  Median  median        3        28   \n",
       "41195  Richardson.Pamela    167  Median  median        5        30   \n",
       "41094  Richardson.Pamela     66  Median  median       10        30   \n",
       "41188  Richardson.Pamela    160  Median  median       13        32   \n",
       "41519  Richardson.Pamela    491  Median  median       11        28   \n",
       "...                  ...    ...     ...     ...      ...       ...   \n",
       "41208  Richardson.Pamela    180  Median  median       54         1   \n",
       "41353  Richardson.Pamela    325  Median  median       54         1   \n",
       "41526  Richardson.Pamela    498  Median  median       55         1   \n",
       "41471  Richardson.Pamela    443  Median  median       55         0   \n",
       "41469  Richardson.Pamela    441  Median  median       63         2   \n",
       "\n",
       "       num_neither  num_total  num_types  \\\n",
       "41244           69        100         77   \n",
       "41195           65        100         86   \n",
       "41094           60        100         82   \n",
       "41188           55        100         86   \n",
       "41519           61        100         86   \n",
       "...            ...        ...        ...   \n",
       "41208           45        100         86   \n",
       "41353           45        100         83   \n",
       "41526           35         91         86   \n",
       "41471           45        100         90   \n",
       "41469           35        100         89   \n",
       "\n",
       "                                                 passage  abs-conc  \n",
       "41244  was very <i>watchful</i> of all her ways, and ...       -25  \n",
       "41195  , and took on <i>sadly</i>, <i><u>running</u><...       -25  \n",
       "41094  , and my straw-hat with <i><u>blue</u></i> <i>...       -20  \n",
       "41188  I had <i><u>sprained</u></i> my <i><u>ankle</u...       -19  \n",
       "41519  that this <i>sweet</i> <i><u>shower</u></i> ha...       -17  \n",
       "...                                                  ...       ...  \n",
       "41208  and <i><b>happiness</b></i>. I have answered t...        53  \n",
       "41353  myself for this <i><b>ungrateful</b></i> retur...        53  \n",
       "41526  <i><b>veracity</b></i>, which she never <i><b>...        54  \n",
       "41471  , if I am <i>roughly</i> used, than otherwise....        55  \n",
       "41469  me to all men; and, to <i><b>convince</b></i> ...        61  \n",
       "\n",
       "[498 rows x 11 columns]"
      ]
     },
     "execution_count": 106,
     "metadata": {},
     "output_type": "execute_result"
    }
   ],
   "source": [
    "dfpam = df[df.id=='Richardson.Pamela']\n",
    "dfpam"
   ]
  },
  {
   "cell_type": "code",
   "execution_count": 108,
   "metadata": {},
   "outputs": [
    {
     "data": {
      "text/plain": [
       "<AxesSubplot:xlabel='slice', ylabel='abs-conc'>"
      ]
     },
     "execution_count": 108,
     "metadata": {},
     "output_type": "execute_result"
    },
    {
     "data": {
      "image/png": "[encoded data removed]",
      "text/plain": [
       "<Figure size 432x288 with 1 Axes>"
      ]
     },
     "metadata": {
      "needs_background": "light"
     },
     "output_type": "display_data"
    }
   ],
   "source": [
    "dfpam.plot(x='slice',y='abs-conc',kind='scatter')"
   ]
  },
  {
   "cell_type": "code",
   "execution_count": 111,
   "metadata": {},
   "outputs": [
    {
     "data": {
      "text/plain": [
       "<AxesSubplot:xlabel='slice', ylabel='abs-conc'>"
      ]
     },
     "execution_count": 111,
     "metadata": {},
     "output_type": "execute_result"
    },
    {
     "data": {
      "image/png": "[encoded data removed]",
      "text/plain": [
       "<Figure size 432x288 with 1 Axes>"
      ]
     },
     "metadata": {
      "needs_background": "light"
     },
     "output_type": "display_data"
    }
   ],
   "source": [
    "df[df.id.str.contains('Moll_Fla')].plot(x='slice',y='abs-conc',kind='scatter')"
   ]
  },
  {
   "cell_type": "code",
   "execution_count": 114,
   "metadata": {},
   "outputs": [
    {
     "data": {
      "text/plain": [
       "<AxesSubplot:xlabel='slice', ylabel='abs-conc'>"
      ]
     },
     "execution_count": 114,
     "metadata": {},
     "output_type": "execute_result"
    },
    {
     "data": {
      "image/png": "[encoded data removed]",
      "text/plain": [
       "<Figure size 432x288 with 1 Axes>"
      ]
     },
     "metadata": {
      "needs_background": "light"
     },
     "output_type": "display_data"
    }
   ],
   "source": [
    "df[df.id.str.contains('The_Italian_or')].plot(x='slice',y='abs-conc',kind='scatter')"
   ]
  },
  {
   "cell_type": "code",
   "execution_count": 120,
   "metadata": {},
   "outputs": [
    {
     "data": {
      "text/plain": [
       "<AxesSubplot:xlabel='slice', ylabel='abs-conc'>"
      ]
     },
     "execution_count": 120,
     "metadata": {},
     "output_type": "execute_result"
    },
    {
     "data": {
      "image/png": "[encoded data removed]",
      "text/plain": [
       "<Figure size 432x288 with 1 Axes>"
      ]
     },
     "metadata": {
      "needs_background": "light"
     },
     "output_type": "display_data"
    }
   ],
   "source": [
    "df[df.id.str.contains('Delany.Hogg')].plot(x='slice',y='abs-conc',kind='scatter')"
   ]
  },
  {
   "cell_type": "code",
   "execution_count": 121,
   "metadata": {},
   "outputs": [
    {
     "data": {
      "text/markdown": [
       "\n",
       "between us. I <i>started</i> to <i>squirm</i> off. <i>Hogg</i> said:\"\" Let's get up in the <i><u>cab</u></i>.'' I <i>held</i> his <i><u>neck</u></i>. With one <i>arm</i> around me, he <i><u>pulled</u></i> himself up into the <i><u>cab</u></i> by the other, then <i>lay</i> back across the <i>seat</i> with me on top of him. I was still <i><u>squirming</u></i>.\"\" That's it, boy! Come on, you <i>two-bit</i> cocksucker! <i><u>Shoot</u></i> that <i>shit</i> all over ol' <i>Hogg</i>'s <i><u>hairy</u></i> <i><u>belly</u></i>! That's right! I want your gunk, cocksucker. I want your <i>cum</i> all over me! I want your <i>spunk</i>! I want your <i>mess</i>! <i><u>Shoot</u></i> it out, boy!'' <i>Whispering</i> against my <i>face</i>, his <i>breath</i> was Like <i><u>hight</u></i> <i><u>whiffs</u></i> from a <i><u>pan</u></i> with a <i><u>piece</u></i> of <i>bade</i> <i><u>meat</u></i> you say <i>hell</i>, I'll <i><u>fry</u></i> anyway.\"\" <i><u>Shoot</u></i> me up with that <i>fuckin</i>' <i><u>greasy</u></i> <i>cum</i>, you <i>lowdown</i>, pissed-up scumbag!'' He <i>held</i> one <i>arm</i> <i><u>tied</u></i> around my <i><u>shoulders</u></i>. He <i><u>wedged</u></i> his other <i>hand</i> between us so that his <i><u>horny</u></i> nubs were right against my <i>moving</i> <i>penis</i>. I <i><u>rubbed</u></i> on him with my <i><u>mouth</u></i> and my <i>eyes</i> <i>wide</i>. While he <i>whispered</i>, I <i>watched</i> his <i>tongue</i> <i><u>gleaming</u></i> and <i>moving</i> behind his <i>moving</i> <i><u>teeth</u></i>. <i>Suddenly</i> it <i><u>slid</u></i> out. His <i><u>mouth</u></i> came up against mine. His <i>tongue</i> <i>began</i> <i><u>digging</u></i> <i><u>inside</u></i> my <i>face</i>. I <i><u>shot</u></i> all over his <i><u>belly</u></i> and his <i><u>fingers</u></i>. He <i><u>squeezed</u></i> me and <i>laughed</i>, without taking his <i>tongue</i> out my <i><u>mouth</u></i>. After maybe a <i>minute</i>, he did-- and a <i>deep</i> <i>breath</i>. His <i>face</i> <i><u>trickling</u></i> with <i>sweat</i>, he <i>pushed</i> me back and <i><u>elbowed</u></i> himself up to <i>sit</i>. I <i>sat</i> too. One after the other, he made me <i><u>suck</u></i> his <i><u>hairy</u></i> <i><u>fingers</u></i> off for my <i><u>scum</u></i>. Then he <i><u>sucked</u></i> them too, for what <i>I'ld</i> <i>missed</i>. For a while, then, he just <i><u>rubbed</u></i> his <i>heavy</i> <i>stomach</i> between the sweat-blotched <i><u>edges</u></i> of his <i><u>shirt</u></i>. Under the <i><u>hair</u></i>, the <i><u>shiny</u></i> <i><u>film</u></i> he <i>spread</i> over himself <i>dulled</i>\n",
       "    \n",
       "- markmark.Delany.Hogg.1412 (-47)\n",
       "    "
      ],
      "text/plain": [
       "<IPython.core.display.Markdown object>"
      ]
     },
     "metadata": {},
     "output_type": "display_data"
    }
   ],
   "source": [
    "showrow(df=df[df.id.str.contains('Delany.Hogg')])"
   ]
  },
  {
   "cell_type": "code",
   "execution_count": 124,
   "metadata": {},
   "outputs": [
    {
     "data": {
      "text/markdown": [
       ", sure. I told you before too, <i>I'ld</i> Like to see some of that.'' It's a good <i><b>profession</b></i>, boy,'' <i>Hogg</i> said. Like the man says, <i>ai</i> <i>n't</i> nothing' you can do in this world <i>today</i>-- go to the <i>pictures</i>, <i>buy</i> some <i>food</i>, or even <i>throw</i> away the <i><u>package</u></i> it come in-- that do <i>n't</i> bring somebody <i>closer</i> to <i>hurt</i>. At least this way you know that you <i>ai</i> <i>n't</i> <i>makin</i>' your <i>money</i> by <i>makin</i>' them <i>pictures</i> or <i><u>packages</u></i>. And when you're <i>hurtin</i>' someone, you're <i>hurtin</i>''em. You look'em right in the <i>eye</i> and do it. You ca <i>n't</i> very well <i>fuck</i> somebody without looking''em in the <i>eye</i>, unless-- <i>Hogg</i> <i>chuckled</i>-- you do it doggy-style. Even so, you <i>ai</i> <i>n't</i> <i><u>droppin</u></i>' no <i><u>bombs</u></i> on five hundred people you <i>ai</i> <i>n't</i> never seen. You <i>ai</i> <i>n't</i> signin' no <i>papers</i> that's <i>gon</i> na put a thousand people who <i>ai</i> <i>n't</i> never <i>herd</i> your name out of a <i>house</i> and a <i>job</i>. You <i>ai</i> <i>n't</i> <i>enjoyin</i>' no <i><b>benefits</b></i> that come down the <i><u>pike</u></i> three years after you <i>finished</i> with <i>hurtin</i>' <i>folks</i> you did <i>n't</i> even know <i><b>existed</b></i>, much less you was <i>hurtin</i>' them. And you can look at any TV <i>newscast</i> or <i>listen</i> to any <i>radio</i> <i>report</i>, even if it's about <i>somethin</i>' you just done-- and I had that <i>happen</i> to me three times now-- and know you God more <i><b>sense</b></i> of <i><b>duty</b></i> than they do!'' <i>Goddamn</i>, <i>Hogg</i>,'' the <i>nigger</i> said, why <i>n't</i> you <i>quit</i> <i>makin</i>' <i>speeches</i> to that boy? He God other things on his mind.'' The <i>wop</i> <i>laughed</i>. Or in his <i>hand</i>.'' Which I <i>guess</i> was <i><b>true</b></i>. <i>Denny</i> was still <i><u>beating</u></i>. Actually, though, you did <i>n't</i> have no way to tell whither he was <i>listening</i> or not. Besides, <i>Hogg</i>,'' the <i>nigger</i> said, he already said he was <i>coming</i>'-- did <i>n't</i> you, <i>Denny</i>?'' <i>Huh</i>?'' <i>Denny</i> said, looking up again. <i>Yeah</i>. Sure. If I do <i>n't</i> have to <i>drive</i> none, I <i>wan</i> na come. But nobody ever <i>taught</i> me. I usually have to hitchhike.'' <i>Hey</i>,'' the <i>wop</i> said, you <i>gon</i> na <i><u>pull</u></i> the <i>fucker</i> off if you go on Like--'' <i>Shut</i> up,'' <i>Hogg</i> said. You <i>coming</i>' with us, <i>nigger</i>"
      ],
      "text/plain": [
       "<IPython.core.display.Markdown object>"
      ]
     },
     "metadata": {},
     "output_type": "display_data"
    }
   ],
   "source": [
    "printm(df[df.id.str.contains('Delany.Hogg')].iloc[-1].passage.replace('`',''))"
   ]
  },
  {
   "cell_type": "code",
   "execution_count": 129,
   "metadata": {},
   "outputs": [
    {
     "data": {
      "text/markdown": [
       "\n",
       "myself to the <i><b>law</b></i>, he had returned thus soon the more <i><b>willingly</b></i> once again to <i><b>argue</b></i> the <i><b>question</b></i> with me: for that he felt himself very <i><b>highly</b></i> <i><b>interested</b></i> in the <i><b>future</b></i> <i>employment</i> of <i><b>talents</b></i> of which he had <i><b>conceived</b></i> <i><b>extraordinary</b></i> <i><b>Hope</b></i>'s; and that he thought it <i><b>impossible</b></i> they should be <i><b>devoted</b></i> to such a <i><b>confusing</b></i> <i><b>study</b></i>, were there no other <i><b>objection</b></i> to it, as that of the <i><b>law</b></i>, without being, not only <i><b>perverted</b></i> and <i><b>abused</b></i>, but, in a great <i><b>degree</b></i>, <i>stifled</i>. After an <i><b>avowal</b></i> Like this, it <i><b>required</b></i> an <i>effort</i> in me to <i>summon</i> up my <i><b>resolution</b></i>, and <i><b>honestly</b></i> state the <i><b>doubts</b></i> and <i><b>difficulties</b></i> that had <i><b>arisen</b></i> in my own mind. It was <i><b>happy</b></i> for me that my friends were men whose <i><b>habitual</b></i> <i><b>sincerity</b></i> <i><b>prompted</b></i> me to a similar <i><b>conduct</b></i>. I therefore took <i>courage</i>, <i>opened</i> my <i>heart</i>, and, while <i>describing</i> my own <i><b>sensations</b></i>, was <i><b>impelled</b></i> to <i><b>confess</b></i> that the <i><b>practice</b></i> of the <i><b>law</b></i> could with great <i>difficulty</i> indeed be <i><b>reconciled</b></i> to the <i><b>principles</b></i> of <i><b>undeviating</b></i> <i><b>honesty</b></i>.\"\" I most <i><b>sincerely</b></i> <i><b>rejoice</b></i>,'' said <i><b>Turl</b></i>,'' that these <i><b>doubts</b></i> have been <i><b>suggested</b></i> to you by other people, rather than by me: for I am very <i><b>desirous</b></i> you should not <i><b>continue</b></i> to think me too <i><b>prove</b></i> to <i><b>censure</b></i>. And, in <i>addition</i> to them, I would have you take a <i><b>retrospect</b></i> of your <i>plan</i>. To <i><b>induce</b></i> you to <i>despond</i> is a thing which I would most <i><b>sedulously</b></i> <i><b>avoid</b></i>: but to <i><b>suffer</b></i> you to <i><b>delude</b></i> yourself with the <i><b>Hope</b></i>'s of <i>sudden</i> <i>wealth</i>( and when I say <i>sudden</i>, I would give you a <i>term</i> of ten years) from the <i><b>practice</b></i> of the <i><b>law</b></i>, unless you should <i>plunge</i> into that <i><b>practice</b></i> with the most <i><b>unqualified</b></i> <i><b>disregard</b></i> to all that <i><b>rectitude</b></i> <i><b>demands</b></i>, would be to act the <i>cowardly</i> <i><b>disingenuous</b></i> <i><b>hypocrite</b></i>; and entirely to <i>forget</i> the first and best <i><b>duties</b></i> of <i><b>friendship</b></i>.\"\" Should you ask--'What <i>path</i> then am I to <i>pursue</i>?' I own I am <i><b>totally</b></i> at a <i>loss</i> for an <i><b>answer</b></i>. The <i>choice</i> must be left to yourself. You are not <i><b>ignorant</b></i> that it is <i><b>infinitely</b></i> more <i>easy</i> to <i>point</i> out <i><b>mistakes</b></i>, which have been and still <i><b>continue</b></i> to be <i><b>committed</b></i>\n",
       "    \n",
       "- chadwyck.Holcroft.The_Adventures_of_Hugh_Tr.1128 (75)\n",
       "    "
      ],
      "text/plain": [
       "<IPython.core.display.Markdown object>"
      ]
     },
     "metadata": {},
     "output_type": "display_data"
    }
   ],
   "source": [
    "showrow(df.tail(10))"
   ]
  },
  {
   "cell_type": "code",
   "execution_count": 131,
   "metadata": {},
   "outputs": [
    {
     "data": {
      "text/html": [
       "<div>\n",
       "<style scoped>\n",
       "    .dataframe tbody tr th:only-of-type {\n",
       "        vertical-align: middle;\n",
       "    }\n",
       "\n",
       "    .dataframe tbody tr th {\n",
       "        vertical-align: top;\n",
       "    }\n",
       "\n",
       "    .dataframe thead th {\n",
       "        text-align: right;\n",
       "    }\n",
       "</style>\n",
       "<table border=\"1\" class=\"dataframe\">\n",
       "  <thead>\n",
       "    <tr style=\"text-align: right;\">\n",
       "      <th></th>\n",
       "      <th>slice</th>\n",
       "      <th>num_abs</th>\n",
       "      <th>num_conc</th>\n",
       "      <th>num_neither</th>\n",
       "      <th>num_total</th>\n",
       "      <th>num_types</th>\n",
       "      <th>abs-conc</th>\n",
       "    </tr>\n",
       "    <tr>\n",
       "      <th>id</th>\n",
       "      <th></th>\n",
       "      <th></th>\n",
       "      <th></th>\n",
       "      <th></th>\n",
       "      <th></th>\n",
       "      <th></th>\n",
       "      <th></th>\n",
       "    </tr>\n",
       "  </thead>\n",
       "  <tbody>\n",
       "    <tr>\n",
       "      <th>markmark.Stein.The_Making_of_Americans.1630</th>\n",
       "      <td>447.5</td>\n",
       "      <td>28.561521</td>\n",
       "      <td>5.204698</td>\n",
       "      <td>66.231544</td>\n",
       "      <td>99.997763</td>\n",
       "      <td>42.611857</td>\n",
       "      <td>23.356823</td>\n",
       "    </tr>\n",
       "    <tr>\n",
       "      <th>Bible.Leviticus.KJV</th>\n",
       "      <td>33.5</td>\n",
       "      <td>11.787879</td>\n",
       "      <td>20.696970</td>\n",
       "      <td>67.257576</td>\n",
       "      <td>99.742424</td>\n",
       "      <td>53.424242</td>\n",
       "      <td>-8.909091</td>\n",
       "    </tr>\n",
       "    <tr>\n",
       "      <th>Bible.Numbers.KJV</th>\n",
       "      <td>43.5</td>\n",
       "      <td>6.255814</td>\n",
       "      <td>15.313953</td>\n",
       "      <td>78.162791</td>\n",
       "      <td>99.732558</td>\n",
       "      <td>53.906977</td>\n",
       "      <td>-9.058140</td>\n",
       "    </tr>\n",
       "    <tr>\n",
       "      <th>Bible.Genesis.KJV</th>\n",
       "      <td>49.5</td>\n",
       "      <td>5.459184</td>\n",
       "      <td>10.459184</td>\n",
       "      <td>83.479592</td>\n",
       "      <td>99.397959</td>\n",
       "      <td>58.918367</td>\n",
       "      <td>-5.000000</td>\n",
       "    </tr>\n",
       "    <tr>\n",
       "      <th>Bible.Exodus.KJV</th>\n",
       "      <td>44.0</td>\n",
       "      <td>6.091954</td>\n",
       "      <td>23.563218</td>\n",
       "      <td>70.218391</td>\n",
       "      <td>99.873563</td>\n",
       "      <td>59.655172</td>\n",
       "      <td>-17.471264</td>\n",
       "    </tr>\n",
       "    <tr>\n",
       "      <th>...</th>\n",
       "      <td>...</td>\n",
       "      <td>...</td>\n",
       "      <td>...</td>\n",
       "      <td>...</td>\n",
       "      <td>...</td>\n",
       "      <td>...</td>\n",
       "      <td>...</td>\n",
       "    </tr>\n",
       "    <tr>\n",
       "      <th>chadwyck.Hawthorne.The_Haunted_Mind_from_Twi.0304</th>\n",
       "      <td>4.0</td>\n",
       "      <td>11.428571</td>\n",
       "      <td>20.428571</td>\n",
       "      <td>68.000000</td>\n",
       "      <td>99.857143</td>\n",
       "      <td>96.000000</td>\n",
       "      <td>-9.000000</td>\n",
       "    </tr>\n",
       "    <tr>\n",
       "      <th>markmark.Joyce.Finnegans_Wake.1526</th>\n",
       "      <td>297.5</td>\n",
       "      <td>9.471380</td>\n",
       "      <td>24.348485</td>\n",
       "      <td>66.124579</td>\n",
       "      <td>99.944444</td>\n",
       "      <td>96.146465</td>\n",
       "      <td>-14.877104</td>\n",
       "    </tr>\n",
       "    <tr>\n",
       "      <th>chadwyck.Smollett.Ferdinand_Count_Fathom.1078</th>\n",
       "      <td>274.0</td>\n",
       "      <td>31.195612</td>\n",
       "      <td>4.930530</td>\n",
       "      <td>63.820841</td>\n",
       "      <td>99.946984</td>\n",
       "      <td>96.263254</td>\n",
       "      <td>26.265082</td>\n",
       "    </tr>\n",
       "    <tr>\n",
       "      <th>chadwyck.Hawthorne.Night_Sketches.0315</th>\n",
       "      <td>5.0</td>\n",
       "      <td>7.555556</td>\n",
       "      <td>23.222222</td>\n",
       "      <td>68.444444</td>\n",
       "      <td>99.222222</td>\n",
       "      <td>97.222222</td>\n",
       "      <td>-15.666667</td>\n",
       "    </tr>\n",
       "    <tr>\n",
       "      <th>chadwyck.Hawthorne.Night_Sketches_beneath_an.0316</th>\n",
       "      <td>5.0</td>\n",
       "      <td>7.555556</td>\n",
       "      <td>23.333333</td>\n",
       "      <td>68.777778</td>\n",
       "      <td>99.666667</td>\n",
       "      <td>97.444444</td>\n",
       "      <td>-15.777778</td>\n",
       "    </tr>\n",
       "  </tbody>\n",
       "</table>\n",
       "<p>1806 rows × 7 columns</p>\n",
       "</div>"
      ],
      "text/plain": [
       "                                                   slice    num_abs  \\\n",
       "id                                                                    \n",
       "markmark.Stein.The_Making_of_Americans.1630        447.5  28.561521   \n",
       "Bible.Leviticus.KJV                                 33.5  11.787879   \n",
       "Bible.Numbers.KJV                                   43.5   6.255814   \n",
       "Bible.Genesis.KJV                                   49.5   5.459184   \n",
       "Bible.Exodus.KJV                                    44.0   6.091954   \n",
       "...                                                  ...        ...   \n",
       "chadwyck.Hawthorne.The_Haunted_Mind_from_Twi.0304    4.0  11.428571   \n",
       "markmark.Joyce.Finnegans_Wake.1526                 297.5   9.471380   \n",
       "chadwyck.Smollett.Ferdinand_Count_Fathom.1078      274.0  31.195612   \n",
       "chadwyck.Hawthorne.Night_Sketches.0315               5.0   7.555556   \n",
       "chadwyck.Hawthorne.Night_Sketches_beneath_an.0316    5.0   7.555556   \n",
       "\n",
       "                                                    num_conc  num_neither  \\\n",
       "id                                                                          \n",
       "markmark.Stein.The_Making_of_Americans.1630         5.204698    66.231544   \n",
       "Bible.Leviticus.KJV                                20.696970    67.257576   \n",
       "Bible.Numbers.KJV                                  15.313953    78.162791   \n",
       "Bible.Genesis.KJV                                  10.459184    83.479592   \n",
       "Bible.Exodus.KJV                                   23.563218    70.218391   \n",
       "...                                                      ...          ...   \n",
       "chadwyck.Hawthorne.The_Haunted_Mind_from_Twi.0304  20.428571    68.000000   \n",
       "markmark.Joyce.Finnegans_Wake.1526                 24.348485    66.124579   \n",
       "chadwyck.Smollett.Ferdinand_Count_Fathom.1078       4.930530    63.820841   \n",
       "chadwyck.Hawthorne.Night_Sketches.0315             23.222222    68.444444   \n",
       "chadwyck.Hawthorne.Night_Sketches_beneath_an.0316  23.333333    68.777778   \n",
       "\n",
       "                                                   num_total  num_types  \\\n",
       "id                                                                        \n",
       "markmark.Stein.The_Making_of_Americans.1630        99.997763  42.611857   \n",
       "Bible.Leviticus.KJV                                99.742424  53.424242   \n",
       "Bible.Numbers.KJV                                  99.732558  53.906977   \n",
       "Bible.Genesis.KJV                                  99.397959  58.918367   \n",
       "Bible.Exodus.KJV                                   99.873563  59.655172   \n",
       "...                                                      ...        ...   \n",
       "chadwyck.Hawthorne.The_Haunted_Mind_from_Twi.0304  99.857143  96.000000   \n",
       "markmark.Joyce.Finnegans_Wake.1526                 99.944444  96.146465   \n",
       "chadwyck.Smollett.Ferdinand_Count_Fathom.1078      99.946984  96.263254   \n",
       "chadwyck.Hawthorne.Night_Sketches.0315             99.222222  97.222222   \n",
       "chadwyck.Hawthorne.Night_Sketches_beneath_an.0316  99.666667  97.444444   \n",
       "\n",
       "                                                    abs-conc  \n",
       "id                                                            \n",
       "markmark.Stein.The_Making_of_Americans.1630        23.356823  \n",
       "Bible.Leviticus.KJV                                -8.909091  \n",
       "Bible.Numbers.KJV                                  -9.058140  \n",
       "Bible.Genesis.KJV                                  -5.000000  \n",
       "Bible.Exodus.KJV                                  -17.471264  \n",
       "...                                                      ...  \n",
       "chadwyck.Hawthorne.The_Haunted_Mind_from_Twi.0304  -9.000000  \n",
       "markmark.Joyce.Finnegans_Wake.1526                -14.877104  \n",
       "chadwyck.Smollett.Ferdinand_Count_Fathom.1078      26.265082  \n",
       "chadwyck.Hawthorne.Night_Sketches.0315            -15.666667  \n",
       "chadwyck.Hawthorne.Night_Sketches_beneath_an.0316 -15.777778  \n",
       "\n",
       "[1806 rows x 7 columns]"
      ]
     },
     "execution_count": 131,
     "metadata": {},
     "output_type": "execute_result"
    }
   ],
   "source": [
    "df.groupby('id').mean().sort_values('num_types')"
   ]
  },
  {
   "cell_type": "code",
   "execution_count": 137,
   "metadata": {},
   "outputs": [
    {
     "data": {
      "text/markdown": [
       "\n",
       ", the good dame is no <i><u>gossamer</u></i>, but a <i>figure</i> of <i>rotundity</i> and <i>fleshly</i> <i>substance</i>; else would these <i>aerial</i> <i>tormentors</i> <i>whirl</i> her <i><u>aloft</u></i>, Like a <i>witch</i> upon a <i><u>broomstick</u></i>, and <i>set</i> her down, <i><b>doubtless</b></i>, in the <i>filthiest</i> <i><u>kennel</u></i> <i>hereabout</i>. From hence I <i>tread</i> upon <i>firm</i> <i><u>pavements</u></i> into the <i>centre</i> of the <i>town</i>. Here there is almost as <i>brilliant</i> an <i>illumination</i> as when some great <i>victory</i> has been <i>wone</i>, either on the <i>battlefield</i> or at the <i>polls</i>. Two <i><u>rows</u></i> of <i><u>shops</u></i>, with <i><u>windows</u></i> down nearly to the <i>ground</i>, <i>cast</i> a <i>glow</i> from side to side, while the <i><u>black</u></i> <i>night</i> <i><u>hangs</u></i> <i><u>overhead</u></i> Like a <i><u>canopy</u></i>, and thus keeps the <i>splendour</i> from <i>diffusing</i> itself away. The <i><u>wet</u></i> <i><u>sidewalks</u></i> <i>gleam</i> with a <i><u>broad</u></i> <i><u>sheet</u></i> of <i>read</i> <i>light</i>. The <i><u>rain-drops</u></i> <i>glitter</i>, as if the <i><u>sky</u></i> were <i>pouring</i> down <i><u>rubies</u></i>. The <i><u>spouts</u></i> <i>gush</i> with fire. <i>Methinks</i> the <i>scene</i> is an <i>emblem</i> of the <i><b>deceptive</b></i> <i>glare</i> which <i>mortals</i> <i>throw</i> around their <i>footsteps</i> in the <i><b>moral</b></i> world, thus bedazzling themselves, till they <i>forget</i> the <i>impenetrable</i> <i>obscurity</i> that <i><u>hems</u></i> them in, and that can be <i><b>dispelled</b></i> only by <i>radiance</i> from above. And, after all, it is a <i>cheerless</i> <i>scene</i>, and <i>cheerless</i> are the <i>wanderers</i> in it. Here comes one who has so <i>long</i> been <i>familiar</i> with <i>tempestuous</i> <i>weather</i>, that he <i>takes</i> the <i>bluster</i> of the <i>storm</i> for a <i>friendly</i> <i>greeting</i>, as if it should say,\"\" How <i>fare</i> you, brother?'' He is a <i>retired</i> <i>sea-captain</i>, <i><u>wrapped</u></i> in some <i>nameless</i> <i><u>garment</u></i> of the <i><u>pea-jacket</u></i> <i>order</i>, and is now <i>laying</i> his course towards the <i>Marine</i> <i>Insurance</i> <i>Office</i>, there to <i><u>spin</u></i> <i><u>yarns</u></i> of <i>gale</i> and <i>shipwreck</i>, with a <i>crew</i> of old seadogs Like himself. The <i>blast</i>\n",
       "    \n",
       "- chadwyck.Hawthorne.Night_Sketches_beneath_an.0316 (-22)\n",
       "    "
      ],
      "text/plain": [
       "<IPython.core.display.Markdown object>"
      ]
     },
     "metadata": {},
     "output_type": "display_data"
    }
   ],
   "source": [
    "showrow(df[df.id=='chadwyck.Hawthorne.Night_Sketches_beneath_an.0316'])"
   ]
  },
  {
   "cell_type": "code",
   "execution_count": null,
   "metadata": {},
   "outputs": [],
   "source": []
  }
 ],
 "metadata": {
  "kernelspec": {
   "display_name": "Python 3",
   "language": "python",
   "name": "python3"
  },
  "language_info": {
   "codemirror_mode": {
    "name": "ipython",
    "version": 3
   },
   "file_extension": ".py",
   "mimetype": "text/x-python",
   "name": "python",
   "nbconvert_exporter": "python",
   "pygments_lexer": "ipython3",
   "version": "3.7.7"
  },
  "widgets": {
   "application/vnd.jupyter.widget-state+json": {
    "state": {},
    "version_major": 2,
    "version_minor": 0
   }
  }
 },
 "nbformat": 4,
 "nbformat_minor": 4
}
