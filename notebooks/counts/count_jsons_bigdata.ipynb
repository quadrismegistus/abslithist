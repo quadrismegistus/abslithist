{
 "cells": [
  {
   "cell_type": "markdown",
   "metadata": {},
   "source": [
    "# Plot Hathi, etc"
   ]
  },
  {
   "cell_type": "code",
   "execution_count": 5,
   "metadata": {},
   "outputs": [],
   "source": [
    "import sys; sys.path.append('../..')\n",
    "from abslithist import *\n",
    "from abslithist.words import *"
   ]
  },
  {
   "cell_type": "markdown",
   "metadata": {},
   "source": [
    "## Input"
   ]
  },
  {
   "cell_type": "code",
   "execution_count": 6,
   "metadata": {},
   "outputs": [],
   "source": [
    "CORPORA = [\n",
    "#     'ARTFL',\n",
    "#     'BPO',\n",
    "    'CLMET',\n",
    "    'COCA',\n",
    "    'COHA',\n",
    "    'CanonFiction',\n",
    "    'Chadwyck',\n",
    "    'ChadwyckDrama',\n",
    "    'ChadwyckPoetry',\n",
    "    'Chicago',\n",
    "#     'DTA',\n",
    "    'DialNarr',\n",
    "    'ECCO',\n",
    "#     'ECCO_LitLang',\n",
    "    'ECCO_TCP',\n",
    "    'EEBO_TCP',\n",
    "#     'ESTC',\n",
    "    'EnglishDialogues',\n",
    "    'FanFic',\n",
    "    'GaleAmericanFiction',\n",
    "    'GildedAge',\n",
    "#     'Hathi',\n",
    "    'HathiBio',\n",
    "    'HathiEngLit',\n",
    "    'HathiEssays',\n",
    "    'HathiLetters',\n",
    "    'HathiNovels',\n",
    "    'HathiProclamations',\n",
    "    'HathiSermons',\n",
    "    'HathiStories',\n",
    "    'HathiTales',\n",
    "    'HathiTreatises',\n",
    "    'InternetArchive',\n",
    "    'JstorDFR',\n",
    "#     'LitHist',\n",
    "#     'LitHistAuthors',\n",
    "#     'LitHistHathi',\n",
    "#     'LitHistProse',\n",
    "#     'LitLab',\n",
    "    'MarkMark',\n",
    "    'NewYorker',\n",
    "    'OldBailey',\n",
    "    'PMLA',\n",
    "#     'RavenGarside',\n",
    "    'SOTU',\n",
    "    'Sellars',\n",
    "#     'SemanticCohort',\n",
    "    'Spectator',\n",
    "    'TedJDH',\n",
    "#     'TxtLab'\n",
    "]"
   ]
  },
  {
   "cell_type": "code",
   "execution_count": 7,
   "metadata": {},
   "outputs": [],
   "source": [
    "# get all paths"
   ]
  },
  {
   "cell_type": "code",
   "execution_count": 14,
   "metadata": {},
   "outputs": [
    {
     "name": "stderr",
     "output_type": "stream",
     "text": [
      "100%|██████████| 36/36 [01:15<00:00,  2.09s/it]\n"
     ]
    }
   ],
   "source": [
    "json_paths = [\n",
    "    {'path_freqs':t.path_freqs, 'id':t.id, 'corpus':t.corpus.name}\n",
    "    for cname in tqdm(CORPORA)\n",
    "    for t in lltk.load(cname).texts()\n",
    "]"
   ]
  },
  {
   "cell_type": "code",
   "execution_count": 16,
   "metadata": {},
   "outputs": [],
   "source": [
    "# pdf=pd.DataFrame(json_paths)\n",
    "# pdf.corpus.value_counts()"
   ]
  },
  {
   "cell_type": "code",
   "execution_count": null,
   "metadata": {},
   "outputs": [],
   "source": []
  },
  {
   "cell_type": "code",
   "execution_count": 17,
   "metadata": {},
   "outputs": [],
   "source": [
    "# len(json_paths),json_paths[0]"
   ]
  },
  {
   "cell_type": "markdown",
   "metadata": {},
   "source": [
    "## Method"
   ]
  },
  {
   "cell_type": "code",
   "execution_count": null,
   "metadata": {},
   "outputs": [],
   "source": [
    "import mpi_slingshot as sl"
   ]
  },
  {
   "cell_type": "code",
   "execution_count": 13,
   "metadata": {},
   "outputs": [
    {
     "name": "stdout",
     "output_type": "stream",
     "text": [
      "Overwriting .sling.plot_biggerdata.py\n"
     ]
    }
   ],
   "source": [
    "%%writefile .sling.plot_biggerdata.py\n",
    "\n",
    "# load\n",
    "import sys,os\n",
    "sys.path.append(os.path.abspath('../..'))\n",
    "from abslithist import *\n",
    "from abslithist.words import *\n",
    "\n",
    "def parse_json(obj):\n",
    "    fnfn=obj.get('path_freqs')\n",
    "    if not fnfn: return []\n",
    "    del obj['path_freqs']\n",
    "    ld = list(count_absconc_json(\n",
    "        fnfn,\n",
    "        periods={},\n",
    "        sources={'Median'}\n",
    "    ))\n",
    "    for dx in ld:\n",
    "        for k,v in obj.items():\n",
    "            dx[k]=v\n",
    "    return ld"
   ]
  },
  {
   "cell_type": "code",
   "execution_count": 12,
   "metadata": {},
   "outputs": [],
   "source": [
    "# parse_json(json_paths[0])"
   ]
  },
  {
   "cell_type": "code",
   "execution_count": null,
   "metadata": {},
   "outputs": [],
   "source": [
    "# sl.shoot??"
   ]
  },
  {
   "cell_type": "code",
   "execution_count": null,
   "metadata": {},
   "outputs": [],
   "source": [
    "cmd=sl.shoot(\n",
    "    func='parse_json',\n",
    "    path_src='.sling.plot_biggerdata.py',\n",
    "    objects = json_paths,\n",
    "    parallel=6,\n",
    "    resume=True\n",
    ")\n",
    "cmd"
   ]
  },
  {
   "cell_type": "code",
   "execution_count": null,
   "metadata": {},
   "outputs": [],
   "source": [
    "# !head _data_/parse_json/input.jsonl"
   ]
  },
  {
   "cell_type": "code",
   "execution_count": null,
   "metadata": {},
   "outputs": [],
   "source": [
    "# stop"
   ]
  },
  {
   "cell_type": "markdown",
   "metadata": {},
   "source": [
    "## Execute!"
   ]
  },
  {
   "cell_type": "code",
   "execution_count": null,
   "metadata": {},
   "outputs": [],
   "source": [
    "!{cmd}"
   ]
  },
  {
   "cell_type": "code",
   "execution_count": null,
   "metadata": {},
   "outputs": [],
   "source": []
  }
 ],
 "metadata": {
  "kernelspec": {
   "display_name": "Python 3",
   "language": "python",
   "name": "python3"
  },
  "language_info": {
   "codemirror_mode": {
    "name": "ipython",
    "version": 3
   },
   "file_extension": ".py",
   "mimetype": "text/x-python",
   "name": "python",
   "nbconvert_exporter": "python",
   "pygments_lexer": "ipython3",
   "version": "3.7.7"
  },
  "widgets": {
   "application/vnd.jupyter.widget-state+json": {
    "state": {},
    "version_major": 2,
    "version_minor": 0
   }
  }
 },
 "nbformat": 4,
 "nbformat_minor": 4
}
