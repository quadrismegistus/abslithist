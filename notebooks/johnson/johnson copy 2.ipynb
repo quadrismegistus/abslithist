{
 "cells": [
  {
   "cell_type": "code",
   "execution_count": null,
   "metadata": {},
   "outputs": [],
   "source": [
    "from johnson import *"
   ]
  },
  {
   "cell_type": "code",
   "execution_count": null,
   "metadata": {},
   "outputs": [],
   "source": [
    "# corpus = Corpus('ecco_tcp')\n",
    "# corpus2 = Corpus('tedjdh')\n",
    "# meta = pd.concat([corpus2.meta, corpus.meta]).reset_index().drop_duplicates('id',keep='first').set_index('id')\n",
    "corpus = Corpus('tedjdh')\n",
    "meta = corpus.meta\n",
    "meta['num_words']=[len(' '.join(corpus.textd[idx].sents()[:1000]).split()) for idx in tqdm(meta.index)]"
   ]
  },
  {
   "cell_type": "code",
   "execution_count": null,
   "metadata": {},
   "outputs": [],
   "source": [
    "# meta[['num_words2','num_words']]\n",
    "goodmeta=meta.query('ocr_accuracy>=.9')[['author','medium','num_words','title','year','ocr_accuracy']]\n",
    "goodmeta"
   ]
  },
  {
   "cell_type": "code",
   "execution_count": null,
   "metadata": {},
   "outputs": [],
   "source": [
    "def unpack_parallel(xyz):\n",
    "    x,y,z = xyz\n",
    "    words = (tuple(a[0] for a in x), y[0], tuple(b[0] for b in z))\n",
    "    pos = (tuple(a[1] for a in x), y[1], tuple(b[1] for b in z))\n",
    "    words_flat = tuple(list(words[0]) + [words[1]] + list(words[2]))\n",
    "    is_valid = not all(w == w.upper() for w in words_flat)\n",
    "    plen = len(x)\n",
    "    midword = words[1]#.lower()\n",
    "    # if midword=='&': midword='and'\n",
    "    return {\n",
    "        'word_beg': ' '.join(words[0]),\n",
    "        'word_mid': midword,\n",
    "        'word_end': ' '.join(words[2]),\n",
    "\n",
    "        'pos_beg':' '.join(pos[0]),\n",
    "        'pos_mid':pos[1],\n",
    "        'pos_end':' '.join(pos[2]),\n",
    "\n",
    "        'plen':plen,\n",
    "        'is_valid':is_valid,\n",
    "    }\n",
    "\n",
    "def get_db_data(suffix=''):\n",
    "    db=get_db(flag='r',suffix=suffix)\n",
    "    o=[]\n",
    "    for key in tqdm(db.keys(), total=len(db)):\n",
    "        for sent_num, sent_parallels in db[key]:\n",
    "            for paral in sent_parallels:\n",
    "                pdat = unpack_parallel(paral)\n",
    "                if pdat['is_valid']:\n",
    "                    o.append({'id':key, 'sent_num':sent_num, **pdat})\n",
    "    return pd.DataFrame(o).set_index('id')\n",
    "        "
   ]
  },
  {
   "cell_type": "code",
   "execution_count": null,
   "metadata": {},
   "outputs": [],
   "source": [
    "data = get_db_data(suffix='')\n",
    "data"
   ]
  },
  {
   "cell_type": "code",
   "execution_count": null,
   "metadata": {},
   "outputs": [],
   "source": [
    "datameta=data.join(goodmeta,how='inner')\n",
    "datameta"
   ]
  },
  {
   "cell_type": "code",
   "execution_count": null,
   "metadata": {},
   "outputs": [],
   "source": [
    "datameta.plen.value_counts()"
   ]
  },
  {
   "cell_type": "code",
   "execution_count": null,
   "metadata": {},
   "outputs": [],
   "source": [
    "datameta[datameta.plen==5]"
   ]
  },
  {
   "cell_type": "code",
   "execution_count": null,
   "metadata": {},
   "outputs": [],
   "source": [
    "datameta[datameta.author.str.contains('Johnson, Samuel')].query('plen>2')"
   ]
  },
  {
   "cell_type": "code",
   "execution_count": null,
   "metadata": {},
   "outputs": [],
   "source": [
    "datameta.query('plen==3').author.value_counts()"
   ]
  },
  {
   "cell_type": "code",
   "execution_count": 183,
   "metadata": {},
   "outputs": [],
   "source": [
    "norms=get_allnorms()['Abs-Conc.Median.C18'].dropna()\n",
    "norms=norms.loc[norms.index.dropna()]\n",
    "norms_d = dict(norms)"
   ]
  },
  {
   "cell_type": "code",
   "execution_count": null,
   "metadata": {},
   "outputs": [],
   "source": []
  },
  {
   "cell_type": "code",
   "execution_count": null,
   "metadata": {},
   "outputs": [],
   "source": [
    "data[data.is_valid].query('plen>1').word_mid.value_counts().head(25)"
   ]
  },
  {
   "cell_type": "code",
   "execution_count": null,
   "metadata": {},
   "outputs": [],
   "source": [
    "\n",
    "# meta=corpus.meta.join(corpus2.meta, how='outer', lsuffix='', rsuffix='_tedjdh')\n",
    "# meta=pd.concat([meta, corpus3.meta.query('1700>year<1900').assign(medium='Fiction')])"
   ]
  },
  {
   "cell_type": "code",
   "execution_count": null,
   "metadata": {},
   "outputs": [],
   "source": [
    "datameta=data.set_index('id').join(meta, lsuffix='_data', rsuffix='_meta')\n",
    "datameta"
   ]
  },
  {
   "cell_type": "code",
   "execution_count": null,
   "metadata": {},
   "outputs": [],
   "source": [
    "k='num_parallels_per_1000_words'\n",
    "datameta.groupby('medium').mean(numeric_only=True).sort_values(k)"
   ]
  },
  {
   "cell_type": "code",
   "execution_count": null,
   "metadata": {},
   "outputs": [],
   "source": [
    "top=datameta.query('num_words_data>=5000').groupby('author').mean(numeric_only=True).sort_values(k,ascending=False)\n",
    "top.head(20)"
   ]
  },
  {
   "cell_type": "code",
   "execution_count": null,
   "metadata": {},
   "outputs": [],
   "source": []
  },
  {
   "cell_type": "code",
   "execution_count": null,
   "metadata": {},
   "outputs": [],
   "source": []
  },
  {
   "cell_type": "code",
   "execution_count": null,
   "metadata": {},
   "outputs": [],
   "source": [
    "import plotnine as p9\n",
    "k='num_parallels_per_1000_words'\n",
    "datameta['year']=pd.to_numeric(datameta['year'],errors='coerce')\n",
    "figdf=datameta.query('1700<=year<1900 & num_words_data>=5000')\n",
    "figdf=figdf[figdf.medium.isin({'Oratory','Biography','Non-Fiction','Poetry','Drama','Fiction'})]\n",
    "fig=p9.ggplot(figdf,p9.aes(x='year', y=k, color='medium'))\n",
    "fig+=p9.geom_point(size=.1)\n",
    "fig+=p9.geom_smooth(se=True,method='loess')\n",
    "fig+=p9.facet_wrap('medium')\n",
    "fig"
   ]
  },
  {
   "cell_type": "code",
   "execution_count": null,
   "metadata": {},
   "outputs": [],
   "source": [
    "datameta[datameta.author.str.contains('Johnson, Samuel')][['medium','title']]"
   ]
  },
  {
   "cell_type": "code",
   "execution_count": null,
   "metadata": {},
   "outputs": [],
   "source": []
  }
 ],
 "metadata": {
  "kernelspec": {
   "display_name": "venv",
   "language": "python",
   "name": "python3"
  },
  "language_info": {
   "codemirror_mode": {
    "name": "ipython",
    "version": 3
   },
   "file_extension": ".py",
   "mimetype": "text/x-python",
   "name": "python",
   "nbconvert_exporter": "python",
   "pygments_lexer": "ipython3",
   "version": "3.8.14"
  }
 },
 "nbformat": 4,
 "nbformat_minor": 2
}
