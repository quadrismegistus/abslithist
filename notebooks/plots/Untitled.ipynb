{
 "cells": [
  {
   "cell_type": "code",
   "execution_count": 10,
   "metadata": {},
   "outputs": [
    {
     "data": {
      "text/plain": [
       "('None', False)"
      ]
     },
     "execution_count": 10,
     "metadata": {},
     "output_type": "execute_result"
    }
   ],
   "source": [
    "import lltk,os\n",
    "C=lltk.load('InternetArchive')\n",
    "pf=C.texts()[0].id\n",
    "pf,os.path.exists(pf)"
   ]
  },
  {
   "cell_type": "code",
   "execution_count": 11,
   "metadata": {},
   "outputs": [
    {
     "name": "stdout",
     "output_type": "stream",
     "text": [
      "\n",
      ">> downloading: _tmp_internet_archive_metadata.zip\n",
      "https://www.dropbox.com/s/yymc8t060eik7bt/internet_archive_metadata.zip?dl=1: 777kb [00:01, 537kb/s]\n",
      "\n",
      ">> unzipping: _tmp_internet_archive_metadata.zip\n",
      "100%|███████████████████████████████████████████| 1/1 [00:00<00:00, 8507.72it/s]\n",
      "\n",
      ">> downloading: _tmp_internet_archive_txt.zip\n",
      "https://www.dropbox.com/s/bs1ec7k9kk2jkrt/internet_archive_txt.zip?dl=1:   1%| |^C\n",
      "Traceback (most recent call last):\n",
      "  File \"/home/ryan/github/lltk/lltk/tools/tools.py\", line 1568, in __call__\n",
      "    def __call__(self, dltotal, dlnow, ultotal, ulnow):\n",
      "KeyboardInterrupt\n",
      "https://www.dropbox.com/s/bs1ec7k9kk2jkrt/internet_archive_txt.zip?dl=1:   1%| |\n",
      "\n",
      ">> unzipping: _tmp_internet_archive_txt.zip\n",
      "Traceback (most recent call last):\n",
      "  File \"/home/ryan/github/lltk/bin/lltk\", line 456, in <module>\n",
      "    if __name__ == '__main__': main()\n",
      "  File \"/home/ryan/github/lltk/bin/lltk\", line 216, in main\n",
      "    cmder(**_attrs)\n",
      "  File \"/home/ryan/github/lltk/lltk/corpus/internet_archive/internet_archive.py\", line 276, in download\n",
      "    return super().download(**attrs)\n",
      "  File \"/home/ryan/github/lltk/lltk/corpus/corpus.py\", line 884, in download\n",
      "    tools.unzip(tmpfn)\n",
      "  File \"/home/ryan/github/lltk/lltk/tools/tools.py\", line 1610, in unzip\n",
      "    with ZipFile(zipfn) as zip_file:\n",
      "  File \"/home/ryan/miniconda3/lib/python3.7/zipfile.py\", line 1240, in __init__\n",
      "    self.fp = io.open(file, filemode)\n",
      "FileNotFoundError: [Errno 2] No such file or directory: '_tmp_internet_archive_txt.zip'\n"
     ]
    }
   ],
   "source": [
    "!lltk download internet_archive metadata\n",
    "!lltk download internet_archive txt"
   ]
  },
  {
   "cell_type": "code",
   "execution_count": 2,
   "metadata": {},
   "outputs": [],
   "source": [
    "# !cat '/home/ryan/lltk_data/corpora/gildedage/freqs/1875.Alcott.Am.F.Eight Cousins.json'"
   ]
  },
  {
   "cell_type": "code",
   "execution_count": 3,
   "metadata": {},
   "outputs": [],
   "source": [
    "# !head ~/lltk_data/corpora/eebo_tcp/metadata.csv"
   ]
  },
  {
   "cell_type": "code",
   "execution_count": 4,
   "metadata": {},
   "outputs": [],
   "source": [
    "# !head -n 1000 /home/ryan/lltk_data/corpora/internet_archive/txt/aaronjewnovel01farj/aaronjewnovel01farj_djvu.txt"
   ]
  },
  {
   "cell_type": "code",
   "execution_count": 5,
   "metadata": {},
   "outputs": [],
   "source": [
    "# !lltk download internet_archive freqs"
   ]
  },
  {
   "cell_type": "code",
   "execution_count": 6,
   "metadata": {},
   "outputs": [
    {
     "name": "stdout",
     "output_type": "stream",
     "text": [
      "[('/home/ryan/lltk_data/corpora/internet_archive/txt/None.txt', '/home/ryan/lltk_data/corpora/internet_archive/freqs/None.json', None), ('/home/ryan/lltk_data/corpora/internet_archive/txt/None.txt', '/home/ryan/lltk_data/corpora/internet_archive/freqs/None.json', None), ('/home/ryan/lltk_data/corpora/internet_archive/txt/None.txt', '/home/ryan/lltk_data/corpora/internet_archive/freqs/None.json', None), ('/home/ryan/lltk_data/corpora/internet_archive/txt/None.txt', '/home/ryan/lltk_data/corpora/internet_archive/freqs/None.json', None), ('/home/ryan/lltk_data/corpora/internet_archive/txt/None.txt', '/home/ryan/lltk_data/corpora/internet_archive/freqs/None.json', None), ('/home/ryan/lltk_data/corpora/internet_archive/txt/None.txt', '/home/ryan/lltk_data/corpora/internet_archive/freqs/None.json', None), ('/home/ryan/lltk_data/corpora/internet_archive/txt/None.txt', '/home/ryan/lltk_data/corpora/internet_archive/freqs/None.json', None), ('/home/ryan/lltk_data/corpora/internet_archive/txt/None.txt', '/home/ryan/lltk_data/corpora/internet_archive/freqs/None.json', None), ('/home/ryan/lltk_data/corpora/internet_archive/txt/None.txt', '/home/ryan/lltk_data/corpora/internet_archive/freqs/None.json', None), ('/home/ryan/lltk_data/corpora/internet_archive/txt/None.txt', '/home/ryan/lltk_data/corpora/internet_archive/freqs/None.json', None)]\n"
     ]
    },
    {
     "name": "stderr",
     "output_type": "stream",
     "text": [
      "Mapping save_freqs_json() [x4]: 100%|██████████| 7828/7828 [00:00<00:00, 56873.00it/s]\n"
     ]
    }
   ],
   "source": [
    "lltk.load('internet_archive').save_freqs()"
   ]
  },
  {
   "cell_type": "code",
   "execution_count": 7,
   "metadata": {},
   "outputs": [
    {
     "ename": "NameError",
     "evalue": "name 'llt' is not defined",
     "output_type": "error",
     "traceback": [
      "\u001b[0;31m---------------------------------------------------------------------------\u001b[0m",
      "\u001b[0;31mNameError\u001b[0m                                 Traceback (most recent call last)",
      "\u001b[0;32m<ipython-input-7-e1c8471ab2db>\u001b[0m in \u001b[0;36m<module>\u001b[0;34m\u001b[0m\n\u001b[0;32m----> 1\u001b[0;31m \u001b[0mllt\u001b[0m\u001b[0;34m\u001b[0m\u001b[0;34m\u001b[0m\u001b[0m\n\u001b[0m",
      "\u001b[0;31mNameError\u001b[0m: name 'llt' is not defined"
     ]
    }
   ],
   "source": [
    "llt"
   ]
  },
  {
   "cell_type": "code",
   "execution_count": null,
   "metadata": {},
   "outputs": [],
   "source": [
    "# !lltk download gildedage freqs"
   ]
  },
  {
   "cell_type": "code",
   "execution_count": null,
   "metadata": {},
   "outputs": [],
   "source": [
    "lltk.load('gildedage').save_freqs()"
   ]
  },
  {
   "cell_type": "code",
   "execution_count": null,
   "metadata": {},
   "outputs": [],
   "source": []
  }
 ],
 "metadata": {
  "kernelspec": {
   "display_name": "Python 3",
   "language": "python",
   "name": "python3"
  },
  "language_info": {
   "codemirror_mode": {
    "name": "ipython",
    "version": 3
   },
   "file_extension": ".py",
   "mimetype": "text/x-python",
   "name": "python",
   "nbconvert_exporter": "python",
   "pygments_lexer": "ipython3",
   "version": "3.7.7"
  },
  "widgets": {
   "application/vnd.jupyter.widget-state+json": {
    "state": {},
    "version_major": 2,
    "version_minor": 0
   }
  }
 },
 "nbformat": 4,
 "nbformat_minor": 4
}
