{
 "cells": [
  {
   "cell_type": "markdown",
   "metadata": {},
   "source": [
    "# Cluster"
   ]
  },
  {
   "cell_type": "code",
   "execution_count": 8,
   "metadata": {},
   "outputs": [],
   "source": [
    "import sys; sys.path.append('../..')\n",
    "from abslithist.words import *\n",
    "from abslithist.models import *"
   ]
  },
  {
   "cell_type": "code",
   "execution_count": 9,
   "metadata": {},
   "outputs": [],
   "source": [
    "fields = get_allfields()"
   ]
  },
  {
   "cell_type": "code",
   "execution_count": 10,
   "metadata": {},
   "outputs": [
    {
     "output_type": "execute_result",
     "data": {
      "text/plain": [
       "23776"
      ]
     },
     "metadata": {},
     "execution_count": 10
    }
   ],
   "source": [
    "words = list(fields['Abs-Conc.Median.Conc.median'])\n",
    "len(words)"
   ]
  },
  {
   "cell_type": "code",
   "execution_count": 15,
   "metadata": {},
   "outputs": [
    {
     "output_type": "stream",
     "name": "stderr",
     "text": [
      "Collecting top word associations across all models [x4]: 100%|██████████| 50/50 [10:09<00:00, 12.19s/it]>> saved: /home/ryan/github/abslithist/data/dists/data.top_words.abs.json\n",
      "\n"
     ]
    }
   ],
   "source": [
    "ofn_abs='data.top_words.abs.json'\n",
    "gen_top_words_across_models(\n",
    "    fields['Abs-Conc.Median.Abs.median'],\n",
    "    ofn=ofn_abs,\n",
    "    num_proc=4\n",
    ")"
   ]
  },
  {
   "cell_type": "code",
   "execution_count": null,
   "metadata": {},
   "outputs": [],
   "source": [
    "stop"
   ]
  },
  {
   "cell_type": "code",
   "execution_count": 19,
   "metadata": {},
   "outputs": [],
   "source": [
    "df_abs=pd.DataFrame(readgen_jsonl('../../data/dists/data.top_words.abs.json'))\n",
    "df_abs['absconc']='Abs'\n",
    "df_conc=pd.DataFrame(readgen_jsonl('../../data/dists/data.top_words.json'))\n",
    "df_conc['absconc']='Conc'\n",
    "df=pd.concat([df_abs,df_conc])"
   ]
  },
  {
   "cell_type": "code",
   "execution_count": null,
   "metadata": {},
   "outputs": [],
   "source": []
  },
  {
   "cell_type": "code",
   "execution_count": 20,
   "metadata": {},
   "outputs": [
    {
     "output_type": "execute_result",
     "data": {
      "text/plain": [
       "               word                                       neighborhood  \\\n",
       "0         ineffable  [[benignity, 0.7806432843208313], [undissemble...   \n",
       "1       enterprizes  [[rivalship, 0.8295625448226929], [fellowmen, ...   \n",
       "2          harbored  [[molested, 0.6936917304992676], [taunted, 0.6...   \n",
       "3        materially  [[greatly, 0.721524178981781], [remedying, 0.6...   \n",
       "4          expected  [[desired, 0.7255516052246094], [expect, 0.719...   \n",
       "...             ...                                                ...   \n",
       "376941    coleworts  [[persely, 0.9381764531135559], [mulberries, 0...   \n",
       "376942    confectio  [[squilliticum, 0.9632958173751831], [syrupus,...   \n",
       "376943         pane  [[extendit, 0.6996978521347046], [apprehendit,...   \n",
       "376944        fries  [[opprest, 0.8284613490104675], [thisbie, 0.82...   \n",
       "376945        tempe  [[auroraes, 0.787773072719574], [parnasse, 0.7...   \n",
       "\n",
       "          corpus period_start period_end     run absconc  \n",
       "0           coha         1800       1900  run_07     Abs  \n",
       "1           coha         1800       1900  run_07     Abs  \n",
       "2           coha         1800       1900  run_07     Abs  \n",
       "3           coha         1800       1900  run_07     Abs  \n",
       "4           coha         1800       1900  run_07     Abs  \n",
       "...          ...          ...        ...     ...     ...  \n",
       "376941  eebo_tcp         1500       1600  run_02    Conc  \n",
       "376942  eebo_tcp         1500       1600  run_02    Conc  \n",
       "376943  eebo_tcp         1500       1600  run_02    Conc  \n",
       "376944  eebo_tcp         1500       1600  run_02    Conc  \n",
       "376945  eebo_tcp         1500       1600  run_02    Conc  \n",
       "\n",
       "[773638 rows x 7 columns]"
      ],
      "text/html": "<div>\n<style scoped>\n    .dataframe tbody tr th:only-of-type {\n        vertical-align: middle;\n    }\n\n    .dataframe tbody tr th {\n        vertical-align: top;\n    }\n\n    .dataframe thead th {\n        text-align: right;\n    }\n</style>\n<table border=\"1\" class=\"dataframe\">\n  <thead>\n    <tr style=\"text-align: right;\">\n      <th></th>\n      <th>word</th>\n      <th>neighborhood</th>\n      <th>corpus</th>\n      <th>period_start</th>\n      <th>period_end</th>\n      <th>run</th>\n      <th>absconc</th>\n    </tr>\n  </thead>\n  <tbody>\n    <tr>\n      <th>0</th>\n      <td>ineffable</td>\n      <td>[[benignity, 0.7806432843208313], [undissemble...</td>\n      <td>coha</td>\n      <td>1800</td>\n      <td>1900</td>\n      <td>run_07</td>\n      <td>Abs</td>\n    </tr>\n    <tr>\n      <th>1</th>\n      <td>enterprizes</td>\n      <td>[[rivalship, 0.8295625448226929], [fellowmen, ...</td>\n      <td>coha</td>\n      <td>1800</td>\n      <td>1900</td>\n      <td>run_07</td>\n      <td>Abs</td>\n    </tr>\n    <tr>\n      <th>2</th>\n      <td>harbored</td>\n      <td>[[molested, 0.6936917304992676], [taunted, 0.6...</td>\n      <td>coha</td>\n      <td>1800</td>\n      <td>1900</td>\n      <td>run_07</td>\n      <td>Abs</td>\n    </tr>\n    <tr>\n      <th>3</th>\n      <td>materially</td>\n      <td>[[greatly, 0.721524178981781], [remedying, 0.6...</td>\n      <td>coha</td>\n      <td>1800</td>\n      <td>1900</td>\n      <td>run_07</td>\n      <td>Abs</td>\n    </tr>\n    <tr>\n      <th>4</th>\n      <td>expected</td>\n      <td>[[desired, 0.7255516052246094], [expect, 0.719...</td>\n      <td>coha</td>\n      <td>1800</td>\n      <td>1900</td>\n      <td>run_07</td>\n      <td>Abs</td>\n    </tr>\n    <tr>\n      <th>...</th>\n      <td>...</td>\n      <td>...</td>\n      <td>...</td>\n      <td>...</td>\n      <td>...</td>\n      <td>...</td>\n      <td>...</td>\n    </tr>\n    <tr>\n      <th>376941</th>\n      <td>coleworts</td>\n      <td>[[persely, 0.9381764531135559], [mulberries, 0...</td>\n      <td>eebo_tcp</td>\n      <td>1500</td>\n      <td>1600</td>\n      <td>run_02</td>\n      <td>Conc</td>\n    </tr>\n    <tr>\n      <th>376942</th>\n      <td>confectio</td>\n      <td>[[squilliticum, 0.9632958173751831], [syrupus,...</td>\n      <td>eebo_tcp</td>\n      <td>1500</td>\n      <td>1600</td>\n      <td>run_02</td>\n      <td>Conc</td>\n    </tr>\n    <tr>\n      <th>376943</th>\n      <td>pane</td>\n      <td>[[extendit, 0.6996978521347046], [apprehendit,...</td>\n      <td>eebo_tcp</td>\n      <td>1500</td>\n      <td>1600</td>\n      <td>run_02</td>\n      <td>Conc</td>\n    </tr>\n    <tr>\n      <th>376944</th>\n      <td>fries</td>\n      <td>[[opprest, 0.8284613490104675], [thisbie, 0.82...</td>\n      <td>eebo_tcp</td>\n      <td>1500</td>\n      <td>1600</td>\n      <td>run_02</td>\n      <td>Conc</td>\n    </tr>\n    <tr>\n      <th>376945</th>\n      <td>tempe</td>\n      <td>[[auroraes, 0.787773072719574], [parnasse, 0.7...</td>\n      <td>eebo_tcp</td>\n      <td>1500</td>\n      <td>1600</td>\n      <td>run_02</td>\n      <td>Conc</td>\n    </tr>\n  </tbody>\n</table>\n<p>773638 rows × 7 columns</p>\n</div>"
     },
     "metadata": {},
     "execution_count": 20
    }
   ],
   "source": [
    "df"
   ]
  },
  {
   "cell_type": "code",
   "execution_count": 22,
   "metadata": {},
   "outputs": [],
   "source": [
    "from tqdm import tqdm\n",
    "\n",
    "def get_top_words_in_df_slice(period_df,min_count=2):\n",
    "    _df=pd.DataFrame()\n",
    "    for word,wdf in tqdm(list(period_df.groupby('word'))):\n",
    "        # collect nieghborhoods, find meta-top\n",
    "        nbds = pd.DataFrame(list(wdf.neighborhood.apply(dict)))\n",
    "\n",
    "        # sort\n",
    "        top = pd.DataFrame()\n",
    "        top['count']=nbds.count()\n",
    "        top['mean']=nbds.mean()\n",
    "        top=top.sort_values(['count','mean'],ascending=False)\n",
    "        top['rank']=[i+1 for i in range(len(top))]\n",
    "        \n",
    "        # add back\n",
    "        top=top.rename_axis('word2').reset_index()#.dropna()\n",
    "        top['word1']=word\n",
    "        _df=_df.append(top[top['count']>=min_count])\n",
    "    return _df"
   ]
  },
  {
   "cell_type": "code",
   "execution_count": 40,
   "metadata": {},
   "outputs": [],
   "source": []
  },
  {
   "cell_type": "code",
   "execution_count": 23,
   "metadata": {},
   "outputs": [
    {
     "output_type": "stream",
     "name": "stderr",
     "text": [
      "Preparing input: 100%|██████████| 10/10 [00:04<00:00,  2.11it/s]\n",
      "100%|██████████| 8698/8698 [07:39<00:00, 18.92it/s]\n",
      "100%|██████████| 9014/9014 [08:17<00:00, 18.13it/s]\n",
      "100%|██████████| 8423/8423 [08:40<00:00, 16.18it/s]\n",
      "100%|██████████| 8469/8469 [09:37<00:00, 14.67it/s]\n",
      "100%|██████████| 9660/9660 [11:10<00:00, 14.41it/s]\n",
      "100%|██████████| 10183/10183 [11:20<00:00, 14.95it/s]\n",
      "100%|██████████| 10711/10711 [12:40<00:00, 14.09it/s]\n",
      "100%|██████████| 9784/9784 [07:44<00:00, 21.07it/s]\n",
      "100%|██████████| 9609/9609 [08:26<00:00, 18.98it/s]\n",
      "100%|██████████| 11005/11005 [07:46<00:00, 23.58it/s]\n",
      "Computing top words per group [x7]: 100%|██████████| 10/10 [16:40<00:00, 100.04s/it]\n"
     ]
    },
    {
     "output_type": "execute_result",
     "data": {
      "text/plain": [
       "        word2  count      mean  rank     word1 absconc period_start\n",
       "0     burlero      2  0.980984     1      a-la    Conc         1600\n",
       "1       lilli      2  0.933669     2      a-la    Conc         1600\n",
       "2        lero      2  0.926497     3      a-la    Conc         1600\n",
       "3      bullen      2  0.870457     4      a-la    Conc         1600\n",
       "4         tol      2  0.759921     5      a-la    Conc         1600\n",
       "..        ...    ...       ...   ...       ...     ...          ...\n",
       "16    paprika      2  0.908866    17  zucchini    Conc         1900\n",
       "17       tofu      2  0.907589    18  zucchini    Conc         1900\n",
       "18   broccoli      2  0.904036    19  zucchini    Conc         1900\n",
       "19  tortillas      2  0.903416    20  zucchini    Conc         1900\n",
       "20    parsley      2  0.902995    21  zucchini    Conc         1900\n",
       "\n",
       "[1206040 rows x 7 columns]"
      ],
      "text/html": "<div>\n<style scoped>\n    .dataframe tbody tr th:only-of-type {\n        vertical-align: middle;\n    }\n\n    .dataframe tbody tr th {\n        vertical-align: top;\n    }\n\n    .dataframe thead th {\n        text-align: right;\n    }\n</style>\n<table border=\"1\" class=\"dataframe\">\n  <thead>\n    <tr style=\"text-align: right;\">\n      <th></th>\n      <th>word2</th>\n      <th>count</th>\n      <th>mean</th>\n      <th>rank</th>\n      <th>word1</th>\n      <th>absconc</th>\n      <th>period_start</th>\n    </tr>\n  </thead>\n  <tbody>\n    <tr>\n      <th>0</th>\n      <td>burlero</td>\n      <td>2</td>\n      <td>0.980984</td>\n      <td>1</td>\n      <td>a-la</td>\n      <td>Conc</td>\n      <td>1600</td>\n    </tr>\n    <tr>\n      <th>1</th>\n      <td>lilli</td>\n      <td>2</td>\n      <td>0.933669</td>\n      <td>2</td>\n      <td>a-la</td>\n      <td>Conc</td>\n      <td>1600</td>\n    </tr>\n    <tr>\n      <th>2</th>\n      <td>lero</td>\n      <td>2</td>\n      <td>0.926497</td>\n      <td>3</td>\n      <td>a-la</td>\n      <td>Conc</td>\n      <td>1600</td>\n    </tr>\n    <tr>\n      <th>3</th>\n      <td>bullen</td>\n      <td>2</td>\n      <td>0.870457</td>\n      <td>4</td>\n      <td>a-la</td>\n      <td>Conc</td>\n      <td>1600</td>\n    </tr>\n    <tr>\n      <th>4</th>\n      <td>tol</td>\n      <td>2</td>\n      <td>0.759921</td>\n      <td>5</td>\n      <td>a-la</td>\n      <td>Conc</td>\n      <td>1600</td>\n    </tr>\n    <tr>\n      <th>...</th>\n      <td>...</td>\n      <td>...</td>\n      <td>...</td>\n      <td>...</td>\n      <td>...</td>\n      <td>...</td>\n      <td>...</td>\n    </tr>\n    <tr>\n      <th>16</th>\n      <td>paprika</td>\n      <td>2</td>\n      <td>0.908866</td>\n      <td>17</td>\n      <td>zucchini</td>\n      <td>Conc</td>\n      <td>1900</td>\n    </tr>\n    <tr>\n      <th>17</th>\n      <td>tofu</td>\n      <td>2</td>\n      <td>0.907589</td>\n      <td>18</td>\n      <td>zucchini</td>\n      <td>Conc</td>\n      <td>1900</td>\n    </tr>\n    <tr>\n      <th>18</th>\n      <td>broccoli</td>\n      <td>2</td>\n      <td>0.904036</td>\n      <td>19</td>\n      <td>zucchini</td>\n      <td>Conc</td>\n      <td>1900</td>\n    </tr>\n    <tr>\n      <th>19</th>\n      <td>tortillas</td>\n      <td>2</td>\n      <td>0.903416</td>\n      <td>20</td>\n      <td>zucchini</td>\n      <td>Conc</td>\n      <td>1900</td>\n    </tr>\n    <tr>\n      <th>20</th>\n      <td>parsley</td>\n      <td>2</td>\n      <td>0.902995</td>\n      <td>21</td>\n      <td>zucchini</td>\n      <td>Conc</td>\n      <td>1900</td>\n    </tr>\n  </tbody>\n</table>\n<p>1206040 rows × 7 columns</p>\n</div>"
     },
     "metadata": {},
     "execution_count": 23
    }
   ],
   "source": [
    "newdf=pmap_groups(\n",
    "    get_top_words_in_df_slice,\n",
    "    df.groupby(['absconc','period_start']),\n",
    "    desc='Computing top words per group',\n",
    "    num_proc=7,\n",
    "    progress=True\n",
    ")\n",
    "newdf"
   ]
  },
  {
   "cell_type": "code",
   "execution_count": 24,
   "metadata": {},
   "outputs": [],
   "source": [
    "newdf.to_csv('../../data/dists/data.top_words.combined.csv')"
   ]
  },
  {
   "cell_type": "code",
   "execution_count": 13,
   "metadata": {},
   "outputs": [
    {
     "output_type": "execute_result",
     "data": {
      "text/plain": [
       "2     316541\n",
       "3     122466\n",
       "4      62042\n",
       "5      36578\n",
       "6      23686\n",
       "7      16754\n",
       "10     14575\n",
       "8      12356\n",
       "9      10286\n",
       "Name: count, dtype: int64"
      ]
     },
     "metadata": {},
     "execution_count": 13
    }
   ],
   "source": [
    "newdf['count'].value_counts()"
   ]
  },
  {
   "cell_type": "code",
   "execution_count": 17,
   "metadata": {},
   "outputs": [
    {
     "output_type": "execute_result",
     "data": {
      "text/plain": [
       "20418"
      ]
     },
     "metadata": {},
     "execution_count": 17
    }
   ],
   "source": [
    "words1=set(newdf.word1)\n",
    "len(words1)"
   ]
  },
  {
   "cell_type": "code",
   "execution_count": null,
   "metadata": {},
   "outputs": [],
   "source": []
  },
  {
   "cell_type": "code",
   "execution_count": 9,
   "metadata": {},
   "outputs": [],
   "source": [
    "# xdf.tail(100)"
   ]
  },
  {
   "cell_type": "code",
   "execution_count": 9,
   "metadata": {},
   "outputs": [],
   "source": [
    "\n"
   ]
  }
 ],
 "metadata": {
  "kernelspec": {
   "display_name": "Python 3",
   "language": "python",
   "name": "python3"
  },
  "language_info": {
   "codemirror_mode": {
    "name": "ipython",
    "version": 3
   },
   "file_extension": ".py",
   "mimetype": "text/x-python",
   "name": "python",
   "nbconvert_exporter": "python",
   "pygments_lexer": "ipython3",
   "version": "3.7.7-final"
  },
  "widgets": {
   "application/vnd.jupyter.widget-state+json": {
    "state": {},
    "version_major": 2,
    "version_minor": 0
   }
  }
 },
 "nbformat": 4,
 "nbformat_minor": 4
}