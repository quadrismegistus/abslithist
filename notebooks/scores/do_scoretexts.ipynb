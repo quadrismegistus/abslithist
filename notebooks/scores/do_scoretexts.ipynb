{
 "cells": [
  {
   "cell_type": "code",
   "execution_count": null,
   "metadata": {},
   "outputs": [],
   "source": []
  },
  {
   "cell_type": "code",
   "execution_count": 7,
   "metadata": {},
   "outputs": [],
   "source": [
    "CORPORA = [\n",
    "#     'ARTFL',\n",
    "#     'BPO',\n",
    "    'CLMET',\n",
    "    'COCA',\n",
    "#     'COHA',\n",
    "#     'CanonFiction',\n",
    "    'Chadwyck',\n",
    "    'ChadwyckDrama',\n",
    "    'ChadwyckPoetry',\n",
    "    'Chicago',\n",
    "#     'DTA',\n",
    "    'DialNarr',\n",
    "    'ECCO',\n",
    "#     'ECCO_LitLang',\n",
    "#     'ECCO_TCP',\n",
    "#     'EEBO_TCP',\n",
    "#     'ESTC',\n",
    "    'EnglishDialogues',\n",
    "    'FanFic',\n",
    "    'GaleAmericanFiction',\n",
    "    'GildedAge',\n",
    "#     'Hathi',\n",
    "    'HathiBio',\n",
    "    'HathiEngLit',\n",
    "#     'HathiEssays',\n",
    "    'HathiLetters',\n",
    "    'HathiNovels',\n",
    "    'HathiProclamations',\n",
    "    'HathiSermons',\n",
    "    'HathiStories',\n",
    "    'HathiTales',\n",
    "    'HathiTreatises',\n",
    "    'InternetArchive',\n",
    "#     'JstorDFR',\n",
    "#     'LitHist',\n",
    "#     'LitHistAuthors',\n",
    "#     'LitHistHathi',\n",
    "#     'LitHistProse',\n",
    "#     'LitLab',\n",
    "    'MarkMark',\n",
    "    'NewYorker',\n",
    "    'OldBailey',\n",
    "    'PMLA',\n",
    "#     'RavenGarside',\n",
    "    'SOTU',\n",
    "    'Sellers',\n",
    "#     'SemanticCohort',\n",
    "    'Spectator',\n",
    "    'TedJDH',\n",
    "#     'TxtLab'\n",
    "]\n",
    "from tqdm import tqdm\n",
    "import os"
   ]
  },
  {
   "cell_type": "code",
   "execution_count": 9,
   "metadata": {},
   "outputs": [
    {
     "name": "stderr",
     "output_type": "stream",
     "text": [
      "SCORING CORPORA:   0%|          | 0/30 [00:00<?, ?it/s]"
     ]
    },
    {
     "name": "stdout",
     "output_type": "stream",
     "text": [
      "[NbConvertApp] Converting notebook scoretexts.ipynb to script\n",
      "[NbConvertApp] Writing 2558 bytes to .scoretexts.ipynb.py\n",
      "\u001b[22;0t\u001b]0;IPython: notebooks/scores\u0007Scoring corpus: CLMET\n",
      "['/home/ryan/github/abslithist/notebooks/scores/.scoretexts.ipynb.py', 'CLMET']\n",
      "\u001b[0;31m---------------------------------------------------------------------------\u001b[0m\n",
      "\u001b[0;31mNameError\u001b[0m                                 Traceback (most recent call last)\n",
      "\u001b[0;32m~/github/abslithist/notebooks/scores/.scoretexts.ipynb.py\u001b[0m in \u001b[0;36m<module>\u001b[0;34m\u001b[0m\n",
      "\u001b[1;32m     29\u001b[0m \u001b[0;34m\u001b[0m\u001b[0m\n",
      "\u001b[1;32m     30\u001b[0m \u001b[0mprint\u001b[0m\u001b[0;34m(\u001b[0m\u001b[0msys\u001b[0m\u001b[0;34m.\u001b[0m\u001b[0margv\u001b[0m\u001b[0;34m)\u001b[0m\u001b[0;34m\u001b[0m\u001b[0;34m\u001b[0m\u001b[0m\n",
      "\u001b[0;32m---> 31\u001b[0;31m \u001b[0mstop\u001b[0m\u001b[0;34m\u001b[0m\u001b[0;34m\u001b[0m\u001b[0m\n",
      "\u001b[0m\u001b[1;32m     32\u001b[0m \u001b[0;34m\u001b[0m\u001b[0m\n",
      "\u001b[1;32m     33\u001b[0m \u001b[0;34m\u001b[0m\u001b[0m\n",
      "\n",
      "\u001b[0;31mNameError\u001b[0m: name 'stop' is not defined\n"
     ]
    },
    {
     "name": "stderr",
     "output_type": "stream",
     "text": [
      "SCORING CORPORA:   0%|          | 0/30 [00:01<?, ?it/s]\n"
     ]
    }
   ],
   "source": [
    "for corpus in tqdm(CORPORA,'SCORING CORPORA'):\n",
    "    !jpython scoretexts.ipynb $corpus"
   ]
  },
  {
   "cell_type": "code",
   "execution_count": null,
   "metadata": {},
   "outputs": [],
   "source": []
  }
 ],
 "metadata": {
  "kernelspec": {
   "display_name": "Python 3",
   "language": "python",
   "name": "python3"
  },
  "language_info": {
   "codemirror_mode": {
    "name": "ipython",
    "version": 3
   },
   "file_extension": ".py",
   "mimetype": "text/x-python",
   "name": "python",
   "nbconvert_exporter": "python",
   "pygments_lexer": "ipython3",
   "version": "3.7.7"
  },
  "widgets": {
   "application/vnd.jupyter.widget-state+json": {
    "state": {},
    "version_major": 2,
    "version_minor": 0
   }
  }
 },
 "nbformat": 4,
 "nbformat_minor": 4
}
