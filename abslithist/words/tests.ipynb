{
 "cells": [
  {
   "cell_type": "code",
   "execution_count": 1,
   "metadata": {},
   "outputs": [],
   "source": [
    "# tests"
   ]
  },
  {
   "cell_type": "code",
   "execution_count": 2,
   "metadata": {},
   "outputs": [],
   "source": [
    "from words import *"
   ]
  },
  {
   "cell_type": "code",
   "execution_count": 3,
   "metadata": {},
   "outputs": [],
   "source": [
    "passage=\"\"\"At the table he sat, like the other men, with his back to the wall so that his view was of the café and the street. I sat opposite him, and because he was all I could see I looked at him. Ryan was teaching alongside me at the summer school: from a distance he was a man of conventional sandy-coloured good looks, but close up there was something uneasy in his appearance, as though he had been put together out of unrelated elements, so that the different parts of him didn’t entirely go together. He had large white teeth which he kept always a little bared and a loose body poised somewhere between muscle and fat, but his head was small and narrow, with sparse, almost colourless hair that grew in spikes back from his forehead and colourless eyelashes that were hidden for now behind dark glasses. His eyebrows, however, were fierce and straight and black. When the waitress came he took the glasses off and I saw his eyes, two small bright blue chips in slightly reddened whites. The rims were red too, as though they were sore, or as though the sun had singed them. He asked the waitress if she had non-alcoholic beer and she leaned towards him with her hand cupped around her ear, not understanding. He picked up the menu and together they studied it.\"\"\""
   ]
  },
  {
   "cell_type": "code",
   "execution_count": 4,
   "metadata": {},
   "outputs": [],
   "source": [
    "mrkdn=highlight(passage)\n",
    "# mrkdn"
   ]
  },
  {
   "cell_type": "code",
   "execution_count": 5,
   "metadata": {},
   "outputs": [
    {
     "data": {
      "text/markdown": [
       "At the <b>table</b> he <b>sat</b>, like the other men, with his back to the <b>wall</b> so that his <u><i>view</i></u> was of the café and the <b>street</b>. I <b>sat</b> opposite him, and because he was all I could see I looked at him. Ryan was <u><i>teaching</i></u> alongside me at the <b>summer</b> school: from a distance he was a man of <u><i>conventional</i></u> sandy-<b>coloured</b> good looks, but <b>close</b> up there was something <u><i>uneasy</i></u> in his <u><i>appearance</i></u>, as though he had been put together out of <u><i>unrelated</i></u> <u><i>elements</i></u>, so that the different parts of him didn’t entirely go together. He had <b>large</b> <b>white</b> <b>teeth</b> which he kept always a little <b>bared</b> and a loose body poised somewhere between <b>muscle</b> and <b>fat</b>, but his <b>head</b> was <b>small</b> and narrow, with sparse, almost colourless <b>hair</b> that grew in spikes back from his <b>forehead</b> and colourless <b>eyelashes</b> that were hidden for now behind <b>dark</b> <b>glasses</b>. His <b>eyebrows</b>, however, were fierce and <b>straight</b> and black. When the <b>waitress</b> came he took the <b>glasses</b> off and I saw his eyes, two <b>small</b> bright <b>blue</b> <b>chips</b> in slightly <b>reddened</b> whites. The <b>rims</b> were <b>red</b> too, as though they were sore, or as though the <b>sun</b> had <b>singed</b> them. He asked the <b>waitress</b> if she had non-alcoholic <b>beer</b> and she <b>leaned</b> towards him with her <b>hand</b> <b>cupped</b> around her <b>ear</b>, not <u><i>understanding</i></u>. He <b>picked</b> up the menu and together they <u><i>studied</i></u> it.\n",
       "\n",
       "(68 content words; 9 abstract (13%); 40 concrete (59%); abstract/concrete ratio is 0.2)\n"
      ],
      "text/plain": [
       "<IPython.core.display.Markdown object>"
      ]
     },
     "metadata": {},
     "output_type": "display_data"
    }
   ],
   "source": [
    "printm(mrkdn)"
   ]
  },
  {
   "cell_type": "code",
   "execution_count": 6,
   "metadata": {},
   "outputs": [
    {
     "name": "stdout",
     "output_type": "stream",
     "text": [
      "At the <b>table</b> he <b>sat</b>, like the other men, with his back to the <b>wall</b> so that his <u><i>view</i></u> was of the café and the <b>street</b>. I <b>sat</b> opposite him, and because he was all I could see I looked at him. Ryan was <u><i>teaching</i></u> alongside me at the <b>summer</b> school: from a distance he was a man of <u><i>conventional</i></u> sandy-<b>coloured</b> good looks, but <b>close</b> up there was something <u><i>uneasy</i></u> in his <u><i>appearance</i></u>, as though he had been put together out of <u><i>unrelated</i></u> <u><i>elements</i></u>, so that the different parts of him didn’t entirely go together. He had <b>large</b> <b>white</b> <b>teeth</b> which he kept always a little <b>bared</b> and a loose body poised somewhere between <b>muscle</b> and <b>fat</b>, but his <b>head</b> was <b>small</b> and narrow, with sparse, almost colourless <b>hair</b> that grew in spikes back from his <b>forehead</b> and colourless <b>eyelashes</b> that were hidden for now behind <b>dark</b> <b>glasses</b>. His <b>eyebrows</b>, however, were fierce and <b>straight</b> and black. When the <b>waitress</b> came he took the <b>glasses</b> off and I saw his eyes, two <b>small</b> bright <b>blue</b> <b>chips</b> in slightly <b>reddened</b> whites. The <b>rims</b> were <b>red</b> too, as though they were sore, or as though the <b>sun</b> had <b>singed</b> them. He asked the <b>waitress</b> if she had non-alcoholic <b>beer</b> and she <b>leaned</b> towards him with her <b>hand</b> <b>cupped</b> around her <b>ear</b>, not <u><i>understanding</i></u>. He <b>picked</b> up the menu and together they <u><i>studied</i></u> it.\n",
      "\n",
      "(68 content words; 9 abstract (13%); 40 concrete (59%); abstract/concrete ratio is 0.2)\n",
      "\n"
     ]
    }
   ],
   "source": [
    "print(mrkdn)"
   ]
  },
  {
   "cell_type": "code",
   "execution_count": null,
   "metadata": {},
   "outputs": [],
   "source": []
  },
  {
   "cell_type": "code",
   "execution_count": 7,
   "metadata": {},
   "outputs": [
    {
     "ename": "TypeError",
     "evalue": "printm() missing 1 required positional argument: 'x'",
     "output_type": "error",
     "traceback": [
      "\u001b[0;31m---------------------------------------------------------------------------\u001b[0m",
      "\u001b[0;31mTypeError\u001b[0m                                 Traceback (most recent call last)",
      "\u001b[0;32m<ipython-input-7-abcb48d0db41>\u001b[0m in \u001b[0;36m<module>\u001b[0;34m\u001b[0m\n\u001b[0;32m----> 1\u001b[0;31m \u001b[0mprintm\u001b[0m\u001b[0;34m(\u001b[0m\u001b[0;34m)\u001b[0m\u001b[0;34m\u001b[0m\u001b[0;34m\u001b[0m\u001b[0m\n\u001b[0m",
      "\u001b[0;31mTypeError\u001b[0m: printm() missing 1 required positional argument: 'x'"
     ]
    }
   ],
   "source": [
    "printm()"
   ]
  }
 ],
 "metadata": {
  "kernelspec": {
   "display_name": "Python 3",
   "language": "python",
   "name": "python3"
  },
  "language_info": {
   "codemirror_mode": {
    "name": "ipython",
    "version": 3
   },
   "file_extension": ".py",
   "mimetype": "text/x-python",
   "name": "python",
   "nbconvert_exporter": "python",
   "pygments_lexer": "ipython3",
   "version": "3.7.7"
  },
  "widgets": {
   "application/vnd.jupyter.widget-state+json": {
    "state": {},
    "version_major": 2,
    "version_minor": 0
   }
  }
 },
 "nbformat": 4,
 "nbformat_minor": 4
}
