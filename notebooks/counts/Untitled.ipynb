{
 "cells": [
  {
   "cell_type": "code",
   "execution_count": 1,
   "metadata": {},
   "outputs": [],
   "source": [
    "# Count type 2"
   ]
  },
  {
   "cell_type": "code",
   "execution_count": 2,
   "metadata": {},
   "outputs": [],
   "source": [
    "import lltk\n",
    "C=lltk.load('CanonFiction')\n"
   ]
  },
  {
   "cell_type": "code",
   "execution_count": 45,
   "metadata": {},
   "outputs": [
    {
     "data": {
      "text/html": [
       "<div>\n",
       "<style scoped>\n",
       "    .dataframe tbody tr th:only-of-type {\n",
       "        vertical-align: middle;\n",
       "    }\n",
       "\n",
       "    .dataframe tbody tr th {\n",
       "        vertical-align: top;\n",
       "    }\n",
       "\n",
       "    .dataframe thead th {\n",
       "        text-align: right;\n",
       "    }\n",
       "</style>\n",
       "<table border=\"1\" class=\"dataframe\">\n",
       "  <thead>\n",
       "    <tr style=\"text-align: right;\">\n",
       "      <th></th>\n",
       "      <th>norm</th>\n",
       "    </tr>\n",
       "    <tr>\n",
       "      <th>word</th>\n",
       "      <th></th>\n",
       "    </tr>\n",
       "  </thead>\n",
       "  <tbody>\n",
       "    <tr>\n",
       "      <th>I</th>\n",
       "      <td>0.950954</td>\n",
       "    </tr>\n",
       "    <tr>\n",
       "      <th>Inf</th>\n",
       "      <td>-1.584783</td>\n",
       "    </tr>\n",
       "    <tr>\n",
       "      <th>a'ch</th>\n",
       "      <td>0.686664</td>\n",
       "    </tr>\n",
       "    <tr>\n",
       "      <th>a'mighty</th>\n",
       "      <td>0.503269</td>\n",
       "    </tr>\n",
       "    <tr>\n",
       "      <th>a'most</th>\n",
       "      <td>1.122983</td>\n",
       "    </tr>\n",
       "    <tr>\n",
       "      <th>...</th>\n",
       "      <td>...</td>\n",
       "    </tr>\n",
       "    <tr>\n",
       "      <th>ụyr</th>\n",
       "      <td>0.981512</td>\n",
       "    </tr>\n",
       "    <tr>\n",
       "      <th>NaN</th>\n",
       "      <td>0.506880</td>\n",
       "    </tr>\n",
       "    <tr>\n",
       "      <th>NaN</th>\n",
       "      <td>-1.246394</td>\n",
       "    </tr>\n",
       "    <tr>\n",
       "      <th>NaN</th>\n",
       "      <td>0.506880</td>\n",
       "    </tr>\n",
       "    <tr>\n",
       "      <th>NaN</th>\n",
       "      <td>-1.246394</td>\n",
       "    </tr>\n",
       "  </tbody>\n",
       "</table>\n",
       "<p>146105 rows × 1 columns</p>\n",
       "</div>"
      ],
      "text/plain": [
       "              norm\n",
       "word              \n",
       "I         0.950954\n",
       "Inf      -1.584783\n",
       "a'ch      0.686664\n",
       "a'mighty  0.503269\n",
       "a'most    1.122983\n",
       "...            ...\n",
       "ụyr       0.981512\n",
       "NaN       0.506880\n",
       "NaN      -1.246394\n",
       "NaN       0.506880\n",
       "NaN      -1.246394\n",
       "\n",
       "[146105 rows x 1 columns]"
      ]
     },
     "execution_count": 45,
     "metadata": {},
     "output_type": "execute_result"
    }
   ],
   "source": [
    "import sys\n",
    "sys.path.append('../..')\n",
    "from abslithist.words import *\n",
    "\n",
    "dfnorms=get_allnorms()\n",
    "normavg = dfnorms.median(axis=1)\n",
    "dfnormavg=pd.DataFrame({'norm':normavg})\n",
    "dfnormavg"
   ]
  },
  {
   "cell_type": "code",
   "execution_count": 57,
   "metadata": {},
   "outputs": [],
   "source": [
    "# get text\n",
    "freqs = C.t.freqs()\n",
    "sfreqs = pd.Series(freqs,name='freq')"
   ]
  },
  {
   "cell_type": "code",
   "execution_count": 73,
   "metadata": {},
   "outputs": [
    {
     "data": {
      "text/plain": [
       "{'sum': 16977.377578796335,\n",
       " 'mean': 0.42381990061401803,\n",
       " 'median': 0.4956057808524901}"
      ]
     },
     "execution_count": 73,
     "metadata": {},
     "output_type": "execute_result"
    }
   ],
   "source": [
    "freql=[w\n",
    "       for w,c in freqs.items()\n",
    "      for i in range(c)\n",
    "      ]\n",
    "freqdf=pd.DataFrame(index=freql)\n",
    "freqdf=freqdf.join(dfnormavg,how='inner')\n",
    "freqdf"
   ]
  },
  {
   "cell_type": "code",
   "execution_count": 74,
   "metadata": {},
   "outputs": [
    {
     "data": {
      "text/plain": [
       "{'sum': 16977.377578796335,\n",
       " 'mean': 0.42381990061401803,\n",
       " 'median': 0.4956057808524901}"
      ]
     },
     "execution_count": 74,
     "metadata": {},
     "output_type": "execute_result"
    }
   ],
   "source": [
    "dict(freqdf.norm.agg(['sum','mean','median']))"
   ]
  },
  {
   "cell_type": "code",
   "execution_count": 52,
   "metadata": {},
   "outputs": [
    {
     "data": {
      "text/html": [
       "<div>\n",
       "<style scoped>\n",
       "    .dataframe tbody tr th:only-of-type {\n",
       "        vertical-align: middle;\n",
       "    }\n",
       "\n",
       "    .dataframe tbody tr th {\n",
       "        vertical-align: top;\n",
       "    }\n",
       "\n",
       "    .dataframe thead th {\n",
       "        text-align: right;\n",
       "    }\n",
       "</style>\n",
       "<table border=\"1\" class=\"dataframe\">\n",
       "  <thead>\n",
       "    <tr style=\"text-align: right;\">\n",
       "      <th></th>\n",
       "      <th>freq</th>\n",
       "      <th>norm</th>\n",
       "      <th>tf</th>\n",
       "      <th>normtf</th>\n",
       "    </tr>\n",
       "  </thead>\n",
       "  <tbody>\n",
       "    <tr>\n",
       "      <th>abandon</th>\n",
       "      <td>1</td>\n",
       "      <td>-1.285841</td>\n",
       "      <td>0.000037</td>\n",
       "      <td>-0.000048</td>\n",
       "    </tr>\n",
       "    <tr>\n",
       "      <th>abided</th>\n",
       "      <td>1</td>\n",
       "      <td>-0.502318</td>\n",
       "      <td>0.000037</td>\n",
       "      <td>-0.000019</td>\n",
       "    </tr>\n",
       "    <tr>\n",
       "      <th>abilities</th>\n",
       "      <td>1</td>\n",
       "      <td>-1.564375</td>\n",
       "      <td>0.000037</td>\n",
       "      <td>-0.000058</td>\n",
       "    </tr>\n",
       "    <tr>\n",
       "      <th>ability</th>\n",
       "      <td>2</td>\n",
       "      <td>-1.470089</td>\n",
       "      <td>0.000074</td>\n",
       "      <td>-0.000109</td>\n",
       "    </tr>\n",
       "    <tr>\n",
       "      <th>abolitionist</th>\n",
       "      <td>1</td>\n",
       "      <td>-0.994484</td>\n",
       "      <td>0.000037</td>\n",
       "      <td>-0.000037</td>\n",
       "    </tr>\n",
       "    <tr>\n",
       "      <th>...</th>\n",
       "      <td>...</td>\n",
       "      <td>...</td>\n",
       "      <td>...</td>\n",
       "      <td>...</td>\n",
       "    </tr>\n",
       "    <tr>\n",
       "      <th>youth</th>\n",
       "      <td>2</td>\n",
       "      <td>-0.536850</td>\n",
       "      <td>0.000074</td>\n",
       "      <td>-0.000040</td>\n",
       "    </tr>\n",
       "    <tr>\n",
       "      <th>youthful</th>\n",
       "      <td>2</td>\n",
       "      <td>-0.209439</td>\n",
       "      <td>0.000074</td>\n",
       "      <td>-0.000016</td>\n",
       "    </tr>\n",
       "    <tr>\n",
       "      <th>zeal</th>\n",
       "      <td>1</td>\n",
       "      <td>-1.383632</td>\n",
       "      <td>0.000037</td>\n",
       "      <td>-0.000051</td>\n",
       "    </tr>\n",
       "    <tr>\n",
       "      <th>zounds</th>\n",
       "      <td>2</td>\n",
       "      <td>0.695223</td>\n",
       "      <td>0.000074</td>\n",
       "      <td>0.000052</td>\n",
       "    </tr>\n",
       "    <tr>\n",
       "      <th>ée</th>\n",
       "      <td>1</td>\n",
       "      <td>0.438761</td>\n",
       "      <td>0.000037</td>\n",
       "      <td>0.000016</td>\n",
       "    </tr>\n",
       "  </tbody>\n",
       "</table>\n",
       "<p>6106 rows × 4 columns</p>\n",
       "</div>"
      ],
      "text/plain": [
       "              freq      norm        tf    normtf\n",
       "abandon          1 -1.285841  0.000037 -0.000048\n",
       "abided           1 -0.502318  0.000037 -0.000019\n",
       "abilities        1 -1.564375  0.000037 -0.000058\n",
       "ability          2 -1.470089  0.000074 -0.000109\n",
       "abolitionist     1 -0.994484  0.000037 -0.000037\n",
       "...            ...       ...       ...       ...\n",
       "youth            2 -0.536850  0.000074 -0.000040\n",
       "youthful         2 -0.209439  0.000074 -0.000016\n",
       "zeal             1 -1.383632  0.000037 -0.000051\n",
       "zounds           2  0.695223  0.000074  0.000052\n",
       "ée               1  0.438761  0.000037  0.000016\n",
       "\n",
       "[6106 rows x 4 columns]"
      ]
     },
     "execution_count": 52,
     "metadata": {},
     "output_type": "execute_result"
    }
   ],
   "source": [
    "dffreqnorm = sfreqs.to_frame().join(dfnormavg,how='inner')\n",
    "dffreqnorm['tf']=dffreqnorm['freq'] / dffreqnorm['freq'].sum()\n",
    "dffreqnorm['normtf']=dffreqnorm['norm'] * dffreqnorm['tf']\n",
    "dffreqnorm"
   ]
  },
  {
   "cell_type": "code",
   "execution_count": 56,
   "metadata": {},
   "outputs": [
    {
     "data": {
      "text/html": [
       "<div>\n",
       "<style scoped>\n",
       "    .dataframe tbody tr th:only-of-type {\n",
       "        vertical-align: middle;\n",
       "    }\n",
       "\n",
       "    .dataframe tbody tr th {\n",
       "        vertical-align: top;\n",
       "    }\n",
       "\n",
       "    .dataframe thead th {\n",
       "        text-align: right;\n",
       "    }\n",
       "</style>\n",
       "<table border=\"1\" class=\"dataframe\">\n",
       "  <thead>\n",
       "    <tr style=\"text-align: right;\">\n",
       "      <th></th>\n",
       "      <th>freq</th>\n",
       "      <th>norm</th>\n",
       "      <th>tf</th>\n",
       "      <th>normtf</th>\n",
       "    </tr>\n",
       "  </thead>\n",
       "  <tbody>\n",
       "    <tr>\n",
       "      <th>sum</th>\n",
       "      <td>26893.000000</td>\n",
       "      <td>140.287292</td>\n",
       "      <td>1.000000</td>\n",
       "      <td>0.096957</td>\n",
       "    </tr>\n",
       "    <tr>\n",
       "      <th>mean</th>\n",
       "      <td>4.404356</td>\n",
       "      <td>0.022975</td>\n",
       "      <td>0.000164</td>\n",
       "      <td>0.000016</td>\n",
       "    </tr>\n",
       "    <tr>\n",
       "      <th>median</th>\n",
       "      <td>2.000000</td>\n",
       "      <td>-0.068904</td>\n",
       "      <td>0.000074</td>\n",
       "      <td>-0.000005</td>\n",
       "    </tr>\n",
       "  </tbody>\n",
       "</table>\n",
       "</div>"
      ],
      "text/plain": [
       "                freq        norm        tf    normtf\n",
       "sum     26893.000000  140.287292  1.000000  0.096957\n",
       "mean        4.404356    0.022975  0.000164  0.000016\n",
       "median      2.000000   -0.068904  0.000074 -0.000005"
      ]
     },
     "execution_count": 56,
     "metadata": {},
     "output_type": "execute_result"
    }
   ],
   "source": [
    "dffreqnorm.agg(['sum','mean','median'])"
   ]
  },
  {
   "cell_type": "code",
   "execution_count": null,
   "metadata": {},
   "outputs": [],
   "source": []
  },
  {
   "cell_type": "code",
   "execution_count": 36,
   "metadata": {},
   "outputs": [
    {
     "data": {
      "text/html": [
       "<div>\n",
       "<style scoped>\n",
       "    .dataframe tbody tr th:only-of-type {\n",
       "        vertical-align: middle;\n",
       "    }\n",
       "\n",
       "    .dataframe tbody tr th {\n",
       "        vertical-align: top;\n",
       "    }\n",
       "\n",
       "    .dataframe thead th {\n",
       "        text-align: right;\n",
       "    }\n",
       "</style>\n",
       "<table border=\"1\" class=\"dataframe\">\n",
       "  <thead>\n",
       "    <tr style=\"text-align: right;\">\n",
       "      <th></th>\n",
       "      <th>freq</th>\n",
       "      <th>norm</th>\n",
       "    </tr>\n",
       "  </thead>\n",
       "  <tbody>\n",
       "    <tr>\n",
       "      <th>a.</th>\n",
       "      <td>5</td>\n",
       "      <td>0.019112</td>\n",
       "    </tr>\n",
       "    <tr>\n",
       "      <th>abandoned</th>\n",
       "      <td>2</td>\n",
       "      <td>-0.946881</td>\n",
       "    </tr>\n",
       "    <tr>\n",
       "      <th>abandonment</th>\n",
       "      <td>1</td>\n",
       "      <td>-1.622977</td>\n",
       "    </tr>\n",
       "    <tr>\n",
       "      <th>aberration</th>\n",
       "      <td>1</td>\n",
       "      <td>-1.575179</td>\n",
       "    </tr>\n",
       "    <tr>\n",
       "      <th>abide</th>\n",
       "      <td>1</td>\n",
       "      <td>-0.684938</td>\n",
       "    </tr>\n",
       "    <tr>\n",
       "      <th>...</th>\n",
       "      <td>...</td>\n",
       "      <td>...</td>\n",
       "    </tr>\n",
       "    <tr>\n",
       "      <th>zealous</th>\n",
       "      <td>2</td>\n",
       "      <td>-1.392009</td>\n",
       "    </tr>\n",
       "    <tr>\n",
       "      <th>zelo</th>\n",
       "      <td>1</td>\n",
       "      <td>-0.172419</td>\n",
       "    </tr>\n",
       "    <tr>\n",
       "      <th>zoe</th>\n",
       "      <td>1</td>\n",
       "      <td>0.151120</td>\n",
       "    </tr>\n",
       "    <tr>\n",
       "      <th>à</th>\n",
       "      <td>1</td>\n",
       "      <td>-0.390606</td>\n",
       "    </tr>\n",
       "    <tr>\n",
       "      <th>è</th>\n",
       "      <td>1</td>\n",
       "      <td>0.262298</td>\n",
       "    </tr>\n",
       "  </tbody>\n",
       "</table>\n",
       "<p>6544 rows × 2 columns</p>\n",
       "</div>"
      ],
      "text/plain": [
       "             freq      norm\n",
       "a.              5  0.019112\n",
       "abandoned       2 -0.946881\n",
       "abandonment     1 -1.622977\n",
       "aberration      1 -1.575179\n",
       "abide           1 -0.684938\n",
       "...           ...       ...\n",
       "zealous         2 -1.392009\n",
       "zelo            1 -0.172419\n",
       "zoe             1  0.151120\n",
       "à               1 -0.390606\n",
       "è               1  0.262298\n",
       "\n",
       "[6544 rows x 2 columns]"
      ]
     },
     "execution_count": 36,
     "metadata": {},
     "output_type": "execute_result"
    }
   ],
   "source": [
    "pd.DataFrame(sfreqs).join(dfnormavg,how='inner')"
   ]
  },
  {
   "cell_type": "code",
   "execution_count": 27,
   "metadata": {},
   "outputs": [
    {
     "ename": "AttributeError",
     "evalue": "module 'pandas' has no attribute 'combine'",
     "output_type": "error",
     "traceback": [
      "\u001b[0;31m---------------------------------------------------------------------------\u001b[0m",
      "\u001b[0;31mAttributeError\u001b[0m                            Traceback (most recent call last)",
      "\u001b[0;32m<ipython-input-27-4be767706f46>\u001b[0m in \u001b[0;36m<module>\u001b[0;34m\u001b[0m\n\u001b[0;32m----> 1\u001b[0;31m \u001b[0mpd\u001b[0m\u001b[0;34m.\u001b[0m\u001b[0mcombine\u001b[0m\u001b[0;34m(\u001b[0m\u001b[0;34m[\u001b[0m\u001b[0mnormavg\u001b[0m\u001b[0;34m,\u001b[0m\u001b[0msfreqs\u001b[0m\u001b[0;34m]\u001b[0m\u001b[0;34m,\u001b[0m\u001b[0mmin\u001b[0m\u001b[0;34m)\u001b[0m\u001b[0;34m\u001b[0m\u001b[0;34m\u001b[0m\u001b[0m\n\u001b[0m",
      "\u001b[0;32m~/miniconda3/lib/python3.7/site-packages/pandas/__init__.py\u001b[0m in \u001b[0;36m__getattr__\u001b[0;34m(name)\u001b[0m\n\u001b[1;32m    256\u001b[0m             \u001b[0;32mreturn\u001b[0m \u001b[0m_SparseArray\u001b[0m\u001b[0;34m\u001b[0m\u001b[0;34m\u001b[0m\u001b[0m\n\u001b[1;32m    257\u001b[0m \u001b[0;34m\u001b[0m\u001b[0m\n\u001b[0;32m--> 258\u001b[0;31m         \u001b[0;32mraise\u001b[0m \u001b[0mAttributeError\u001b[0m\u001b[0;34m(\u001b[0m\u001b[0;34mf\"module 'pandas' has no attribute '{name}'\"\u001b[0m\u001b[0;34m)\u001b[0m\u001b[0;34m\u001b[0m\u001b[0;34m\u001b[0m\u001b[0m\n\u001b[0m\u001b[1;32m    259\u001b[0m \u001b[0;34m\u001b[0m\u001b[0m\n\u001b[1;32m    260\u001b[0m \u001b[0;34m\u001b[0m\u001b[0m\n",
      "\u001b[0;31mAttributeError\u001b[0m: module 'pandas' has no attribute 'combine'"
     ]
    }
   ],
   "source": [
    "pd.combine([normavg,sfreqs],min)"
   ]
  },
  {
   "cell_type": "code",
   "execution_count": null,
   "metadata": {},
   "outputs": [],
   "source": []
  }
 ],
 "metadata": {
  "kernelspec": {
   "display_name": "Python 3",
   "language": "python",
   "name": "python3"
  },
  "language_info": {
   "codemirror_mode": {
    "name": "ipython",
    "version": 3
   },
   "file_extension": ".py",
   "mimetype": "text/x-python",
   "name": "python",
   "nbconvert_exporter": "python",
   "pygments_lexer": "ipython3",
   "version": "3.7.7"
  },
  "widgets": {
   "application/vnd.jupyter.widget-state+json": {
    "state": {},
    "version_major": 2,
    "version_minor": 0
   }
  }
 },
 "nbformat": 4,
 "nbformat_minor": 4
}
