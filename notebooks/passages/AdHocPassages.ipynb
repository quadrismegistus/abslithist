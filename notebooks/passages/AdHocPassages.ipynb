{
 "cells": [
  {
   "cell_type": "code",
   "execution_count": 1,
   "metadata": {},
   "outputs": [],
   "source": [
    "# Passages?"
   ]
  },
  {
   "cell_type": "code",
   "execution_count": 50,
   "metadata": {},
   "outputs": [],
   "source": [
    "import sys; sys.path.append('../..')\n",
    "from abslithist import *\n",
    "from abslithist.words import *\n",
    "from abslithist.realism import *\n"
   ]
  },
  {
   "cell_type": "code",
   "execution_count": 172,
   "metadata": {},
   "outputs": [],
   "source": [
    "def dopsg(xstr,period='median'):\n",
    "    data=df=pd.DataFrame(count_absconc(xstr.strip(),incl_psg=True,sources={'Median'},periods={'C18','C19','C20','median'},window_len=100000,modernize=False))\n",
    "    data['abs-conc']=data['num_abs']-data['num_conc']\n",
    "    row=data.set_index('period').loc[period]\n",
    "    psg=row.passage.replace('\\\\\\\\','\\n> ').replace('\\n','\\n').strip().replace('  ',' ')\n",
    "    stats=f'({row.num_words} words; {row.num_tokens} content words; {row.num_abs} abstract, {row.num_conc} concrete, {row.num_neither} neutral/ambig; A-C = {row[\"abs-conc\"]})'\n",
    "    printm('> '+psg)\n",
    "    print(f'\\n\\n> {psg} {stats}')\n",
    "    print()\n",
    "    "
   ]
  },
  {
   "cell_type": "code",
   "execution_count": 173,
   "metadata": {},
   "outputs": [],
   "source": [
    "# dopsg(austen1)"
   ]
  },
  {
   "cell_type": "code",
   "execution_count": 174,
   "metadata": {},
   "outputs": [
    {
     "data": {
      "text/markdown": [
       "> At the ```table``` he ```sat```, like the other men, with his back to the ```wall``` so that his *view* was of the café and the ```street```. I ```sat``` *opposite* him, and because he was all I could see I *looked* at him. Ryan was ***teaching*** alongside me at the ```summer``` *school*: from a *distance* he was a man of ***conventional*** sandy-coloured good looks, but ```close``` up there was something ***uneasy*** in his *appearance*, as though he had been put together out of ***unrelated*** *elements*, so that the different *parts* of him didn't entirely go together. He had *large* ```white teeth``` which he kept always a little ```bared``` and a *loose* body *poised* somewhere between ```muscle``` and ```fat```, but his ```head``` was ```small``` and *narrow*, with ```sparse```, almost ```colourless hair``` that *grew* in ```spikes``` back from his ```forehead``` and ```colourless eyelashes``` that were *hidden* for now behind *dark* ```glasses```. His ```eyebrows```, however, were *fierce* and ```straight``` and ```black```. When the ```waitress``` came he took the ```glasses``` off and I saw his *eyes*, two ```small bright blue chips``` in slightly *reddened* ```whites```. The ```rims``` were ```red``` too, as though they were *sore*, or as though the ```sun``` had ```singed``` them."
      ],
      "text/plain": [
       "<IPython.core.display.Markdown object>"
      ]
     },
     "metadata": {},
     "output_type": "display_data"
    },
    {
     "name": "stdout",
     "output_type": "stream",
     "text": [
      "\n",
      "\n",
      "> At the ```table``` he ```sat```, like the other men, with his back to the ```wall``` so that his *view* was of the café and the ```street```. I ```sat``` *opposite* him, and because he was all I could see I *looked* at him. Ryan was ***teaching*** alongside me at the ```summer``` *school*: from a *distance* he was a man of ***conventional*** sandy-coloured good looks, but ```close``` up there was something ***uneasy*** in his *appearance*, as though he had been put together out of ***unrelated*** *elements*, so that the different *parts* of him didn't entirely go together. He had *large* ```white teeth``` which he kept always a little ```bared``` and a *loose* body *poised* somewhere between ```muscle``` and ```fat```, but his ```head``` was ```small``` and *narrow*, with ```sparse```, almost ```colourless hair``` that *grew* in ```spikes``` back from his ```forehead``` and ```colourless eyelashes``` that were *hidden* for now behind *dark* ```glasses```. His ```eyebrows```, however, were *fierce* and ```straight``` and ```black```. When the ```waitress``` came he took the ```glasses``` off and I saw his *eyes*, two ```small bright blue chips``` in slightly *reddened* ```whites```. The ```rims``` were ```red``` too, as though they were *sore*, or as though the ```sun``` had ```singed``` them. (199 words; 59 content words; 4 abstract, 36 concrete, 19 neutral/ambig; A-C = -32)\n",
      "\n"
     ]
    }
   ],
   "source": [
    "dopsg(\"\"\"\n",
    "At the table he sat, like the other men, with his back to the wall so that his  view was of the café and the street. I sat opposite him, and because he was all  I could see I looked at him. Ryan was teaching alongside me at the summer  school: from a distance he was a man of conventional sandy-coloured good looks,  but close up there was something uneasy in his appearance, as though he had been  put together out of unrelated elements, so that the different parts of him  didn’t entirely go together. He had large white teeth which he kept always a  little bared and a loose body poised somewhere between muscle and fat, but his  head was small and narrow, with sparse, almost colourless hair that grew in  spikes back from his forehead and colourless eyelashes that were hidden for now  behind dark glasses. His eyebrows, however, were fierce and straight and black.  When the waitress came he took the glasses off and I saw his eyes, two small  bright blue chips in slightly reddened whites. The rims were red too, as though  they were sore, or as though the sun had singed them.\n",
    "\"\"\")"
   ]
  },
  {
   "cell_type": "code",
   "execution_count": 175,
   "metadata": {},
   "outputs": [],
   "source": [
    "# dopsg(\"\"\"\n",
    "# Elinor and her mother rose up in amazement at their entrance, and while the eyes of both were fixed on him with an evident wonder and a secret admiration which equally sprung from his appearance, he apologized for his intrusion by relating its cause, in a manner so frank and so graceful that his person, which was uncommonly handsome, received additional charms from his voice and expression. Had he been even old, ugly, and vulgar, the gratitude and kindness of Mrs. Dashwood would have been secured by any act of attention to her child; but the influence of youth, beauty, and elegance, gave an interest to the action which came home to her feelings.\n",
    "\n",
    "# She thanked him again and again; [...] he then departed, to make himself still more interesting, in the midst of a heavy rain.\n",
    "\n",
    "# His manly beauty and more than common gracefulness were instantly the theme of general admiration, and the laugh which his gallantry raised against Marianne received particular spirit from his exterior attractions.\n",
    "\n",
    "# \"\"\",period='C18')"
   ]
  },
  {
   "cell_type": "code",
   "execution_count": null,
   "metadata": {},
   "outputs": [],
   "source": []
  },
  {
   "cell_type": "code",
   "execution_count": 176,
   "metadata": {},
   "outputs": [],
   "source": [
    "# dopsg(\"\"\"\n",
    "# A gentleman carrying a gun, with two pointers playing round him, was passing up the hill and within a few yards of Marianne, when her accident happened. He put down his gun and ran to her assistance. She had raised herself from the ground, but her foot had been twisted in her fall, and she was scarcely able to stand. The gentleman offered his services; and perceiving that her modesty declined what her situation rendered necessary, took her up in his arms without farther delay, and carried her down the hill. [...]\n",
    "\n",
    "# Elinor and her mother rose up in amazement at their entrance, and while the eyes of both were fixed on him with an evident wonder and a secret admiration which equally sprung from his appearance, he apologized for his intrusion by relating its cause, in a manner so frank and so graceful that his person, which was uncommonly handsome, received additional charms from his voice and expression. Had he been even old, ugly, and vulgar, the gratitude and kindness of Mrs. Dashwood would have been secured by any act of attention to her child; but the influence of youth, beauty, and elegance, gave an interest to the action which came home to her feelings. [...]\n",
    "\n",
    "# His manly beauty and more than common gracefulness were instantly the theme of general admiration, and the laugh which his gallantry raised against Marianne received particular spirit from his exterior attractions.\n",
    "# \"\"\",period='C18')"
   ]
  },
  {
   "cell_type": "code",
   "execution_count": 177,
   "metadata": {},
   "outputs": [
    {
     "data": {
      "text/markdown": [
       "> A *gentleman* *carrying* a ```gun```, with two ```pointers``` *playing* ```round``` him, was *passing* up the ```hill``` and within a few ```yards``` of Marianne, when her *accident* *happened*.[... ]The *gentleman* ***offered*** his ***services***; and *perceiving* that her ***modesty* *declined*** what her ***situation* *rendered*** necessary, took her up in his ```arms``` without farther ***delay***, and *carried* her down the ```hill```.[... ]\n",
       "> \n",
       "> Elinor and her mother ```rose``` up in *amazement* at their *entrance*, and while the *eyes* of both were *fixed* on him with an ***evident*** wonder and a ***secret* *admiration*** which ***equally*** *sprung* from his *appearance*, he ***apologized*** for his ***intrusion*** by ***relating*** its cause, in a manner so ***frank*** and so *graceful* that his person, which was *uncommonly* *handsome*, ***received*** *additional* *charms* from his *voice* and ***expression***. Had he been even old, *ugly*, and ***vulgar***, the ***gratitude*** and ***kindness*** of Mrs. Dashwood would have been *secured* by any act of ***attention*** to her child; but the ***influence*** of *youth*, *beauty*, and *elegance*, gave an interest to the ***action*** which came home to her ***feelings***.[... ]\n",
       "> \n",
       "> His *manly* *beauty* and more than *common* ***gracefulness*** were *instantly* the *theme* of ***general* *admiration***, and the *laugh* which his ***gallantry*** *raised* against Marianne ***received*** particular ***spirit*** from his *exterior* ***attractions***."
      ],
      "text/plain": [
       "<IPython.core.display.Markdown object>"
      ]
     },
     "metadata": {},
     "output_type": "display_data"
    },
    {
     "name": "stdout",
     "output_type": "stream",
     "text": [
      "\n",
      "\n",
      "> A *gentleman* *carrying* a ```gun```, with two ```pointers``` *playing* ```round``` him, was *passing* up the ```hill``` and within a few ```yards``` of Marianne, when her *accident* *happened*.[... ]The *gentleman* ***offered*** his ***services***; and *perceiving* that her ***modesty* *declined*** what her ***situation* *rendered*** necessary, took her up in his ```arms``` without farther ***delay***, and *carried* her down the ```hill```.[... ]\n",
      "> \n",
      "> Elinor and her mother ```rose``` up in *amazement* at their *entrance*, and while the *eyes* of both were *fixed* on him with an ***evident*** wonder and a ***secret* *admiration*** which ***equally*** *sprung* from his *appearance*, he ***apologized*** for his ***intrusion*** by ***relating*** its cause, in a manner so ***frank*** and so *graceful* that his person, which was *uncommonly* *handsome*, ***received*** *additional* *charms* from his *voice* and ***expression***. Had he been even old, *ugly*, and ***vulgar***, the ***gratitude*** and ***kindness*** of Mrs. Dashwood would have been *secured* by any act of ***attention*** to her child; but the ***influence*** of *youth*, *beauty*, and *elegance*, gave an interest to the ***action*** which came home to her ***feelings***.[... ]\n",
      "> \n",
      "> His *manly* *beauty* and more than *common* ***gracefulness*** were *instantly* the *theme* of ***general* *admiration***, and the *laugh* which his ***gallantry*** *raised* against Marianne ***received*** particular ***spirit*** from his *exterior* ***attractions***. (203 words; 73 content words; 31 abstract, 8 concrete, 34 neutral/ambig; A-C = 23)\n",
      "\n"
     ]
    }
   ],
   "source": [
    "dopsg(\"\"\"\n",
    "A gentleman carrying a gun, with two pointers playing round him, was passing up the hill and within a few yards of Marianne, when her accident happened. [...] The gentleman offered his services; and perceiving that her modesty declined what her situation rendered necessary, took her up in his arms without farther delay, and carried her down the hill. [...]\n",
    "\n",
    "Elinor and her mother rose up in amazement at their entrance, and while the eyes of both were fixed on him with an evident wonder and a secret admiration which equally sprung from his appearance, he apologized for his intrusion by relating its cause, in a manner so frank and so graceful that his person, which was uncommonly handsome, received additional charms from his voice and expression. Had he been even old, ugly, and vulgar, the gratitude and kindness of Mrs. Dashwood would have been secured by any act of attention to her child; but the influence of youth, beauty, and elegance, gave an interest to the action which came home to her feelings. [...]\n",
    "\n",
    "His manly beauty and more than common gracefulness were instantly the theme of general admiration, and the laugh which his gallantry raised against Marianne received particular spirit from his exterior attractions.\n",
    "\"\"\",period='C18')"
   ]
  },
  {
   "cell_type": "code",
   "execution_count": null,
   "metadata": {},
   "outputs": [],
   "source": []
  },
  {
   "cell_type": "markdown",
   "metadata": {},
   "source": [
    "## Short versions"
   ]
  },
  {
   "cell_type": "code",
   "execution_count": 178,
   "metadata": {},
   "outputs": [
    {
     "data": {
      "text/markdown": [
       "> He had *large* ```white teeth``` which he kept always a little ```bared``` and a ```loose``` body ```poised``` somewhere between *muscle* and ```fat```, but his ```head``` was ```small``` and *narrow*, with ```sparse```, almost *colourless* ```hair``` that *grew* in ```spikes``` back from his ```forehead``` and *colourless* ```eyelashes``` that were *hidden* for now behind ```dark glasses```. His *eyebrows*, however, were *fierce* and ```straight``` and *black*. When the ```waitress``` came he took the ```glasses``` off and I saw his *eyes*, two ```small bright blue chips``` in slightly *reddened* *whites*."
      ],
      "text/plain": [
       "<IPython.core.display.Markdown object>"
      ]
     },
     "metadata": {},
     "output_type": "display_data"
    },
    {
     "name": "stdout",
     "output_type": "stream",
     "text": [
      "\n",
      "\n",
      "> He had *large* ```white teeth``` which he kept always a little ```bared``` and a ```loose``` body ```poised``` somewhere between *muscle* and ```fat```, but his ```head``` was ```small``` and *narrow*, with ```sparse```, almost *colourless* ```hair``` that *grew* in ```spikes``` back from his ```forehead``` and *colourless* ```eyelashes``` that were *hidden* for now behind ```dark glasses```. His *eyebrows*, however, were *fierce* and ```straight``` and *black*. When the ```waitress``` came he took the ```glasses``` off and I saw his *eyes*, two ```small bright blue chips``` in slightly *reddened* *whites*. (85 words; 35 content words; 0 abstract, 22 concrete, 13 neutral/ambig; A-C = -22)\n",
      "\n"
     ]
    }
   ],
   "source": [
    "dopsg(\"\"\"\n",
    "He had large white teeth which he kept always a  little bared and a loose body poised somewhere between muscle and fat, but his  head was small and narrow, with sparse, almost colourless hair that grew in  spikes back from his forehead and colourless eyelashes that were hidden for now  behind dark glasses. His eyebrows, however, were fierce and straight and black.  When the waitress came he took the glasses off and I saw his eyes, two small  bright blue chips in slightly reddened whites.\n",
    "\"\"\",period='C20')"
   ]
  },
  {
   "cell_type": "code",
   "execution_count": 179,
   "metadata": {},
   "outputs": [
    {
     "data": {
      "text/markdown": [
       "> a manner so ***frank*** and so *graceful* that his person, which was *uncommonly* *handsome*, ***received*** *additional* *charms* from his *voice* and ***expression***. Had he been even old, *ugly*, and ***vulgar***, the ***gratitude*** and ***kindness*** of Mrs. Dashwood would have been *secured* by any act of ***attention*** to her child; but the ***influence*** of *youth*, *beauty*, and *elegance*, gave an interest to the ***action*** which came home to her ***feelings***.[... ]His *manly* *beauty* and more than *common* ***gracefulness*** were *instantly* the *theme* of ***general* *admiration***, and the *laugh* which his ***gallantry*** *raised* against Marianne ***received*** particular ***spirit*** from his *exterior* ***attractions***."
      ],
      "text/plain": [
       "<IPython.core.display.Markdown object>"
      ]
     },
     "metadata": {},
     "output_type": "display_data"
    },
    {
     "name": "stdout",
     "output_type": "stream",
     "text": [
      "\n",
      "\n",
      "> a manner so ***frank*** and so *graceful* that his person, which was *uncommonly* *handsome*, ***received*** *additional* *charms* from his *voice* and ***expression***. Had he been even old, *ugly*, and ***vulgar***, the ***gratitude*** and ***kindness*** of Mrs. Dashwood would have been *secured* by any act of ***attention*** to her child; but the ***influence*** of *youth*, *beauty*, and *elegance*, gave an interest to the ***action*** which came home to her ***feelings***.[... ]His *manly* *beauty* and more than *common* ***gracefulness*** were *instantly* the *theme* of ***general* *admiration***, and the *laugh* which his ***gallantry*** *raised* against Marianne ***received*** particular ***spirit*** from his *exterior* ***attractions***. (100 words; 36 content words; 17 abstract, 0 concrete, 19 neutral/ambig; A-C = 17)\n",
      "\n"
     ]
    }
   ],
   "source": [
    "dopsg(\"\"\"a manner so frank and so graceful that his person, which was uncommonly handsome, received additional charms from his voice and expression. Had he been even old, ugly, and vulgar, the gratitude and kindness of Mrs. Dashwood would have been secured by any act of attention to her child; but the influence of youth, beauty, and elegance, gave an interest to the action which came home to her feelings. [...] His manly beauty and more than common gracefulness were instantly the theme of general admiration, and the laugh which his gallantry raised against Marianne received particular spirit from his exterior attractions.\n",
    "\"\"\",period='C18')"
   ]
  },
  {
   "cell_type": "code",
   "execution_count": null,
   "metadata": {},
   "outputs": [],
   "source": []
  },
  {
   "cell_type": "code",
   "execution_count": null,
   "metadata": {},
   "outputs": [],
   "source": []
  }
 ],
 "metadata": {
  "kernelspec": {
   "display_name": "Python 3.7.7 64-bit ('base': conda)",
   "language": "python",
   "name": "python37764bitbaseconda5ed38c30243b41668822dceb9f7e86f8"
  },
  "language_info": {
   "codemirror_mode": {
    "name": "ipython",
    "version": 3
   },
   "file_extension": ".py",
   "mimetype": "text/x-python",
   "name": "python",
   "nbconvert_exporter": "python",
   "pygments_lexer": "ipython3",
   "version": "3.7.7"
  },
  "toc": {
   "base_numbering": 1,
   "nav_menu": {},
   "number_sections": false,
   "sideBar": false,
   "skip_h1_title": false,
   "title_cell": "Table of Contents",
   "title_sidebar": "Contents",
   "toc_cell": false,
   "toc_position": {},
   "toc_section_display": false,
   "toc_window_display": false
  }
 },
 "nbformat": 4,
 "nbformat_minor": 4
}
