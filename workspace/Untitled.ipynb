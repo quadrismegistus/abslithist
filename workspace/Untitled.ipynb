{
 "cells": [
  {
   "cell_type": "code",
   "execution_count": 11,
   "metadata": {},
   "outputs": [],
   "source": [
    "import lltk\n",
    "# C=lltk.install('oldbailey')"
   ]
  },
  {
   "cell_type": "code",
   "execution_count": 15,
   "metadata": {},
   "outputs": [
    {
     "data": {
      "text/markdown": [
       "| name                | desc                                                                                                                                                                      | license                                                                     | metadata                                                                          | freqs                                                                   | txt   | xml                                                                   | raw                                                                   |\n",
       "|:--------------------|:--------------------------------------------------------------------------------------------------------------------------------------------------------------------------|:----------------------------------------------------------------------------|:----------------------------------------------------------------------------------|:------------------------------------------------------------------------|:------|:----------------------------------------------------------------------|:----------------------------------------------------------------------|\n",
       "| ARTFL               | [American and French Research on the Treasury of the French Language](https://artfl-project.uchicago.edu)                                                                 | Academic                                                                    | ☂                                                                                 | ☂                                                                       |       |                                                                       | ✓                                                                     |\n",
       "| BPO                 | [British Periodicals Online](https://proquest.libguides.com/britishperiodicals)                                                                                           | Commercial                                                                  | ☂                                                                                 |                                                                         |       |                                                                       | ☂                                                                     |\n",
       "| CLMET               | [Corpus of Late Modern English Texts](https://perswww.kuleuven.be/~u0044428/clmet3_0.htm)                                                                                 | [Academic](https://ota.bodleian.ox.ac.uk/repository/xmlui/page/licence-ota) | ✓                                                                                 | ✓                                                                       | ☂     | ☂                                                                     |                                                                       |\n",
       "| COCA                | [Corpus of Contemporary American English](https://www.english-corpora.org/coca/)                                                                                          | Commercial                                                                  | ☂                                                                                 | ☂                                                                       | ☂     |                                                                       | ☂                                                                     |\n",
       "| COHA                | [Corpus of Historical American English](https://www.english-corpora.org/coha/)                                                                                            | Commercial                                                                  | ☂                                                                                 | ☂                                                                       | ☂     |                                                                       | ☂                                                                     |\n",
       "| Chadwyck            | [Chadwyck-Healey Fiction Collections](http://collections.chadwyck.co.uk/marketing/list_of_all.jsp)                                                                        | Mixed                                                                       | ✓                                                                                 | ✓                                                                       | ☂     | ☂                                                                     | ☂                                                                     |\n",
       "| ChadwyckDrama       | [Chadwyck-Healey Drama Collections](http://collections.chadwyck.co.uk/marketing/list_of_all.jsp)                                                                          | Mixed                                                                       | ☂                                                                                 | ☂                                                                       | ☂     | ☂                                                                     | ☂                                                                     |\n",
       "| ChadwyckPoetry      | [Chadwyck-Healey Poetry Collections](http://collections.chadwyck.co.uk/marketing/list_of_all.jsp)                                                                         | Mixed                                                                       | ☂                                                                                 | ☂                                                                       | ☂     | ☂                                                                     | ☂                                                                     |\n",
       "| Chicago             | [U of Chicago Corpus of C20 Novels](https://textual-optics-lab.uchicago.edu/us_novel_corpus)                                                                              | Academic                                                                    | ✓                                                                                 | ✓                                                                       | ☂     |                                                                       |                                                                       |\n",
       "| DTA                 | [Deutsches Text Archiv](http://www.deutschestextarchiv.de)                                                                                                                | [Free](https://creativecommons.org/licenses/by-sa/4.0/)                     | ✓                                                                                 | ✓                                                                       | ✓     | ✓                                                                     | [↓](http://media.dwds.de/dta/download/dta_komplett_2019-06-05.zip)    |\n",
       "| DialNarr            | [Dialogue and Narration separated in Chadwyck-Healey Novels](https://doi.org/10.1093/llc/fqx031)                                                                          | Academic                                                                    | ✓                                                                                 | ✓                                                                       | ☂     |                                                                       |                                                                       |\n",
       "| ECCO                | [Eighteenth Century Collections Online](https://www.gale.com/intl/primary-sources/eighteenth-century-collections-online)                                                  | Commercial                                                                  | ☂                                                                                 | ☂                                                                       | ☂     | ☂                                                                     | ☂                                                                     |\n",
       "| ECCO_TCP            | [ECCO (Text Creation Partnership)](https://textcreationpartnership.org/tcp-texts/ecco-tcp-eighteenth-century-collections-online/)                                         | Free                                                                        | ✓                                                                                 | ✓                                                                       | ✓     | [↓](https://www.dropbox.com/s/vtv2iw7ujtivqss/ecco_tcp_xml.zip?dl=1)  | ✓                                                                     |\n",
       "| EEBO_TCP            | [Early English Books Online (curated by the Text Creation Partnership)](https://textcreationpartnership.org/tcp-texts/eebo-tcp-early-english-books-online/)               | Free                                                                        | ✓                                                                                 | ✓                                                                       | ✓     | ✓                                                                     |                                                                       |\n",
       "| ESTC                | [English Short Title Catalogue](http://estc.ucr.edu/)                                                                                                                     | Academic                                                                    | ☂                                                                                 |                                                                         |       |                                                                       |                                                                       |\n",
       "| EnglishDialogues    | [A Corpus of English Dialogues, 1560-1760](https://ota.bodleian.ox.ac.uk/repository/xmlui/handle/20.500.12024/2507)                                                       | [Academic](https://ota.bodleian.ox.ac.uk/repository/xmlui/page/licence-ota) | ✓                                                                                 | [↓](https://www.dropbox.com/s/tji67pv89e61wd6/dialogues_freqs.zip?dl=1) | ✓     | [↓](https://www.dropbox.com/s/u07u3mrrom3i9f5/dialogues_xml.zip?dl=1) |                                                                       |\n",
       "| EvansTCP            | [Early American Fiction](https://textcreationpartnership.org/tcp-texts/evans-tcp-evans-early-american-imprints/)                                                          | Free                                                                        | ✓                                                                                 | ✓                                                                       | ✓     | [↓](https://www.dropbox.com/s/yg7hjf536klg04c/evans_tcp_xml.zip?dl=1) | [↓](https://www.dropbox.com/s/05qtu8r2xejqpkh/evans_tcp_raw.zip?dl=1) |\n",
       "| GaleAmericanFiction | [Gale American Fiction, 1774-1920](https://www.gale.com/c/american-fiction-1774-1920)                                                                                     | Academic                                                                    | ✓                                                                                 | ✓                                                                       | ☂     |                                                                       | ☂                                                                     |\n",
       "| GildedAge           | [U.S. Fiction of the Gilded Age](https://doi.org/10.1093/llc/fqv066)                                                                                                      | Academic                                                                    | ✓                                                                                 | ✓                                                                       | ✓     |                                                                       |                                                                       |\n",
       "| HathiBio            | [Biographies from Hathi Trust](https://www.ideals.illinois.edu/handle/2142/99554)                                                                                         | Academic                                                                    | ✓                                                                                 | ✓                                                                       |       |                                                                       | ✓                                                                     |\n",
       "| HathiEngLit         | [Fiction, drama, verse word frequencies from Hathi Trust](https://wiki.htrc.illinois.edu/display/COM/Word+Frequencies+in+English-Language+Literature)                     | Academic                                                                    | ✓                                                                                 | ✓                                                                       |       |                                                                       | ✓                                                                     |\n",
       "| HathiEssays         | [Hathi Trust volumes with \"essay(s)\" in title](https://catalog.hathitrust.org/Search/Home)                                                                                | Academic                                                                    | ✓                                                                                 | ✓                                                                       |       |                                                                       |                                                                       |\n",
       "| HathiLetters        | [Hathi Trust volumes with \"letter(s)\" in title](https://catalog.hathitrust.org/Search/Home)                                                                               | Academic                                                                    | ✓                                                                                 | ✓                                                                       |       |                                                                       |                                                                       |\n",
       "| HathiNovels         | [Hathi Trust volumes with \"novel(s)\" in title](https://catalog.hathitrust.org/Search/Home)                                                                                | Academic                                                                    | ✓                                                                                 | ✓                                                                       |       |                                                                       |                                                                       |\n",
       "| HathiProclamations  | [Hathi Trust volumes with \"proclamation(s)\" in title](https://catalog.hathitrust.org/Search/Home)                                                                         | Academic                                                                    | ✓                                                                                 | ✓                                                                       |       |                                                                       |                                                                       |\n",
       "| HathiSermons        | [Hathi Trust volumes with \"sermon(s)\" in title](https://catalog.hathitrust.org/Search/Home)                                                                               | Academic                                                                    | ✓                                                                                 | ✓                                                                       |       |                                                                       |                                                                       |\n",
       "| HathiStories        | [Hathi Trust volumes with \"story/stories\" in title](https://catalog.hathitrust.org/Search/Home)                                                                           | Academic                                                                    | ✓                                                                                 | ✓                                                                       |       |                                                                       |                                                                       |\n",
       "| HathiTales          | [Hathi Trust volumes with \"tale(s)\" in title](https://catalog.hathitrust.org/Search/Home)                                                                                 | Academic                                                                    | ✓                                                                                 | ✓                                                                       |       |                                                                       |                                                                       |\n",
       "| HathiTreatises      | [Hathi Trust volumes with \"treatise(s)\" in title](https://catalog.hathitrust.org/Search/Home)                                                                             | Academic                                                                    | ✓                                                                                 | ✓                                                                       |       |                                                                       |                                                                       |\n",
       "| InternetArchive     | [19th Century Novels, curated by the U of Illinois and hosted on the Internet Archive](https://archive.org/details/19thcennov?tab=about)                                  | Free                                                                        | [↓](https://www.dropbox.com/s/yymc8t060eik7bt/internet_archive_metadata.zip?dl=1) | ✓                                                                       | ✓     |                                                                       |                                                                       |\n",
       "| LitLab              | [Literary Lab Corpus of 18th and 19th Century Novels](https://litlab.stanford.edu/LiteraryLabPamphlet11.pdf)                                                              | Academic                                                                    | ✓                                                                                 | ✓                                                                       | ☂     |                                                                       |                                                                       |\n",
       "| MarkMark            | [Mark Algee-Hewitt's and Mark McGurl's 20th Century Corpus](https://litlab.stanford.edu/LiteraryLabPamphlet8.pdf)                                                         | Academic                                                                    | ✓                                                                                 | ✓                                                                       | ☂     |                                                                       |                                                                       |\n",
       "| OldBailey           | [Old Bailey Online](https://www.oldbaileyonline.org/)                                                                                                                     | [Free](https://creativecommons.org/licenses/by-nc/4.0/)                     | ✓                                                                                 | ✓                                                                       | ✓     | [↓](https://www.dropbox.com/s/90bsbu7re5tnbtp/oldbailey_xml.zip?dl=1) |                                                                       |\n",
       "| RavenGarside        | [Raven & Garside's Bibliography of English Novels, 1770-1830](https://catalog.hathitrust.org/Record/004098100)                                                            | Academic                                                                    | ☂                                                                                 |                                                                         |       |                                                                       |                                                                       |\n",
       "| SOTU                | [State of the Union Addresses](https://www.kaggle.com/rtatman/state-of-the-union-corpus-1989-2017)                                                                        | Free                                                                        | ✓                                                                                 | ✓                                                                       | ✓     |                                                                       |                                                                       |\n",
       "| Sellars             | [19th Century Texts compiled by Jordan Sellars](http://journalofdigitalhumanities.org/1-2/the-emergence-of-literary-diction-by-ted-underwood-and-jordan-sellers/)         | Free                                                                        | ✓                                                                                 | ✓                                                                       | ✓     |                                                                       |                                                                       |\n",
       "| SemanticCohort      | [Corpus used in \"Semantic Cohort Method\" (2012)](https://litlab.stanford.edu/LiteraryLabPamphlet8.pdf)                                                                    | Free                                                                        | ✓                                                                                 |                                                                         |       |                                                                       |                                                                       |\n",
       "| Spectator           | [The Spectator (1711-1714)](http://www.gutenberg.org/ebooks/12030)                                                                                                        | Free                                                                        | ✓                                                                                 | ✓                                                                       | ✓     |                                                                       |                                                                       |\n",
       "| TedJDH              | [Corpus used in \"Emergence of Literary Diction\" (2012)](http://journalofdigitalhumanities.org/1-2/the-emergence-of-literary-diction-by-ted-underwood-and-jordan-sellers/) | Free                                                                        | ✓                                                                                 | ✓                                                                       | ✓     |                                                                       |                                                                       |\n",
       "| TxtLab              | [A multilingual dataset of 450 novels](https://txtlab.org/2016/01/txtlab450-a-data-set-of-multilingual-novels-for-teaching-and-research)                                  | Free                                                                        | ✓                                                                                 | ✓                                                                       | ✓     |                                                                       | [↓](https://github.com/christofs/txtlab450/archive/master.zip)        |"
      ],
      "text/plain": [
       "<IPython.core.display.Markdown object>"
      ]
     },
     "metadata": {},
     "output_type": "display_data"
    }
   ],
   "source": [
    "lltk.show()"
   ]
  },
  {
   "cell_type": "code",
   "execution_count": 17,
   "metadata": {},
   "outputs": [],
   "source": [
    "C=lltk.load('HathiNovels')"
   ]
  },
  {
   "cell_type": "code",
   "execution_count": 18,
   "metadata": {},
   "outputs": [
    {
     "name": "stderr",
     "output_type": "stream",
     "text": [
      "[HathiEssays] Unzipping hathi_essays_metadata.zip: 100%|██████████| 1/1 [00:00<00:00, 8256.50it/s]\n",
      "[HathiEssays] Unzipping hathi_essays_freqs.zip: 100%|██████████| 7109/7109 [00:08<00:00, 843.68it/s] \n"
     ]
    },
    {
     "data": {
      "text/plain": [
       "<hathi_essays.HathiEssays at 0x7fd1f26d11d0>"
      ]
     },
     "execution_count": 18,
     "metadata": {},
     "output_type": "execute_result"
    }
   ],
   "source": [
    "C.install()"
   ]
  },
  {
   "cell_type": "code",
   "execution_count": null,
   "metadata": {},
   "outputs": [],
   "source": []
  },
  {
   "cell_type": "code",
   "execution_count": 10,
   "metadata": {},
   "outputs": [],
   "source": [
    "# for t in C.meta.query('1780<year<1790')._text:\n",
    "#     print(t.meta)"
   ]
  },
  {
   "cell_type": "code",
   "execution_count": null,
   "metadata": {},
   "outputs": [],
   "source": []
  },
  {
   "cell_type": "code",
   "execution_count": 4,
   "metadata": {},
   "outputs": [
    {
     "ename": "NameError",
     "evalue": "name 'stop' is not defined",
     "output_type": "error",
     "traceback": [
      "\u001b[0;31m---------------------------------------------------------------------------\u001b[0m",
      "\u001b[0;31mNameError\u001b[0m                                 Traceback (most recent call last)",
      "\u001b[0;32m<ipython-input-4-4f76a9dad686>\u001b[0m in \u001b[0;36m<module>\u001b[0;34m\u001b[0m\n\u001b[0;32m----> 1\u001b[0;31m \u001b[0mstop\u001b[0m\u001b[0;34m\u001b[0m\u001b[0;34m\u001b[0m\u001b[0m\n\u001b[0m",
      "\u001b[0;31mNameError\u001b[0m: name 'stop' is not defined"
     ]
    }
   ],
   "source": [
    "stop"
   ]
  },
  {
   "cell_type": "code",
   "execution_count": null,
   "metadata": {},
   "outputs": [],
   "source": [
    "C=lltk.load('txtlab')\n",
    "C"
   ]
  },
  {
   "cell_type": "code",
   "execution_count": null,
   "metadata": {},
   "outputs": [],
   "source": [
    "C.dtm(texts=C.meta[C.meta.language=='English'].id)"
   ]
  },
  {
   "cell_type": "code",
   "execution_count": null,
   "metadata": {},
   "outputs": [],
   "source": [
    "dtm = C.dtm(\n",
    "    texts=C.meta[C.meta.language=='English'],\n",
    "    tfidf=True,\n",
    "    meta=['gender'],\n",
    "    n=5000\n",
    ")\n",
    "dtm"
   ]
  },
  {
   "cell_type": "code",
   "execution_count": null,
   "metadata": {},
   "outputs": [],
   "source": [
    "df = dtm.reset_index().groupby('person').median().T\n",
    "df"
   ]
  },
  {
   "cell_type": "code",
   "execution_count": null,
   "metadata": {},
   "outputs": [],
   "source": [
    "df.sort_values('third',ascending=False)"
   ]
  },
  {
   "cell_type": "code",
   "execution_count": null,
   "metadata": {},
   "outputs": [],
   "source": []
  },
  {
   "cell_type": "code",
   "execution_count": null,
   "metadata": {},
   "outputs": [],
   "source": [
    "C."
   ]
  },
  {
   "cell_type": "code",
   "execution_count": null,
   "metadata": {},
   "outputs": [],
   "source": [
    "import pandas as pd\n",
    "issubclass(C.meta[C.meta.language=='English'].__class__, pd.DataFrame)"
   ]
  },
  {
   "cell_type": "code",
   "execution_count": null,
   "metadata": {},
   "outputs": [],
   "source": [
    "issubclass"
   ]
  },
  {
   "cell_type": "code",
   "execution_count": null,
   "metadata": {},
   "outputs": [],
   "source": []
  }
 ],
 "metadata": {
  "kernelspec": {
   "display_name": "Python 3",
   "language": "python",
   "name": "python3"
  },
  "language_info": {
   "codemirror_mode": {
    "name": "ipython",
    "version": 3
   },
   "file_extension": ".py",
   "mimetype": "text/x-python",
   "name": "python",
   "nbconvert_exporter": "python",
   "pygments_lexer": "ipython3",
   "version": "3.7.7"
  },
  "widgets": {
   "application/vnd.jupyter.widget-state+json": {
    "state": {},
    "version_major": 2,
    "version_minor": 0
   }
  }
 },
 "nbformat": 4,
 "nbformat_minor": 4
}
