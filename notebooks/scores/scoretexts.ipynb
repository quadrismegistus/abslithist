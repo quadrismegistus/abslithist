{
 "cells": [
  {
   "cell_type": "code",
   "execution_count": 2,
   "metadata": {},
   "outputs": [],
   "source": [
    "# Count type 2"
   ]
  },
  {
   "cell_type": "code",
   "execution_count": 3,
   "metadata": {},
   "outputs": [],
   "source": [
    "import sys\n",
    "import mpi_slingshot as sl\n",
    "from mpi_slingshot import write_and_run"
   ]
  },
  {
   "cell_type": "code",
   "execution_count": 22,
   "metadata": {},
   "outputs": [
    {
     "name": "stdout",
     "output_type": "stream",
     "text": [
      "Scoring corpus: HathiEssays\n"
     ]
    }
   ],
   "source": [
    "VERSION='v4'\n",
    "DEFAULT_CORPUS='HathiEssays'\n",
    "CORPUS=sys.argv[1] if len(sys.argv)>1 and not sys.argv[1].startswith('-') else DEFAULT_CORPUS\n",
    "print(f'Scoring corpus: {CORPUS}')"
   ]
  },
  {
   "cell_type": "code",
   "execution_count": 23,
   "metadata": {},
   "outputs": [
    {
     "name": "stdout",
     "output_type": "stream",
     "text": [
      "['/home/ryan/miniconda3/lib/python3.7/site-packages/ipykernel_launcher.py', '-f', '/home/ryan/.local/share/jupyter/runtime/kernel-fc9b6bce-f31c-4036-8697-8bd43f665a1b.json']\n"
     ]
    },
    {
     "ename": "NameError",
     "evalue": "name 'stop' is not defined",
     "output_type": "error",
     "traceback": [
      "\u001b[0;31m---------------------------------------------------------------------------\u001b[0m",
      "\u001b[0;31mNameError\u001b[0m                                 Traceback (most recent call last)",
      "\u001b[0;32m<ipython-input-23-dd1b4af549e1>\u001b[0m in \u001b[0;36m<module>\u001b[0;34m\u001b[0m\n\u001b[1;32m      1\u001b[0m \u001b[0mprint\u001b[0m\u001b[0;34m(\u001b[0m\u001b[0msys\u001b[0m\u001b[0;34m.\u001b[0m\u001b[0margv\u001b[0m\u001b[0;34m)\u001b[0m\u001b[0;34m\u001b[0m\u001b[0;34m\u001b[0m\u001b[0m\n\u001b[0;32m----> 2\u001b[0;31m \u001b[0mstop\u001b[0m\u001b[0;34m\u001b[0m\u001b[0;34m\u001b[0m\u001b[0m\n\u001b[0m",
      "\u001b[0;31mNameError\u001b[0m: name 'stop' is not defined"
     ]
    }
   ],
   "source": [
    "# print(sys.argv)\n",
    "# stop"
   ]
  },
  {
   "cell_type": "code",
   "execution_count": 8,
   "metadata": {},
   "outputs": [],
   "source": [
    "import lltk\n",
    "C=lltk.load(CORPUS)"
   ]
  },
  {
   "cell_type": "code",
   "execution_count": 21,
   "metadata": {},
   "outputs": [],
   "source": [
    "%%write_and_run .count.slingshot.v2.py\n",
    "\n",
    "### SLINGSHOT\n",
    "\n",
    "import sys\n",
    "sys.path.append('../..')\n",
    "from abslithist.words import *\n",
    "import ujson as json\n",
    "\n",
    "dfnorms=get_allnorms()\n",
    "\n",
    "def score_freqs(inpd):\n",
    "    path_freqs=inpd['path_freqs']\n",
    "    try:\n",
    "        with open(path_freqs) as f: freqs=json.load(f)\n",
    "    except Exception as e:\n",
    "        print('!',e)\n",
    "        return []\n",
    "    freql=[w for w,c in freqs.items() for i in range(c)]\n",
    "    freqdf=pd.DataFrame(index=freql)\n",
    "    \n",
    "    # by col\n",
    "#     odf=pd.DataFrame()\n",
    "#     for col in dfnorms.columns:\n",
    "#         scol=dfnorms[col]\n",
    "#         scoldf=freqdf.join(scol.dropna().to_frame(),how='inner')\n",
    "#         # make avg\n",
    "#         avgdf=pd.DataFrame(dict((x,scoldf.agg(x)) for x in ['mean','median','sum','std','size']))\n",
    "#         odf=odf.append(avgdf)\n",
    "#     return odf.rename_axis('norm').reset_index().to_dict('records')\n",
    "    bothdf=freqdf.join(dfnorms)\n",
    "    return dict(bothdf.mean())"
   ]
  },
  {
   "cell_type": "code",
   "execution_count": 10,
   "metadata": {},
   "outputs": [],
   "source": [
    "# prepare objects\n",
    "objects = [\n",
    "    {'id':t.id, 'path_freqs':t.path_freqs}\n",
    "    for t in C.texts()\n",
    "]"
   ]
  },
  {
   "cell_type": "code",
   "execution_count": 17,
   "metadata": {},
   "outputs": [],
   "source": [
    "# objects[0]\n",
    "# paths=[x['path_freqs'] for x in objects]\n",
    "# paths[0]"
   ]
  },
  {
   "cell_type": "code",
   "execution_count": 18,
   "metadata": {},
   "outputs": [],
   "source": [
    "# Counter([x.split('/corpora/')[-1].split('/freqs/')[0] for x in paths])"
   ]
  },
  {
   "cell_type": "code",
   "execution_count": null,
   "metadata": {},
   "outputs": [],
   "source": []
  },
  {
   "cell_type": "code",
   "execution_count": 19,
   "metadata": {},
   "outputs": [],
   "source": [
    "# !ls /home/ryan/lltk_data/corpora/ecco_tcp/freqs/K051430.000.json"
   ]
  },
  {
   "cell_type": "code",
   "execution_count": null,
   "metadata": {},
   "outputs": [],
   "source": []
  },
  {
   "cell_type": "code",
   "execution_count": 20,
   "metadata": {},
   "outputs": [],
   "source": [
    "# score_freqs(objects[0])"
   ]
  },
  {
   "cell_type": "markdown",
   "metadata": {},
   "source": [
    "## Map"
   ]
  },
  {
   "cell_type": "code",
   "execution_count": 9,
   "metadata": {},
   "outputs": [
    {
     "name": "stderr",
     "output_type": "stream",
     "text": [
      "[Slingshot] Preparing input: 100%|██████████| 1809/1809 [00:00<00:00, 168862.44it/s]\n"
     ]
    },
    {
     "data": {
      "text/plain": [
       "'slingshot -code ../../data/scores/v4/CanonFiction/func.py -func score_freqs -pathlist ../../data/scores/v4/CanonFiction/input.jsonl -savedir ../../data/scores/v4/CanonFiction -resume -parallel 4 -resume -nosave'"
      ]
     },
     "execution_count": 9,
     "metadata": {},
     "output_type": "execute_result"
    }
   ],
   "source": [
    "# Slingshot!\n",
    "\n",
    "savedir=f'../../data/scores/v5/{C.name}'\n",
    "\n",
    "cmd = sl.shoot(\n",
    "    func='score_freqs',\n",
    "    path_src='.count.slingshot.v2.py',\n",
    "    objects=objects,\n",
    "    savedir=savedir,\n",
    "    parallel=7\n",
    "#     overwrite=True\n",
    ")\n",
    "cmd"
   ]
  },
  {
   "cell_type": "code",
   "execution_count": 10,
   "metadata": {},
   "outputs": [],
   "source": [
    "!{cmd}"
   ]
  },
  {
   "cell_type": "markdown",
   "metadata": {},
   "source": [
    "## Reduce"
   ]
  },
  {
   "cell_type": "code",
   "execution_count": 15,
   "metadata": {},
   "outputs": [
    {
     "name": "stderr",
     "output_type": "stream",
     "text": [
      "[Slingshot] Reading results.rank=0000.jsonl: 100%|██████████| 453/453 [00:00<00:00, 15060.52it/s]\n",
      "[Slingshot] Reading results.rank=0001.jsonl: 100%|██████████| 452/452 [00:00<00:00, 15945.11it/s]\n",
      "[Slingshot] Reading results.rank=0002.jsonl: 100%|██████████| 452/452 [00:00<00:00, 14671.07it/s]\n",
      "[Slingshot] Reading results.rank=0003.jsonl: 100%|██████████| 452/452 [00:00<00:00, 14629.64it/s]\n"
     ]
    },
    {
     "data": {
      "text/html": [
       "<div>\n",
       "<style scoped>\n",
       "    .dataframe tbody tr th:only-of-type {\n",
       "        vertical-align: middle;\n",
       "    }\n",
       "\n",
       "    .dataframe tbody tr th {\n",
       "        vertical-align: top;\n",
       "    }\n",
       "\n",
       "    .dataframe thead th {\n",
       "        text-align: right;\n",
       "    }\n",
       "</style>\n",
       "<table border=\"1\" class=\"dataframe\">\n",
       "  <thead>\n",
       "    <tr style=\"text-align: right;\">\n",
       "      <th></th>\n",
       "      <th>id</th>\n",
       "      <th>contrast</th>\n",
       "      <th>source</th>\n",
       "      <th>period</th>\n",
       "    </tr>\n",
       "  </thead>\n",
       "  <tbody>\n",
       "    <tr>\n",
       "      <th>0</th>\n",
       "      <td>markmark.Jackson.The_Haunting_of_Hill_Hous.1515</td>\n",
       "      <td>Abs-Conc</td>\n",
       "      <td>LSN-Hapt</td>\n",
       "      <td>C16</td>\n",
       "    </tr>\n",
       "    <tr>\n",
       "      <th>1</th>\n",
       "      <td>markmark.Jackson.The_Haunting_of_Hill_Hous.1515</td>\n",
       "      <td>Abs-Conc</td>\n",
       "      <td>LSN-Imag</td>\n",
       "      <td>C16</td>\n",
       "    </tr>\n",
       "    <tr>\n",
       "      <th>2</th>\n",
       "      <td>markmark.Jackson.The_Haunting_of_Hill_Hous.1515</td>\n",
       "      <td>Abs-Conc</td>\n",
       "      <td>MRC-Conc</td>\n",
       "      <td>C16</td>\n",
       "    </tr>\n",
       "    <tr>\n",
       "      <th>3</th>\n",
       "      <td>markmark.Jackson.The_Haunting_of_Hill_Hous.1515</td>\n",
       "      <td>Abs-Conc</td>\n",
       "      <td>MRC-Imag</td>\n",
       "      <td>C16</td>\n",
       "    </tr>\n",
       "    <tr>\n",
       "      <th>4</th>\n",
       "      <td>markmark.Jackson.The_Haunting_of_Hill_Hous.1515</td>\n",
       "      <td>Abs-Conc</td>\n",
       "      <td>MT-Conc</td>\n",
       "      <td>C16</td>\n",
       "    </tr>\n",
       "    <tr>\n",
       "      <th>...</th>\n",
       "      <td>...</td>\n",
       "      <td>...</td>\n",
       "      <td>...</td>\n",
       "      <td>...</td>\n",
       "    </tr>\n",
       "    <tr>\n",
       "      <th>101243</th>\n",
       "      <td>chadwyck.Flint.The_Life_and_Adventures_o.0260</td>\n",
       "      <td>Abs-Conc</td>\n",
       "      <td>MRC-Imag</td>\n",
       "      <td>orig</td>\n",
       "    </tr>\n",
       "    <tr>\n",
       "      <th>101244</th>\n",
       "      <td>chadwyck.Flint.The_Life_and_Adventures_o.0260</td>\n",
       "      <td>Abs-Conc</td>\n",
       "      <td>MT-Conc</td>\n",
       "      <td>orig</td>\n",
       "    </tr>\n",
       "    <tr>\n",
       "      <th>101245</th>\n",
       "      <td>chadwyck.Flint.The_Life_and_Adventures_o.0260</td>\n",
       "      <td>Abs-Conc</td>\n",
       "      <td>PAV-Conc</td>\n",
       "      <td>orig</td>\n",
       "    </tr>\n",
       "    <tr>\n",
       "      <th>101246</th>\n",
       "      <td>chadwyck.Flint.The_Life_and_Adventures_o.0260</td>\n",
       "      <td>Abs-Conc</td>\n",
       "      <td>PAV-Imag</td>\n",
       "      <td>orig</td>\n",
       "    </tr>\n",
       "    <tr>\n",
       "      <th>101247</th>\n",
       "      <td>chadwyck.Flint.The_Life_and_Adventures_o.0260</td>\n",
       "      <td>Abs-Conc</td>\n",
       "      <td>Median</td>\n",
       "      <td>orig</td>\n",
       "    </tr>\n",
       "  </tbody>\n",
       "</table>\n",
       "<p>101248 rows × 4 columns</p>\n",
       "</div>"
      ],
      "text/plain": [
       "                                                     id  contrast    source  \\\n",
       "0       markmark.Jackson.The_Haunting_of_Hill_Hous.1515  Abs-Conc  LSN-Hapt   \n",
       "1       markmark.Jackson.The_Haunting_of_Hill_Hous.1515  Abs-Conc  LSN-Imag   \n",
       "2       markmark.Jackson.The_Haunting_of_Hill_Hous.1515  Abs-Conc  MRC-Conc   \n",
       "3       markmark.Jackson.The_Haunting_of_Hill_Hous.1515  Abs-Conc  MRC-Imag   \n",
       "4       markmark.Jackson.The_Haunting_of_Hill_Hous.1515  Abs-Conc   MT-Conc   \n",
       "...                                                 ...       ...       ...   \n",
       "101243    chadwyck.Flint.The_Life_and_Adventures_o.0260  Abs-Conc  MRC-Imag   \n",
       "101244    chadwyck.Flint.The_Life_and_Adventures_o.0260  Abs-Conc   MT-Conc   \n",
       "101245    chadwyck.Flint.The_Life_and_Adventures_o.0260  Abs-Conc  PAV-Conc   \n",
       "101246    chadwyck.Flint.The_Life_and_Adventures_o.0260  Abs-Conc  PAV-Imag   \n",
       "101247    chadwyck.Flint.The_Life_and_Adventures_o.0260  Abs-Conc    Median   \n",
       "\n",
       "       period  \n",
       "0         C16  \n",
       "1         C16  \n",
       "2         C16  \n",
       "3         C16  \n",
       "4         C16  \n",
       "...       ...  \n",
       "101243   orig  \n",
       "101244   orig  \n",
       "101245   orig  \n",
       "101246   orig  \n",
       "101247   orig  \n",
       "\n",
       "[101248 rows x 4 columns]"
      ]
     },
     "execution_count": 15,
     "metadata": {},
     "output_type": "execute_result"
    }
   ],
   "source": [
    "old=[]\n",
    "for metadx,dx in sl.stream_results(os.path.join(savedir,'cache')):\n",
    "    if type(dx)!=dict: continue\n",
    "    idx=metadx['id']\n",
    "    for k,v in dx.items():\n",
    "        odx={'id':idx}\n",
    "        odx['contrast'],odx['source'],odx['period']=k.split('.')\n",
    "        old.append(odx)\n",
    "#     break\n",
    "df=pd.DataFrame(old)\n",
    "df"
   ]
  },
  {
   "cell_type": "code",
   "execution_count": 16,
   "metadata": {},
   "outputs": [],
   "source": [
    "df.to_feather(f'../../data/scores/data.corpus_scores.{VERSION}.{C.name}.ft')"
   ]
  },
  {
   "cell_type": "code",
   "execution_count": null,
   "metadata": {},
   "outputs": [],
   "source": []
  }
 ],
 "metadata": {
  "kernelspec": {
   "display_name": "Python 3",
   "language": "python",
   "name": "python3"
  },
  "language_info": {
   "codemirror_mode": {
    "name": "ipython",
    "version": 3
   },
   "file_extension": ".py",
   "mimetype": "text/x-python",
   "name": "python",
   "nbconvert_exporter": "python",
   "pygments_lexer": "ipython3",
   "version": "3.7.7"
  },
  "widgets": {
   "application/vnd.jupyter.widget-state+json": {
    "state": {},
    "version_major": 2,
    "version_minor": 0
   }
  }
 },
 "nbformat": 4,
 "nbformat_minor": 4
}
