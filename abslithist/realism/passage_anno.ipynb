{
 "cells": [
  {
   "cell_type": "markdown",
   "metadata": {},
   "source": [
    "# Prepare"
   ]
  },
  {
   "cell_type": "code",
   "execution_count": null,
   "metadata": {},
   "outputs": [],
   "source": [
    "import sys; sys.path.append('../..')\n",
    "from abslithist.realism import *"
   ]
  },
  {
   "cell_type": "code",
   "execution_count": null,
   "metadata": {},
   "outputs": [],
   "source": [
    "df=get_all_passages()\n",
    "df"
   ]
  },
  {
   "cell_type": "code",
   "execution_count": null,
   "metadata": {},
   "outputs": [],
   "source": [
    "# Make sample\n",
    "def binz(z):\n",
    "    if z>=2: return 'A (z>2)'\n",
    "    if 1<=z<2: return 'B (1<z<2)'\n",
    "    if 0<=z<1: return 'C (0<z<1)'\n",
    "    if -1<=z<0: return 'D (-1<z<0)'\n",
    "    if -2<=z<-1: return 'E (-2<z<-1)'\n",
    "    if z<=-2: return 'F (z<-2)'\n",
    "    return '?'"
   ]
  },
  {
   "cell_type": "code",
   "execution_count": null,
   "metadata": {},
   "outputs": [],
   "source": [
    "df['zbin']=df['abs-conc_z'].apply(binz)\n",
    "df['zbin'].value_counts()"
   ]
  },
  {
   "cell_type": "code",
   "execution_count": null,
   "metadata": {},
   "outputs": [],
   "source": [
    "def biny(y):\n",
    "    return y//25*25\n",
    "df['ybin']=df['year'].apply(biny)"
   ]
  },
  {
   "cell_type": "code",
   "execution_count": null,
   "metadata": {},
   "outputs": [],
   "source": [
    "df.iloc[0]"
   ]
  },
  {
   "cell_type": "code",
   "execution_count": null,
   "metadata": {},
   "outputs": [],
   "source": [
    "sample_by = [\n",
    "    'canon_genre',\n",
    "    'ybin',\n",
    "    'zbin'\n",
    "]"
   ]
  },
  {
   "cell_type": "code",
   "execution_count": null,
   "metadata": {},
   "outputs": [],
   "source": [
    "df_sample=df.groupby(sample_by).sample(n=5,replace=True).drop_duplicates()\n",
    "df_sample"
   ]
  },
  {
   "cell_type": "code",
   "execution_count": null,
   "metadata": {},
   "outputs": [],
   "source": [
    "# convert to prodigy\n",
    "\n",
    "def to_prodigy(ofn,df_sample):\n",
    "    # do not allow overwrite\n",
    "    if os.path.exists(ofn):\n",
    "        print(f'{ofn} already exists!')\n",
    "        return\n",
    "    \n",
    "    with open(ofn,'w') as of:\n",
    "        for d in tqdm(df_sample.sample(frac=1).to_dict('records')):\n",
    "            d2={'text':d['passage']}\n",
    "            d2['meta']=dict((k,v) for k,v in d.items() if k!='passage')\n",
    "            d2str=json.dumps(d2)\n",
    "            of.write(d2str+'\\n')            "
   ]
  },
  {
   "cell_type": "code",
   "execution_count": null,
   "metadata": {},
   "outputs": [],
   "source": [
    "sample_ofn='../../data/psgs/data.psgs.CanonFiction.v1.jsonl'"
   ]
  },
  {
   "cell_type": "code",
   "execution_count": null,
   "metadata": {},
   "outputs": [],
   "source": [
    "to_prodigy(sample_ofn, df_sample)"
   ]
  },
  {
   "cell_type": "code",
   "execution_count": null,
   "metadata": {},
   "outputs": [],
   "source": [
    "# !jupyter labextension install jupyterlab-prodigy"
   ]
  },
  {
   "cell_type": "code",
   "execution_count": null,
   "metadata": {},
   "outputs": [],
   "source": [
    "!cat '../../data/psgs/data.psgs.CanonFiction.v1.jsonl'"
   ]
  },
  {
   "cell_type": "code",
   "execution_count": null,
   "metadata": {},
   "outputs": [],
   "source": []
  },
  {
   "cell_type": "code",
   "execution_count": null,
   "metadata": {},
   "outputs": [],
   "source": []
  }
 ],
 "metadata": {
  "kernelspec": {
   "display_name": "Python 3",
   "language": "python",
   "name": "python3"
  },
  "language_info": {
   "codemirror_mode": {
    "name": "ipython",
    "version": 3
   },
   "file_extension": ".py",
   "mimetype": "text/x-python",
   "name": "python",
   "nbconvert_exporter": "python",
   "pygments_lexer": "ipython3",
   "version": "3.7.7"
  },
  "widgets": {
   "application/vnd.jupyter.widget-state+json": {
    "state": {},
    "version_major": 2,
    "version_minor": 0
   }
  }
 },
 "nbformat": 4,
 "nbformat_minor": 4
}
