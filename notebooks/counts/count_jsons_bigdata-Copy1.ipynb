{
 "cells": [
  {
   "cell_type": "markdown",
   "metadata": {},
   "source": [
    "# Plot Hathi, etc"
   ]
  },
  {
   "cell_type": "code",
   "execution_count": 1,
   "metadata": {},
   "outputs": [],
   "source": [
    "import sys; sys.path.append('../..')\n",
    "from abslithist import *\n",
    "from abslithist.words import *"
   ]
  },
  {
   "cell_type": "markdown",
   "metadata": {},
   "source": [
    "## Input"
   ]
  },
  {
   "cell_type": "code",
   "execution_count": 2,
   "metadata": {},
   "outputs": [],
   "source": [
    "CORPORA = [\n",
    "#     'ARTFL',\n",
    "#     'BPO',\n",
    "    'CLMET',\n",
    "    'COCA',\n",
    "    'COHA',\n",
    "    'CanonFiction',\n",
    "    'Chadwyck',\n",
    "    'ChadwyckDrama',\n",
    "    'ChadwyckPoetry',\n",
    "    'Chicago',\n",
    "#     'DTA',\n",
    "    'DialNarr',\n",
    "    'ECCO',\n",
    "#     'ECCO_LitLang',\n",
    "    'ECCO_TCP',\n",
    "    'EEBO_TCP',\n",
    "#     'ESTC',\n",
    "    'EnglishDialogues',\n",
    "    'FanFic',\n",
    "    'GaleAmericanFiction',\n",
    "    'GildedAge',\n",
    "#     'Hathi',\n",
    "    'HathiBio',\n",
    "    'HathiEngLit',\n",
    "    'HathiEssays',\n",
    "    'HathiLetters',\n",
    "    'HathiNovels',\n",
    "    'HathiProclamations',\n",
    "    'HathiSermons',\n",
    "    'HathiStories',\n",
    "    'HathiTales',\n",
    "    'HathiTreatises',\n",
    "    'InternetArchive',\n",
    "    'JstorDFR',\n",
    "#     'LitHist',\n",
    "#     'LitHistAuthors',\n",
    "#     'LitHistHathi',\n",
    "#     'LitHistProse',\n",
    "#     'LitLab',\n",
    "    'MarkMark',\n",
    "    'NewYorker',\n",
    "    'OldBailey',\n",
    "    'PMLA',\n",
    "#     'RavenGarside',\n",
    "    'SOTU',\n",
    "    'Sellars',\n",
    "#     'SemanticCohort',\n",
    "    'Spectator',\n",
    "    'TedJDH',\n",
    "#     'TxtLab'\n",
    "]"
   ]
  },
  {
   "cell_type": "code",
   "execution_count": 3,
   "metadata": {},
   "outputs": [],
   "source": [
    "# get all paths"
   ]
  },
  {
   "cell_type": "code",
   "execution_count": 4,
   "metadata": {},
   "outputs": [
    {
     "name": "stderr",
     "output_type": "stream",
     "text": [
      "100%|██████████| 1/1 [00:00<00:00, 39.67it/s]\n"
     ]
    }
   ],
   "source": [
    "json_paths = [\n",
    "    t.path_freqs\n",
    "    for cname in tqdm(CORPORA)\n",
    "    for t in lltk.load(cname).texts()\n",
    "]"
   ]
  },
  {
   "cell_type": "code",
   "execution_count": 5,
   "metadata": {},
   "outputs": [
    {
     "data": {
      "text/plain": [
       "10"
      ]
     },
     "execution_count": 5,
     "metadata": {},
     "output_type": "execute_result"
    }
   ],
   "source": [
    "len(json_paths)"
   ]
  },
  {
   "cell_type": "markdown",
   "metadata": {},
   "source": [
    "## Method"
   ]
  },
  {
   "cell_type": "code",
   "execution_count": 6,
   "metadata": {},
   "outputs": [],
   "source": [
    "import mpi_slingshot as sl"
   ]
  },
  {
   "cell_type": "code",
   "execution_count": 7,
   "metadata": {},
   "outputs": [
    {
     "name": "stdout",
     "output_type": "stream",
     "text": [
      "Overwriting .sling.plot_biggerdata.py\n"
     ]
    }
   ],
   "source": [
    "%%writefile .sling.plot_biggerdata.py\n",
    "\n",
    "# load\n",
    "import sys,os\n",
    "sys.path.append(os.path.abspath('../..'))\n",
    "from abslithist import *\n",
    "from abslithist.words import *\n",
    "\n",
    "def parse_json(fnfn):\n",
    "    return count_absconc_json(\n",
    "        fnfn,\n",
    "        periods={},\n",
    "        sources={'Median'}\n",
    "    )"
   ]
  },
  {
   "cell_type": "code",
   "execution_count": 1,
   "metadata": {},
   "outputs": [],
   "source": [
    "# sl.shoot??"
   ]
  },
  {
   "cell_type": "code",
   "execution_count": 9,
   "metadata": {},
   "outputs": [
    {
     "name": "stderr",
     "output_type": "stream",
     "text": [
      "[Slingshot] Preparing input: 100%|██████████| 10/10 [00:00<00:00, 45689.59it/s]\n"
     ]
    },
    {
     "data": {
      "text/plain": [
       "'slingshot -code _data_/parse_json/func.py -func parse_json -pathlist _data_/parse_json/input.jsonl -savedir _data_/parse_json -resume -parallel 1 -resume -nosave'"
      ]
     },
     "execution_count": 9,
     "metadata": {},
     "output_type": "execute_result"
    }
   ],
   "source": [
    "cmd=sl.shoot(\n",
    "    func='parse_json',\n",
    "    path_src='.sling.plot_biggerdata.py',\n",
    "    objects = json_paths,\n",
    "    parallel=6,\n",
    "    resume=True\n",
    ")\n",
    "cmd"
   ]
  },
  {
   "cell_type": "code",
   "execution_count": 10,
   "metadata": {},
   "outputs": [],
   "source": [
    "# !head _data_/parse_json/input.jsonl"
   ]
  },
  {
   "cell_type": "code",
   "execution_count": 11,
   "metadata": {},
   "outputs": [],
   "source": [
    "# stop"
   ]
  },
  {
   "cell_type": "markdown",
   "metadata": {},
   "source": [
    "## Execute!"
   ]
  },
  {
   "cell_type": "code",
   "execution_count": 12,
   "metadata": {},
   "outputs": [
    {
     "name": "stdout",
     "output_type": "stream",
     "text": [
      "Slingshot:   0%|                                                             | 0/10 [00:00<?, ?it/s]>> loading data\n",
      "Slingshot: 100%|████████████████████████████████████████████████████| 10/10 [00:03<00:00,  2.59it/s]\n",
      ">> [Slingshot] Finished parsing in 3.866623 seconds.\n",
      ">> [Slingshot] Finished everything in 3.866637 seconds!\n"
     ]
    }
   ],
   "source": [
    "!{cmd}"
   ]
  },
  {
   "cell_type": "code",
   "execution_count": null,
   "metadata": {},
   "outputs": [],
   "source": []
  }
 ],
 "metadata": {
  "kernelspec": {
   "display_name": "Python 3",
   "language": "python",
   "name": "python3"
  },
  "language_info": {
   "codemirror_mode": {
    "name": "ipython",
    "version": 3
   },
   "file_extension": ".py",
   "mimetype": "text/x-python",
   "name": "python",
   "nbconvert_exporter": "python",
   "pygments_lexer": "ipython3",
   "version": "3.7.7"
  },
  "widgets": {
   "application/vnd.jupyter.widget-state+json": {
    "state": {},
    "version_major": 2,
    "version_minor": 0
   }
  }
 },
 "nbformat": 4,
 "nbformat_minor": 4
}
