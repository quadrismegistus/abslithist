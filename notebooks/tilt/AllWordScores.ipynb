{
 "cells": [
  {
   "cell_type": "code",
   "execution_count": 1,
   "metadata": {},
   "outputs": [],
   "source": [
    "# Score all words\n",
    "import sys; sys.path.append('../..')\n",
    "from abslithist import *"
   ]
  },
  {
   "cell_type": "code",
   "execution_count": 2,
   "metadata": {},
   "outputs": [],
   "source": [
    "corpora = ['CanonFiction']"
   ]
  },
  {
   "cell_type": "code",
   "execution_count": 3,
   "metadata": {},
   "outputs": [],
   "source": [
    "def get_all_scores(corpora,field='Abs-Conc.Median'):\n",
    "    norms = get_allnorms()\n",
    "    words = set(norms.index)\n",
    "    words -= get_stopwords()\n",
    "    norms = norms.loc[words]\n",
    "    for cname in corpora:\n",
    "        C=lltk.load(cname)\n",
    "        mfw=set(C.mfw(n=25000))\n",
    "        for t in tqdm(C.texts(),desc='Scoring texts'):\n",
    "            freqs=t.freqs()\n",
    "            period=to_field_period(t.year)\n",
    "            tfield=field+'.'+period\n",
    "            w2score=dict(zip(norms.index, norms[tfield]))\n",
    "            if freqs:\n",
    "                for w,c in freqs.items():\n",
    "                    if not w in mfw: continue\n",
    "                    if not w in words: continue\n",
    "                    wscore=w2score[w]\n",
    "                    for i in range(c):\n",
    "                        yield {'year':t.year,'score':wscore}\n",
    "#                         yield {'id':t.id, 'score':wscore}\n",
    "#                         yield {'corpus':cname, 'id':t.id, 'word':w, 'score':wscore}"
   ]
  },
  {
   "cell_type": "code",
   "execution_count": 4,
   "metadata": {},
   "outputs": [
    {
     "name": "stdout",
     "output_type": "stream",
     "text": [
      "[CanonFiction] Loading MFW from ~/lltk_data/corpora/canon_fiction/data/mfw/eec2d94bb3c5.ft\n"
     ]
    },
    {
     "name": "stderr",
     "output_type": "stream",
     "text": [
      "Scoring texts:   0%|          | 0/1809 [00:00<?, ?it/s]\n"
     ]
    },
    {
     "data": {
      "text/plain": [
       "{'year': 1958, 'score': -0.2489892948268575}"
      ]
     },
     "execution_count": 4,
     "metadata": {},
     "output_type": "execute_result"
    }
   ],
   "source": [
    "next(get_all_scores(corpora))"
   ]
  },
  {
   "cell_type": "code",
   "execution_count": 5,
   "metadata": {},
   "outputs": [],
   "source": [
    "ofn='../../data/scores/tilt.scores.ft'\n",
    "if os.path.exists(ofn):\n",
    "    all_scores=pd.read_feather(ofn)\n",
    "else:\n",
    "    all_scores = pd.DataFrame(get_all_scores(corpora))\n",
    "    all_scores.to_feather(ofn)"
   ]
  },
  {
   "cell_type": "code",
   "execution_count": 8,
   "metadata": {},
   "outputs": [
    {
     "data": {
      "text/html": [
       "<div>\n",
       "<style scoped>\n",
       "    .dataframe tbody tr th:only-of-type {\n",
       "        vertical-align: middle;\n",
       "    }\n",
       "\n",
       "    .dataframe tbody tr th {\n",
       "        vertical-align: top;\n",
       "    }\n",
       "\n",
       "    .dataframe thead th {\n",
       "        text-align: right;\n",
       "    }\n",
       "</style>\n",
       "<table border=\"1\" class=\"dataframe\">\n",
       "  <thead>\n",
       "    <tr style=\"text-align: right;\">\n",
       "      <th></th>\n",
       "      <th>year</th>\n",
       "      <th>score</th>\n",
       "    </tr>\n",
       "  </thead>\n",
       "  <tbody>\n",
       "    <tr>\n",
       "      <th>0</th>\n",
       "      <td>1958</td>\n",
       "      <td>-0.248989</td>\n",
       "    </tr>\n",
       "    <tr>\n",
       "      <th>1</th>\n",
       "      <td>1958</td>\n",
       "      <td>-0.248989</td>\n",
       "    </tr>\n",
       "    <tr>\n",
       "      <th>2</th>\n",
       "      <td>1958</td>\n",
       "      <td>-0.248989</td>\n",
       "    </tr>\n",
       "    <tr>\n",
       "      <th>3</th>\n",
       "      <td>1958</td>\n",
       "      <td>-0.248989</td>\n",
       "    </tr>\n",
       "    <tr>\n",
       "      <th>4</th>\n",
       "      <td>1958</td>\n",
       "      <td>-0.248989</td>\n",
       "    </tr>\n",
       "    <tr>\n",
       "      <th>...</th>\n",
       "      <td>...</td>\n",
       "      <td>...</td>\n",
       "    </tr>\n",
       "    <tr>\n",
       "      <th>47868906</th>\n",
       "      <td>-400</td>\n",
       "      <td>0.477792</td>\n",
       "    </tr>\n",
       "    <tr>\n",
       "      <th>47868907</th>\n",
       "      <td>-400</td>\n",
       "      <td>-1.219819</td>\n",
       "    </tr>\n",
       "    <tr>\n",
       "      <th>47868908</th>\n",
       "      <td>-400</td>\n",
       "      <td>-0.542942</td>\n",
       "    </tr>\n",
       "    <tr>\n",
       "      <th>47868909</th>\n",
       "      <td>-400</td>\n",
       "      <td>0.310845</td>\n",
       "    </tr>\n",
       "    <tr>\n",
       "      <th>47868910</th>\n",
       "      <td>-400</td>\n",
       "      <td>-0.120779</td>\n",
       "    </tr>\n",
       "  </tbody>\n",
       "</table>\n",
       "<p>47868911 rows × 2 columns</p>\n",
       "</div>"
      ],
      "text/plain": [
       "          year     score\n",
       "0         1958 -0.248989\n",
       "1         1958 -0.248989\n",
       "2         1958 -0.248989\n",
       "3         1958 -0.248989\n",
       "4         1958 -0.248989\n",
       "...        ...       ...\n",
       "47868906  -400  0.477792\n",
       "47868907  -400 -1.219819\n",
       "47868908  -400 -0.542942\n",
       "47868909  -400  0.310845\n",
       "47868910  -400 -0.120779\n",
       "\n",
       "[47868911 rows x 2 columns]"
      ]
     },
     "execution_count": 8,
     "metadata": {},
     "output_type": "execute_result"
    }
   ],
   "source": [
    "all_scores"
   ]
  },
  {
   "cell_type": "code",
   "execution_count": 9,
   "metadata": {},
   "outputs": [
    {
     "data": {
      "text/html": [
       "<div>\n",
       "<style scoped>\n",
       "    .dataframe tbody tr th:only-of-type {\n",
       "        vertical-align: middle;\n",
       "    }\n",
       "\n",
       "    .dataframe tbody tr th {\n",
       "        vertical-align: top;\n",
       "    }\n",
       "\n",
       "    .dataframe thead th {\n",
       "        text-align: right;\n",
       "    }\n",
       "</style>\n",
       "<table border=\"1\" class=\"dataframe\">\n",
       "  <thead>\n",
       "    <tr style=\"text-align: right;\">\n",
       "      <th></th>\n",
       "      <th>year</th>\n",
       "      <th>score</th>\n",
       "    </tr>\n",
       "  </thead>\n",
       "  <tbody>\n",
       "    <tr>\n",
       "      <th>0</th>\n",
       "      <td>1958</td>\n",
       "      <td>-0.248989</td>\n",
       "    </tr>\n",
       "    <tr>\n",
       "      <th>1</th>\n",
       "      <td>1958</td>\n",
       "      <td>-0.248989</td>\n",
       "    </tr>\n",
       "    <tr>\n",
       "      <th>2</th>\n",
       "      <td>1958</td>\n",
       "      <td>-0.248989</td>\n",
       "    </tr>\n",
       "    <tr>\n",
       "      <th>3</th>\n",
       "      <td>1958</td>\n",
       "      <td>-0.248989</td>\n",
       "    </tr>\n",
       "    <tr>\n",
       "      <th>4</th>\n",
       "      <td>1958</td>\n",
       "      <td>-0.248989</td>\n",
       "    </tr>\n",
       "    <tr>\n",
       "      <th>...</th>\n",
       "      <td>...</td>\n",
       "      <td>...</td>\n",
       "    </tr>\n",
       "    <tr>\n",
       "      <th>47840522</th>\n",
       "      <td>1611</td>\n",
       "      <td>1.655414</td>\n",
       "    </tr>\n",
       "    <tr>\n",
       "      <th>47840523</th>\n",
       "      <td>1611</td>\n",
       "      <td>0.806341</td>\n",
       "    </tr>\n",
       "    <tr>\n",
       "      <th>47840524</th>\n",
       "      <td>1611</td>\n",
       "      <td>NaN</td>\n",
       "    </tr>\n",
       "    <tr>\n",
       "      <th>47840525</th>\n",
       "      <td>1611</td>\n",
       "      <td>1.193068</td>\n",
       "    </tr>\n",
       "    <tr>\n",
       "      <th>47840526</th>\n",
       "      <td>1611</td>\n",
       "      <td>-1.422943</td>\n",
       "    </tr>\n",
       "  </tbody>\n",
       "</table>\n",
       "<p>45187068 rows × 2 columns</p>\n",
       "</div>"
      ],
      "text/plain": [
       "          year     score\n",
       "0         1958 -0.248989\n",
       "1         1958 -0.248989\n",
       "2         1958 -0.248989\n",
       "3         1958 -0.248989\n",
       "4         1958 -0.248989\n",
       "...        ...       ...\n",
       "47840522  1611  1.655414\n",
       "47840523  1611  0.806341\n",
       "47840524  1611       NaN\n",
       "47840525  1611  1.193068\n",
       "47840526  1611 -1.422943\n",
       "\n",
       "[45187068 rows x 2 columns]"
      ]
     },
     "execution_count": 9,
     "metadata": {},
     "output_type": "execute_result"
    }
   ],
   "source": [
    "dfq=all_scores.query('1600<=year<2000')\n",
    "dfq"
   ]
  },
  {
   "cell_type": "code",
   "execution_count": 10,
   "metadata": {},
   "outputs": [
    {
     "name": "stderr",
     "output_type": "stream",
     "text": [
      "100%|██████████| 45187068/45187068 [00:29<00:00, 1550551.89it/s]\n"
     ]
    }
   ],
   "source": [
    "dfq['period']=dfq.year.progress_apply(to_cent)"
   ]
  },
  {
   "cell_type": "code",
   "execution_count": 11,
   "metadata": {},
   "outputs": [
    {
     "data": {
      "text/html": [
       "<div>\n",
       "<style scoped>\n",
       "    .dataframe tbody tr th:only-of-type {\n",
       "        vertical-align: middle;\n",
       "    }\n",
       "\n",
       "    .dataframe tbody tr th {\n",
       "        vertical-align: top;\n",
       "    }\n",
       "\n",
       "    .dataframe thead th {\n",
       "        text-align: right;\n",
       "    }\n",
       "</style>\n",
       "<table border=\"1\" class=\"dataframe\">\n",
       "  <thead>\n",
       "    <tr style=\"text-align: right;\">\n",
       "      <th></th>\n",
       "      <th>year</th>\n",
       "      <th>score</th>\n",
       "      <th>period</th>\n",
       "    </tr>\n",
       "  </thead>\n",
       "  <tbody>\n",
       "    <tr>\n",
       "      <th>47082276</th>\n",
       "      <td>1621</td>\n",
       "      <td>-0.477538</td>\n",
       "      <td>C17</td>\n",
       "    </tr>\n",
       "    <tr>\n",
       "      <th>1021887</th>\n",
       "      <td>1696</td>\n",
       "      <td>0.188569</td>\n",
       "      <td>C17</td>\n",
       "    </tr>\n",
       "    <tr>\n",
       "      <th>37144618</th>\n",
       "      <td>1600</td>\n",
       "      <td>0.150548</td>\n",
       "      <td>C17</td>\n",
       "    </tr>\n",
       "    <tr>\n",
       "      <th>33959708</th>\n",
       "      <td>1635</td>\n",
       "      <td>-0.108174</td>\n",
       "      <td>C17</td>\n",
       "    </tr>\n",
       "    <tr>\n",
       "      <th>3079883</th>\n",
       "      <td>1627</td>\n",
       "      <td>-1.072318</td>\n",
       "      <td>C17</td>\n",
       "    </tr>\n",
       "    <tr>\n",
       "      <th>...</th>\n",
       "      <td>...</td>\n",
       "      <td>...</td>\n",
       "      <td>...</td>\n",
       "    </tr>\n",
       "    <tr>\n",
       "      <th>31736566</th>\n",
       "      <td>1939</td>\n",
       "      <td>-0.401427</td>\n",
       "      <td>C20</td>\n",
       "    </tr>\n",
       "    <tr>\n",
       "      <th>44682600</th>\n",
       "      <td>1987</td>\n",
       "      <td>0.474647</td>\n",
       "      <td>C20</td>\n",
       "    </tr>\n",
       "    <tr>\n",
       "      <th>44477591</th>\n",
       "      <td>1958</td>\n",
       "      <td>-0.987448</td>\n",
       "      <td>C20</td>\n",
       "    </tr>\n",
       "    <tr>\n",
       "      <th>28827236</th>\n",
       "      <td>1940</td>\n",
       "      <td>1.622428</td>\n",
       "      <td>C20</td>\n",
       "    </tr>\n",
       "    <tr>\n",
       "      <th>16592076</th>\n",
       "      <td>1995</td>\n",
       "      <td>-0.328473</td>\n",
       "      <td>C20</td>\n",
       "    </tr>\n",
       "  </tbody>\n",
       "</table>\n",
       "<p>4000000 rows × 3 columns</p>\n",
       "</div>"
      ],
      "text/plain": [
       "          year     score period\n",
       "47082276  1621 -0.477538    C17\n",
       "1021887   1696  0.188569    C17\n",
       "37144618  1600  0.150548    C17\n",
       "33959708  1635 -0.108174    C17\n",
       "3079883   1627 -1.072318    C17\n",
       "...        ...       ...    ...\n",
       "31736566  1939 -0.401427    C20\n",
       "44682600  1987  0.474647    C20\n",
       "44477591  1958 -0.987448    C20\n",
       "28827236  1940  1.622428    C20\n",
       "16592076  1995 -0.328473    C20\n",
       "\n",
       "[4000000 rows x 3 columns]"
      ]
     },
     "execution_count": 11,
     "metadata": {},
     "output_type": "execute_result"
    }
   ],
   "source": [
    "dfqg=dfq.groupby('period').sample(n=1000000)\n",
    "dfqg"
   ]
  },
  {
   "cell_type": "code",
   "execution_count": null,
   "metadata": {},
   "outputs": [],
   "source": [
    "lltk"
   ]
  },
  {
   "cell_type": "code",
   "execution_count": null,
   "metadata": {},
   "outputs": [],
   "source": []
  },
  {
   "cell_type": "code",
   "execution_count": null,
   "metadata": {},
   "outputs": [],
   "source": [
    "# !ls -ltrh ../../data/scores/"
   ]
  },
  {
   "cell_type": "code",
   "execution_count": null,
   "metadata": {},
   "outputs": [],
   "source": []
  }
 ],
 "metadata": {
  "kernelspec": {
   "display_name": "Python 3",
   "language": "python",
   "name": "python3"
  },
  "language_info": {
   "codemirror_mode": {
    "name": "ipython",
    "version": 3
   },
   "file_extension": ".py",
   "mimetype": "text/x-python",
   "name": "python",
   "nbconvert_exporter": "python",
   "pygments_lexer": "ipython3",
   "version": "3.7.7"
  },
  "widgets": {
   "application/vnd.jupyter.widget-state+json": {
    "state": {},
    "version_major": 2,
    "version_minor": 0
   }
  }
 },
 "nbformat": 4,
 "nbformat_minor": 4
}
